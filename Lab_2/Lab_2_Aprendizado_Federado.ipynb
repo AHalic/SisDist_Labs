{
  "cells": [
    {
      "cell_type": "markdown",
      "metadata": {
        "id": "nGCwhCOx_9BR"
      },
      "source": [
        "<h1><center>Sistemas Distribuídos – 2023/1\n",
        "\n",
        "Prof. Rodolfo da Silva Villaça – rodolfo.villaca@ufes.br \\\\\n",
        "Monitor: Eduardo M. Moraes Sarmento – eduardo.sarmento@ufes.br\n",
        "\n",
        "Laboratório II – Aprendizado Federado usando a biblioteca Flower</h1></center>"
      ]
    },
    {
      "cell_type": "markdown",
      "metadata": {
        "id": "HfbB0PxwAq-q"
      },
      "source": [
        "<u>Objetivo</u>:\\\n",
        "Experimentar o treinamento de modelos de aprendizado de máquina por meio do *framework* de aprendizado *flwr*, disponível na biblioteca *flower* Comparar os resultados atingidos pelo modelo treinado de maneira local e federada."
      ]
    },
    {
      "cell_type": "markdown",
      "metadata": {
        "id": "Uh8VLSKIFsFV"
      },
      "source": [
        "Este roteiro de laboratório foi testado usando o [Google Colab](https://colab.research.google.com/), ambiente de desenvolvimento colaborativo Python disponibilizado pelo Google como um serviço em nuvem.\\\n",
        "\\\n",
        "Para a execução do código deste roteiro são necessárias as bibliotecas *tensorflow* (versão 2.12.0), *numpy* (versão 1.22.4), *ray* (versão 2.2.0), *matplotlib* (versão 3.7.1) e *flower* (versão 1.3.0). As quatro primeiras já vem instaladas no **Google Colab**,. ntão, caso esteja executando por ele, não é necessária sua instalação. A biblioteca flower não vem instalada,  então precisamos instalá-la, e também o seu módulo de simulação, para podermos simular o treinamento federado no *notebook*."
      ]
    },
    {
      "cell_type": "markdown",
      "metadata": {
        "id": "CzNS6Vh14t8O"
      },
      "source": [
        "A célula seguinte executa a instalação de todas as bibliotecas necessárias. Caso esteja fora do Colab, é preciso descomentar as linhas de 3 a 5."
      ]
    },
    {
      "cell_type": "code",
      "execution_count": 1,
      "metadata": {
        "colab": {
          "base_uri": "https://localhost:8080/"
        },
        "id": "ZR5l58I7JhXc",
        "outputId": "3ec18206-0a9e-4af3-8ac4-a4d5802098ef"
      },
      "outputs": [
        {
          "name": "stdout",
          "output_type": "stream",
          "text": [
            "Collecting flwr==1.3.0\n",
            "  Downloading flwr-1.3.0-py3-none-any.whl (139 kB)\n",
            "     ---------------------------------------- 0.0/139.3 kB ? eta -:--:--\n",
            "     ---------- -------------------------- 41.0/139.3 kB 960.0 kB/s eta 0:00:01\n",
            "     ------------------------------------ - 133.1/139.3 kB 1.6 MB/s eta 0:00:01\n",
            "     -------------------------------------- 139.3/139.3 kB 1.4 MB/s eta 0:00:00\n",
            "Collecting iterators<0.0.3,>=0.0.2\n",
            "  Downloading iterators-0.0.2-py3-none-any.whl (3.9 kB)\n",
            "Requirement already satisfied: numpy<2.0.0,>=1.21.0 in c:\\users\\beama\\documents\\ufes\\2023-1\\sisdist\\sisdist_labs\\.venv\\lib\\site-packages (from flwr==1.3.0) (1.24.2)\n",
            "Collecting grpcio!=1.52.0,<2.0.0,>=1.43.0\n",
            "  Using cached grpcio-1.53.0-cp310-cp310-win_amd64.whl (3.9 MB)\n",
            "Collecting protobuf<4.0.0,>=3.19.0\n",
            "  Downloading protobuf-3.20.3-cp310-cp310-win_amd64.whl (904 kB)\n",
            "     ---------------------------------------- 0.0/904.0 kB ? eta -:--:--\n",
            "     --------- ---------------------------- 235.5/904.0 kB 4.9 MB/s eta 0:00:01\n",
            "     ----------------------------- -------- 706.6/904.0 kB 7.5 MB/s eta 0:00:01\n",
            "     -------------------------------------- 904.0/904.0 kB 8.2 MB/s eta 0:00:00\n",
            "Installing collected packages: protobuf, iterators, grpcio, flwr\n",
            "Successfully installed flwr-1.3.0 grpcio-1.53.0 iterators-0.0.2 protobuf-3.20.3\n",
            "Requirement already satisfied: flwr[simulation] in c:\\users\\beama\\documents\\ufes\\2023-1\\sisdist\\sisdist_labs\\.venv\\lib\\site-packages (1.3.0)\n",
            "Requirement already satisfied: protobuf<4.0.0,>=3.19.0 in c:\\users\\beama\\documents\\ufes\\2023-1\\sisdist\\sisdist_labs\\.venv\\lib\\site-packages (from flwr[simulation]) (3.20.3)\n",
            "Requirement already satisfied: grpcio!=1.52.0,<2.0.0,>=1.43.0 in c:\\users\\beama\\documents\\ufes\\2023-1\\sisdist\\sisdist_labs\\.venv\\lib\\site-packages (from flwr[simulation]) (1.53.0)\n",
            "Requirement already satisfied: iterators<0.0.3,>=0.0.2 in c:\\users\\beama\\documents\\ufes\\2023-1\\sisdist\\sisdist_labs\\.venv\\lib\\site-packages (from flwr[simulation]) (0.0.2)\n",
            "Requirement already satisfied: numpy<2.0.0,>=1.21.0 in c:\\users\\beama\\documents\\ufes\\2023-1\\sisdist\\sisdist_labs\\.venv\\lib\\site-packages (from flwr[simulation]) (1.24.2)\n",
            "Collecting ray[default]<2.3.0,>=2.2.0\n",
            "  Downloading ray-2.2.0-cp310-cp310-win_amd64.whl (20.8 MB)\n",
            "     ---------------------------------------- 0.0/20.8 MB ? eta -:--:--\n",
            "     ---------------------------------------- 0.0/20.8 MB 1.4 MB/s eta 0:00:16\n",
            "     ---------------------------------------- 0.2/20.8 MB 1.8 MB/s eta 0:00:12\n",
            "      --------------------------------------- 0.5/20.8 MB 3.2 MB/s eta 0:00:07\n",
            "     -- ------------------------------------- 1.0/20.8 MB 5.5 MB/s eta 0:00:04\n",
            "     -- ------------------------------------- 1.0/20.8 MB 5.5 MB/s eta 0:00:04\n",
            "     -- ------------------------------------- 1.0/20.8 MB 5.5 MB/s eta 0:00:04\n",
            "     -- ------------------------------------- 1.0/20.8 MB 5.5 MB/s eta 0:00:04\n",
            "     -- ------------------------------------- 1.0/20.8 MB 5.5 MB/s eta 0:00:04\n",
            "     -- ------------------------------------- 1.0/20.8 MB 5.5 MB/s eta 0:00:04\n",
            "     -- ------------------------------------- 1.0/20.8 MB 5.5 MB/s eta 0:00:04\n",
            "     -- ------------------------------------- 1.0/20.8 MB 5.5 MB/s eta 0:00:04\n",
            "     -- ------------------------------------- 1.0/20.8 MB 5.5 MB/s eta 0:00:04\n",
            "     ---- ----------------------------------- 2.1/20.8 MB 3.5 MB/s eta 0:00:06\n",
            "     ---- ----------------------------------- 2.1/20.8 MB 3.5 MB/s eta 0:00:06\n",
            "     ---- ----------------------------------- 2.3/20.8 MB 3.2 MB/s eta 0:00:06\n",
            "     ------ --------------------------------- 3.1/20.8 MB 4.4 MB/s eta 0:00:05\n",
            "     ------ --------------------------------- 3.1/20.8 MB 4.4 MB/s eta 0:00:05\n",
            "     ------- -------------------------------- 3.8/20.8 MB 4.4 MB/s eta 0:00:04\n",
            "     -------- ------------------------------- 4.2/20.8 MB 4.9 MB/s eta 0:00:04\n",
            "     -------- ------------------------------- 4.2/20.8 MB 4.9 MB/s eta 0:00:04\n",
            "     ---------- ----------------------------- 5.2/20.8 MB 5.2 MB/s eta 0:00:03\n",
            "     ---------- ----------------------------- 5.2/20.8 MB 5.2 MB/s eta 0:00:03\n",
            "     ---------- ----------------------------- 5.2/20.8 MB 5.2 MB/s eta 0:00:03\n",
            "     ---------- ----------------------------- 5.5/20.8 MB 4.8 MB/s eta 0:00:04\n",
            "     ------------ --------------------------- 6.3/20.8 MB 5.4 MB/s eta 0:00:03\n",
            "     ------------ --------------------------- 6.3/20.8 MB 5.4 MB/s eta 0:00:03\n",
            "     -------------- ------------------------- 7.3/20.8 MB 5.7 MB/s eta 0:00:03\n",
            "     -------------- ------------------------- 7.3/20.8 MB 5.7 MB/s eta 0:00:03\n",
            "     -------------- ------------------------- 7.3/20.8 MB 5.7 MB/s eta 0:00:03\n",
            "     ---------------- ----------------------- 8.4/20.8 MB 5.9 MB/s eta 0:00:03\n",
            "     ---------------- ----------------------- 8.4/20.8 MB 5.9 MB/s eta 0:00:03\n",
            "     ---------------- ----------------------- 8.4/20.8 MB 5.9 MB/s eta 0:00:03\n",
            "     ------------------ --------------------- 9.4/20.8 MB 6.0 MB/s eta 0:00:02\n",
            "     ------------------ --------------------- 9.4/20.8 MB 6.0 MB/s eta 0:00:02\n",
            "     ------------------ --------------------- 9.4/20.8 MB 6.0 MB/s eta 0:00:02\n",
            "     -------------------- ------------------- 10.5/20.8 MB 6.3 MB/s eta 0:00:02\n",
            "     -------------------- ------------------- 10.5/20.8 MB 6.3 MB/s eta 0:00:02\n",
            "     -------------------- ------------------- 10.5/20.8 MB 6.3 MB/s eta 0:00:02\n",
            "     ---------------------- ----------------- 11.5/20.8 MB 8.0 MB/s eta 0:00:02\n",
            "     ---------------------- ----------------- 11.5/20.8 MB 8.0 MB/s eta 0:00:02\n",
            "     ---------------------- ----------------- 11.5/20.8 MB 8.0 MB/s eta 0:00:02\n",
            "     ------------------------ --------------- 12.6/20.8 MB 8.0 MB/s eta 0:00:02\n",
            "     ------------------------ --------------- 12.6/20.8 MB 8.0 MB/s eta 0:00:02\n",
            "     ------------------------ --------------- 12.6/20.8 MB 8.0 MB/s eta 0:00:02\n",
            "     -------------------------- ------------- 13.6/20.8 MB 7.9 MB/s eta 0:00:01\n",
            "     -------------------------- ------------- 13.6/20.8 MB 7.9 MB/s eta 0:00:01\n",
            "     -------------------------- ------------- 13.6/20.8 MB 7.9 MB/s eta 0:00:01\n",
            "     -------------------------- ------------- 13.6/20.8 MB 7.9 MB/s eta 0:00:01\n",
            "     -------------------------- ------------- 13.6/20.8 MB 7.9 MB/s eta 0:00:01\n",
            "     -------------------------- ------------- 13.6/20.8 MB 7.9 MB/s eta 0:00:01\n",
            "     ---------------------------- ----------- 14.7/20.8 MB 7.2 MB/s eta 0:00:01\n",
            "     ---------------------------- ----------- 14.7/20.8 MB 7.2 MB/s eta 0:00:01\n",
            "     ----------------------------- ---------- 15.3/20.8 MB 6.7 MB/s eta 0:00:01\n",
            "     ------------------------------ --------- 15.7/20.8 MB 7.4 MB/s eta 0:00:01\n",
            "     ------------------------------ --------- 15.7/20.8 MB 7.4 MB/s eta 0:00:01\n",
            "     ------------------------------ --------- 15.7/20.8 MB 7.4 MB/s eta 0:00:01\n",
            "     -------------------------------- ------- 16.8/20.8 MB 7.1 MB/s eta 0:00:01\n",
            "     -------------------------------- ------- 16.8/20.8 MB 7.1 MB/s eta 0:00:01\n",
            "     -------------------------------- ------- 16.8/20.8 MB 7.1 MB/s eta 0:00:01\n",
            "     -------------------------------- ------- 16.8/20.8 MB 7.1 MB/s eta 0:00:01\n",
            "     -------------------------------- ------- 16.8/20.8 MB 7.1 MB/s eta 0:00:01\n",
            "     -------------------------------- ------- 16.8/20.8 MB 7.1 MB/s eta 0:00:01\n",
            "     -------------------------------- ------- 16.8/20.8 MB 7.1 MB/s eta 0:00:01\n",
            "     -------------------------------- ------- 16.8/20.8 MB 7.1 MB/s eta 0:00:01\n",
            "     -------------------------------- ------- 16.8/20.8 MB 7.1 MB/s eta 0:00:01\n",
            "     -------------------------------- ------- 16.8/20.8 MB 7.1 MB/s eta 0:00:01\n",
            "     -------------------------------- ------- 16.8/20.8 MB 7.1 MB/s eta 0:00:01\n",
            "     -------------------------------- ------- 16.8/20.8 MB 7.1 MB/s eta 0:00:01\n",
            "     ---------------------------------- ----- 17.8/20.8 MB 5.5 MB/s eta 0:00:01\n",
            "     ---------------------------------- ----- 17.8/20.8 MB 5.5 MB/s eta 0:00:01\n",
            "     ---------------------------------- ----- 17.8/20.8 MB 5.5 MB/s eta 0:00:01\n",
            "     ---------------------------------- ----- 17.8/20.8 MB 5.5 MB/s eta 0:00:01\n",
            "     ------------------------------------ --- 18.8/20.8 MB 5.3 MB/s eta 0:00:01\n",
            "     ------------------------------------ --- 18.9/20.8 MB 5.3 MB/s eta 0:00:01\n",
            "     ------------------------------------ --- 18.9/20.8 MB 5.3 MB/s eta 0:00:01\n",
            "     ------------------------------------ --- 18.9/20.8 MB 5.3 MB/s eta 0:00:01\n",
            "     ---------------------------------------  20.8/20.8 MB 5.6 MB/s eta 0:00:01\n",
            "     ---------------------------------------  20.8/20.8 MB 5.6 MB/s eta 0:00:01\n",
            "     ---------------------------------------- 20.8/20.8 MB 5.3 MB/s eta 0:00:00\n",
            "Requirement already satisfied: packaging in c:\\users\\beama\\documents\\ufes\\2023-1\\sisdist\\sisdist_labs\\.venv\\lib\\site-packages (from ray[default]<2.3.0,>=2.2.0->flwr[simulation]) (23.0)\n",
            "Collecting attrs\n",
            "  Using cached attrs-22.2.0-py3-none-any.whl (60 kB)\n",
            "Collecting filelock\n",
            "  Downloading filelock-3.11.0-py3-none-any.whl (10.0 kB)\n",
            "Collecting aiosignal\n",
            "  Downloading aiosignal-1.3.1-py3-none-any.whl (7.6 kB)\n",
            "Collecting virtualenv>=20.0.24\n",
            "  Downloading virtualenv-20.21.0-py3-none-any.whl (8.7 MB)\n",
            "     ---------------------------------------- 0.0/8.7 MB ? eta -:--:--\n",
            "     -------------------- ------------------- 4.5/8.7 MB 96.3 MB/s eta 0:00:01\n",
            "     ---------------------------------------  8.7/8.7 MB 111.5 MB/s eta 0:00:01\n",
            "     ---------------------------------------- 8.7/8.7 MB 79.1 MB/s eta 0:00:00\n",
            "Collecting msgpack<2.0.0,>=1.0.0\n",
            "  Downloading msgpack-1.0.5-cp310-cp310-win_amd64.whl (61 kB)\n",
            "     ---------------------------------------- 0.0/61.6 kB ? eta -:--:--\n",
            "     ---------------------------------------- 61.6/61.6 kB 3.2 MB/s eta 0:00:00\n",
            "Collecting click>=7.0\n",
            "  Downloading click-8.1.3-py3-none-any.whl (96 kB)\n",
            "     ---------------------------------------- 0.0/96.6 kB ? eta -:--:--\n",
            "     ---------------------------------------- 96.6/96.6 kB ? eta 0:00:00\n",
            "Collecting pyyaml\n",
            "  Using cached PyYAML-6.0-cp310-cp310-win_amd64.whl (151 kB)\n",
            "Collecting requests\n",
            "  Using cached requests-2.28.2-py3-none-any.whl (62 kB)\n",
            "Collecting jsonschema\n",
            "  Using cached jsonschema-4.17.3-py3-none-any.whl (90 kB)\n",
            "Collecting frozenlist\n",
            "  Downloading frozenlist-1.3.3-cp310-cp310-win_amd64.whl (33 kB)\n",
            "Collecting aiohttp>=3.7\n",
            "  Downloading aiohttp-3.8.4-cp310-cp310-win_amd64.whl (319 kB)\n",
            "     ---------------------------------------- 0.0/319.8 kB ? eta -:--:--\n",
            "     ------------------------------------- 319.8/319.8 kB 19.4 MB/s eta 0:00:00\n",
            "Collecting aiohttp-cors\n",
            "  Downloading aiohttp_cors-0.7.0-py3-none-any.whl (27 kB)\n",
            "Collecting gpustat>=1.0.0\n",
            "  Downloading gpustat-1.1.tar.gz (97 kB)\n",
            "     ---------------------------------------- 0.0/97.9 kB ? eta -:--:--\n",
            "     ---------------------------------------- 97.9/97.9 kB 5.5 MB/s eta 0:00:00\n",
            "  Installing build dependencies: started\n",
            "  Installing build dependencies: finished with status 'done'\n",
            "  Getting requirements to build wheel: started\n",
            "  Getting requirements to build wheel: finished with status 'done'\n",
            "  Preparing metadata (pyproject.toml): started\n",
            "  Preparing metadata (pyproject.toml): finished with status 'done'\n",
            "Collecting colorful\n",
            "  Downloading colorful-0.5.5-py2.py3-none-any.whl (201 kB)\n",
            "     ---------------------------------------- 0.0/201.4 kB ? eta -:--:--\n",
            "     ---------------------------------------- 201.4/201.4 kB ? eta 0:00:00\n",
            "Collecting py-spy>=0.2.0\n",
            "  Downloading py_spy-0.3.14-py2.py3-none-win_amd64.whl (1.4 MB)\n",
            "     ---------------------------------------- 0.0/1.4 MB ? eta -:--:--\n",
            "     ------------------------------------- -- 1.4/1.4 MB 29.0 MB/s eta 0:00:01\n",
            "     ---------------------------------------  1.4/1.4 MB 15.3 MB/s eta 0:00:01\n",
            "     ---------------------------------------- 1.4/1.4 MB 13.2 MB/s eta 0:00:00\n",
            "Collecting smart-open\n",
            "  Downloading smart_open-6.3.0-py3-none-any.whl (56 kB)\n",
            "     ---------------------------------------- 0.0/56.8 kB ? eta -:--:--\n",
            "     ---------------------------------------- 56.8/56.8 kB 2.9 MB/s eta 0:00:00\n",
            "Collecting pydantic\n",
            "  Downloading pydantic-1.10.7-cp310-cp310-win_amd64.whl (2.1 MB)\n",
            "     ---------------------------------------- 0.0/2.1 MB ? eta -:--:--\n",
            "     ---------------------------------------- 2.1/2.1 MB 68.0 MB/s eta 0:00:00\n",
            "Collecting prometheus-client<0.14.0,>=0.7.1\n",
            "  Downloading prometheus_client-0.13.1-py3-none-any.whl (57 kB)\n",
            "     ---------------------------------------- 0.0/57.1 kB ? eta -:--:--\n",
            "     ---------------------------------------- 57.1/57.1 kB ? eta 0:00:00\n",
            "Collecting opencensus\n",
            "  Downloading opencensus-0.11.2-py2.py3-none-any.whl (128 kB)\n",
            "     ---------------------------------------- 0.0/128.2 kB ? eta -:--:--\n",
            "     -------------------------------------- 128.2/128.2 kB 7.9 MB/s eta 0:00:00\n",
            "Collecting yarl<2.0,>=1.0\n",
            "  Downloading yarl-1.8.2-cp310-cp310-win_amd64.whl (56 kB)\n",
            "     ---------------------------------------- 0.0/56.1 kB ? eta -:--:--\n",
            "     ---------------------------------------- 56.1/56.1 kB 2.9 MB/s eta 0:00:00\n",
            "Collecting async-timeout<5.0,>=4.0.0a3\n",
            "  Using cached async_timeout-4.0.2-py3-none-any.whl (5.8 kB)\n",
            "Collecting multidict<7.0,>=4.5\n",
            "  Downloading multidict-6.0.4-cp310-cp310-win_amd64.whl (28 kB)\n",
            "Collecting charset-normalizer<4.0,>=2.0\n",
            "  Using cached charset_normalizer-3.1.0-cp310-cp310-win_amd64.whl (97 kB)\n",
            "Requirement already satisfied: colorama in c:\\users\\beama\\documents\\ufes\\2023-1\\sisdist\\sisdist_labs\\.venv\\lib\\site-packages (from click>=7.0->ray[default]<2.3.0,>=2.2.0->flwr[simulation]) (0.4.6)\n",
            "Collecting blessed>=1.17.1\n",
            "  Downloading blessed-1.20.0-py2.py3-none-any.whl (58 kB)\n",
            "     ---------------------------------------- 0.0/58.4 kB ? eta -:--:--\n",
            "     ---------------------------------------- 58.4/58.4 kB 3.2 MB/s eta 0:00:00\n",
            "Requirement already satisfied: psutil>=5.6.0 in c:\\users\\beama\\documents\\ufes\\2023-1\\sisdist\\sisdist_labs\\.venv\\lib\\site-packages (from gpustat>=1.0.0->ray[default]<2.3.0,>=2.2.0->flwr[simulation]) (5.9.4)\n",
            "Collecting nvidia-ml-py>=11.450.129\n",
            "  Downloading nvidia_ml_py-11.525.112-py3-none-any.whl (35 kB)\n",
            "Collecting distlib<1,>=0.3.6\n",
            "  Downloading distlib-0.3.6-py2.py3-none-any.whl (468 kB)\n",
            "     ---------------------------------------- 0.0/468.5 kB ? eta -:--:--\n",
            "     ------------------------------------- 468.5/468.5 kB 28.6 MB/s eta 0:00:00\n",
            "Requirement already satisfied: platformdirs<4,>=2.4 in c:\\users\\beama\\documents\\ufes\\2023-1\\sisdist\\sisdist_labs\\.venv\\lib\\site-packages (from virtualenv>=20.0.24->ray[default]<2.3.0,>=2.2.0->flwr[simulation]) (3.2.0)\n",
            "Collecting pyrsistent!=0.17.0,!=0.17.1,!=0.17.2,>=0.14.0\n",
            "  Using cached pyrsistent-0.19.3-cp310-cp310-win_amd64.whl (62 kB)\n",
            "Collecting google-api-core<3.0.0,>=1.0.0\n",
            "  Downloading google_api_core-2.11.0-py3-none-any.whl (120 kB)\n",
            "     ---------------------------------------- 0.0/120.3 kB ? eta -:--:--\n",
            "     ---------------------------------------- 120.3/120.3 kB ? eta 0:00:00\n",
            "Collecting opencensus-context>=0.1.3\n",
            "  Downloading opencensus_context-0.1.3-py2.py3-none-any.whl (5.1 kB)\n",
            "Collecting typing-extensions>=4.2.0\n",
            "  Using cached typing_extensions-4.5.0-py3-none-any.whl (27 kB)\n",
            "Collecting urllib3<1.27,>=1.21.1\n",
            "  Using cached urllib3-1.26.15-py2.py3-none-any.whl (140 kB)\n",
            "Collecting certifi>=2017.4.17\n",
            "  Using cached certifi-2022.12.7-py3-none-any.whl (155 kB)\n",
            "Collecting idna<4,>=2.5\n",
            "  Using cached idna-3.4-py3-none-any.whl (61 kB)\n",
            "Requirement already satisfied: wcwidth>=0.1.4 in c:\\users\\beama\\documents\\ufes\\2023-1\\sisdist\\sisdist_labs\\.venv\\lib\\site-packages (from blessed>=1.17.1->gpustat>=1.0.0->ray[default]<2.3.0,>=2.2.0->flwr[simulation]) (0.2.6)\n",
            "Collecting jinxed>=1.1.0\n",
            "  Downloading jinxed-1.2.0-py2.py3-none-any.whl (33 kB)\n",
            "Requirement already satisfied: six>=1.9.0 in c:\\users\\beama\\documents\\ufes\\2023-1\\sisdist\\sisdist_labs\\.venv\\lib\\site-packages (from blessed>=1.17.1->gpustat>=1.0.0->ray[default]<2.3.0,>=2.2.0->flwr[simulation]) (1.16.0)\n",
            "Collecting google-auth<3.0dev,>=2.14.1\n",
            "  Downloading google_auth-2.17.2-py2.py3-none-any.whl (178 kB)\n",
            "     ---------------------------------------- 0.0/178.2 kB ? eta -:--:--\n",
            "     ---------------------------------------- 178.2/178.2 kB ? eta 0:00:00\n",
            "Collecting googleapis-common-protos<2.0dev,>=1.56.2\n",
            "  Downloading googleapis_common_protos-1.59.0-py2.py3-none-any.whl (223 kB)\n",
            "     ---------------------------------------- 0.0/223.6 kB ? eta -:--:--\n",
            "     ------------------------------------- 223.6/223.6 kB 14.2 MB/s eta 0:00:00\n",
            "Collecting pyasn1-modules>=0.2.1\n",
            "  Using cached pyasn1_modules-0.2.8-py2.py3-none-any.whl (155 kB)\n",
            "Collecting cachetools<6.0,>=2.0.0\n",
            "  Using cached cachetools-5.3.0-py3-none-any.whl (9.3 kB)\n",
            "Collecting rsa<5,>=3.1.4\n",
            "  Using cached rsa-4.9-py3-none-any.whl (34 kB)\n",
            "Collecting ansicon\n",
            "  Downloading ansicon-1.89.0-py2.py3-none-any.whl (63 kB)\n",
            "     ---------------------------------------- 0.0/63.7 kB ? eta -:--:--\n",
            "     ---------------------------------------- 63.7/63.7 kB 3.6 MB/s eta 0:00:00\n",
            "Collecting pyasn1<0.5.0,>=0.4.6\n",
            "  Using cached pyasn1-0.4.8-py2.py3-none-any.whl (77 kB)\n",
            "Building wheels for collected packages: gpustat\n",
            "  Building wheel for gpustat (pyproject.toml): started\n",
            "  Building wheel for gpustat (pyproject.toml): finished with status 'done'\n",
            "  Created wheel for gpustat: filename=gpustat-1.1-py3-none-any.whl size=26318 sha256=9d301ab8883e9296f10cf419386a971f19ba5386c19d821b3c16f6483d2fa29c\n",
            "  Stored in directory: c:\\users\\beama\\appdata\\local\\pip\\cache\\wheels\\ee\\d0\\2c\\1e02440645c2318ba03aea99993a44a9108dc8f74de0bd370b\n",
            "Successfully built gpustat\n",
            "Installing collected packages: pyasn1, py-spy, opencensus-context, nvidia-ml-py, msgpack, distlib, ansicon, urllib3, typing-extensions, smart-open, rsa, pyyaml, pyrsistent, pyasn1-modules, prometheus-client, multidict, jinxed, idna, googleapis-common-protos, frozenlist, filelock, colorful, click, charset-normalizer, certifi, cachetools, attrs, async-timeout, yarl, virtualenv, requests, pydantic, jsonschema, google-auth, blessed, aiosignal, ray, gpustat, google-api-core, aiohttp, opencensus, aiohttp-cors\n",
            "Successfully installed aiohttp-3.8.4 aiohttp-cors-0.7.0 aiosignal-1.3.1 ansicon-1.89.0 async-timeout-4.0.2 attrs-22.2.0 blessed-1.20.0 cachetools-5.3.0 certifi-2022.12.7 charset-normalizer-3.1.0 click-8.1.3 colorful-0.5.5 distlib-0.3.6 filelock-3.11.0 frozenlist-1.3.3 google-api-core-2.11.0 google-auth-2.17.2 googleapis-common-protos-1.59.0 gpustat-1.1 idna-3.4 jinxed-1.2.0 jsonschema-4.17.3 msgpack-1.0.5 multidict-6.0.4 nvidia-ml-py-11.525.112 opencensus-0.11.2 opencensus-context-0.1.3 prometheus-client-0.13.1 py-spy-0.3.14 pyasn1-0.4.8 pyasn1-modules-0.2.8 pydantic-1.10.7 pyrsistent-0.19.3 pyyaml-6.0 ray-2.2.0 requests-2.28.2 rsa-4.9 smart-open-6.3.0 typing-extensions-4.5.0 urllib3-1.26.15 virtualenv-20.21.0 yarl-1.8.2\n",
            "Requirement already satisfied: ray==2.2.0 in c:\\users\\beama\\documents\\ufes\\2023-1\\sisdist\\sisdist_labs\\.venv\\lib\\site-packages (2.2.0)\n",
            "Requirement already satisfied: requests in c:\\users\\beama\\documents\\ufes\\2023-1\\sisdist\\sisdist_labs\\.venv\\lib\\site-packages (from ray==2.2.0) (2.28.2)\n",
            "Requirement already satisfied: click>=7.0 in c:\\users\\beama\\documents\\ufes\\2023-1\\sisdist\\sisdist_labs\\.venv\\lib\\site-packages (from ray==2.2.0) (8.1.3)\n",
            "Requirement already satisfied: packaging in c:\\users\\beama\\documents\\ufes\\2023-1\\sisdist\\sisdist_labs\\.venv\\lib\\site-packages (from ray==2.2.0) (23.0)\n",
            "Requirement already satisfied: jsonschema in c:\\users\\beama\\documents\\ufes\\2023-1\\sisdist\\sisdist_labs\\.venv\\lib\\site-packages (from ray==2.2.0) (4.17.3)\n",
            "Requirement already satisfied: protobuf!=3.19.5,>=3.15.3 in c:\\users\\beama\\documents\\ufes\\2023-1\\sisdist\\sisdist_labs\\.venv\\lib\\site-packages (from ray==2.2.0) (3.20.3)\n",
            "Requirement already satisfied: frozenlist in c:\\users\\beama\\documents\\ufes\\2023-1\\sisdist\\sisdist_labs\\.venv\\lib\\site-packages (from ray==2.2.0) (1.3.3)\n",
            "Requirement already satisfied: numpy>=1.19.3 in c:\\users\\beama\\documents\\ufes\\2023-1\\sisdist\\sisdist_labs\\.venv\\lib\\site-packages (from ray==2.2.0) (1.24.2)\n",
            "Requirement already satisfied: filelock in c:\\users\\beama\\documents\\ufes\\2023-1\\sisdist\\sisdist_labs\\.venv\\lib\\site-packages (from ray==2.2.0) (3.11.0)\n",
            "Requirement already satisfied: grpcio>=1.42.0 in c:\\users\\beama\\documents\\ufes\\2023-1\\sisdist\\sisdist_labs\\.venv\\lib\\site-packages (from ray==2.2.0) (1.53.0)\n",
            "Requirement already satisfied: aiosignal in c:\\users\\beama\\documents\\ufes\\2023-1\\sisdist\\sisdist_labs\\.venv\\lib\\site-packages (from ray==2.2.0) (1.3.1)\n",
            "Requirement already satisfied: virtualenv>=20.0.24 in c:\\users\\beama\\documents\\ufes\\2023-1\\sisdist\\sisdist_labs\\.venv\\lib\\site-packages (from ray==2.2.0) (20.21.0)\n",
            "Requirement already satisfied: attrs in c:\\users\\beama\\documents\\ufes\\2023-1\\sisdist\\sisdist_labs\\.venv\\lib\\site-packages (from ray==2.2.0) (22.2.0)\n",
            "Requirement already satisfied: pyyaml in c:\\users\\beama\\documents\\ufes\\2023-1\\sisdist\\sisdist_labs\\.venv\\lib\\site-packages (from ray==2.2.0) (6.0)\n",
            "Requirement already satisfied: msgpack<2.0.0,>=1.0.0 in c:\\users\\beama\\documents\\ufes\\2023-1\\sisdist\\sisdist_labs\\.venv\\lib\\site-packages (from ray==2.2.0) (1.0.5)\n",
            "Requirement already satisfied: colorama in c:\\users\\beama\\documents\\ufes\\2023-1\\sisdist\\sisdist_labs\\.venv\\lib\\site-packages (from click>=7.0->ray==2.2.0) (0.4.6)\n",
            "Requirement already satisfied: distlib<1,>=0.3.6 in c:\\users\\beama\\documents\\ufes\\2023-1\\sisdist\\sisdist_labs\\.venv\\lib\\site-packages (from virtualenv>=20.0.24->ray==2.2.0) (0.3.6)\n",
            "Requirement already satisfied: platformdirs<4,>=2.4 in c:\\users\\beama\\documents\\ufes\\2023-1\\sisdist\\sisdist_labs\\.venv\\lib\\site-packages (from virtualenv>=20.0.24->ray==2.2.0) (3.2.0)\n",
            "Requirement already satisfied: pyrsistent!=0.17.0,!=0.17.1,!=0.17.2,>=0.14.0 in c:\\users\\beama\\documents\\ufes\\2023-1\\sisdist\\sisdist_labs\\.venv\\lib\\site-packages (from jsonschema->ray==2.2.0) (0.19.3)\n",
            "Requirement already satisfied: urllib3<1.27,>=1.21.1 in c:\\users\\beama\\documents\\ufes\\2023-1\\sisdist\\sisdist_labs\\.venv\\lib\\site-packages (from requests->ray==2.2.0) (1.26.15)\n",
            "Requirement already satisfied: idna<4,>=2.5 in c:\\users\\beama\\documents\\ufes\\2023-1\\sisdist\\sisdist_labs\\.venv\\lib\\site-packages (from requests->ray==2.2.0) (3.4)\n",
            "Requirement already satisfied: certifi>=2017.4.17 in c:\\users\\beama\\documents\\ufes\\2023-1\\sisdist\\sisdist_labs\\.venv\\lib\\site-packages (from requests->ray==2.2.0) (2022.12.7)\n",
            "Requirement already satisfied: charset-normalizer<4,>=2 in c:\\users\\beama\\documents\\ufes\\2023-1\\sisdist\\sisdist_labs\\.venv\\lib\\site-packages (from requests->ray==2.2.0) (3.1.0)\n",
            "Collecting tensorflow==2.12.0\n",
            "  Using cached tensorflow-2.12.0-cp310-cp310-win_amd64.whl (1.9 kB)\n",
            "Collecting tensorflow-intel==2.12.0\n",
            "  Using cached tensorflow_intel-2.12.0-cp310-cp310-win_amd64.whl (272.8 MB)\n",
            "Requirement already satisfied: packaging in c:\\users\\beama\\documents\\ufes\\2023-1\\sisdist\\sisdist_labs\\.venv\\lib\\site-packages (from tensorflow-intel==2.12.0->tensorflow==2.12.0) (23.0)\n",
            "Collecting tensorboard<2.13,>=2.12\n",
            "  Using cached tensorboard-2.12.1-py3-none-any.whl (5.6 MB)\n",
            "Requirement already satisfied: protobuf!=4.21.0,!=4.21.1,!=4.21.2,!=4.21.3,!=4.21.4,!=4.21.5,<5.0.0dev,>=3.20.3 in c:\\users\\beama\\documents\\ufes\\2023-1\\sisdist\\sisdist_labs\\.venv\\lib\\site-packages (from tensorflow-intel==2.12.0->tensorflow==2.12.0) (3.20.3)\n",
            "Collecting libclang>=13.0.0\n",
            "  Using cached libclang-16.0.0-py2.py3-none-win_amd64.whl (24.4 MB)\n",
            "Requirement already satisfied: typing-extensions>=3.6.6 in c:\\users\\beama\\documents\\ufes\\2023-1\\sisdist\\sisdist_labs\\.venv\\lib\\site-packages (from tensorflow-intel==2.12.0->tensorflow==2.12.0) (4.5.0)\n",
            "Collecting numpy<1.24,>=1.22\n",
            "  Using cached numpy-1.23.5-cp310-cp310-win_amd64.whl (14.6 MB)\n",
            "Collecting opt-einsum>=2.3.2\n",
            "  Using cached opt_einsum-3.3.0-py3-none-any.whl (65 kB)\n",
            "Collecting tensorflow-estimator<2.13,>=2.12.0\n",
            "  Using cached tensorflow_estimator-2.12.0-py2.py3-none-any.whl (440 kB)\n",
            "Collecting jax>=0.3.15\n",
            "  Using cached jax-0.4.8.tar.gz (1.2 MB)\n",
            "  Installing build dependencies: started\n",
            "  Installing build dependencies: finished with status 'done'\n",
            "  Getting requirements to build wheel: started\n",
            "  Getting requirements to build wheel: finished with status 'done'\n",
            "  Preparing metadata (pyproject.toml): started\n",
            "  Preparing metadata (pyproject.toml): finished with status 'done'\n",
            "Collecting wrapt<1.15,>=1.11.0\n",
            "  Using cached wrapt-1.14.1-cp310-cp310-win_amd64.whl (35 kB)\n",
            "Requirement already satisfied: grpcio<2.0,>=1.24.3 in c:\\users\\beama\\documents\\ufes\\2023-1\\sisdist\\sisdist_labs\\.venv\\lib\\site-packages (from tensorflow-intel==2.12.0->tensorflow==2.12.0) (1.53.0)\n",
            "Collecting gast<=0.4.0,>=0.2.1\n",
            "  Using cached gast-0.4.0-py3-none-any.whl (9.8 kB)\n",
            "Collecting h5py>=2.9.0\n",
            "  Using cached h5py-3.8.0-cp310-cp310-win_amd64.whl (2.6 MB)\n",
            "Collecting tensorflow-io-gcs-filesystem>=0.23.1\n",
            "  Using cached tensorflow_io_gcs_filesystem-0.31.0-cp310-cp310-win_amd64.whl (1.5 MB)\n",
            "Collecting google-pasta>=0.1.1\n",
            "  Using cached google_pasta-0.2.0-py3-none-any.whl (57 kB)\n",
            "Collecting absl-py>=1.0.0\n",
            "  Using cached absl_py-1.4.0-py3-none-any.whl (126 kB)\n",
            "Collecting termcolor>=1.1.0\n",
            "  Using cached termcolor-2.2.0-py3-none-any.whl (6.6 kB)\n",
            "Requirement already satisfied: setuptools in c:\\users\\beama\\documents\\ufes\\2023-1\\sisdist\\sisdist_labs\\.venv\\lib\\site-packages (from tensorflow-intel==2.12.0->tensorflow==2.12.0) (65.5.0)\n",
            "Requirement already satisfied: six>=1.12.0 in c:\\users\\beama\\documents\\ufes\\2023-1\\sisdist\\sisdist_labs\\.venv\\lib\\site-packages (from tensorflow-intel==2.12.0->tensorflow==2.12.0) (1.16.0)\n",
            "Collecting flatbuffers>=2.0\n",
            "  Using cached flatbuffers-23.3.3-py2.py3-none-any.whl (26 kB)\n",
            "Collecting astunparse>=1.6.0\n",
            "  Using cached astunparse-1.6.3-py2.py3-none-any.whl (12 kB)\n",
            "Collecting keras<2.13,>=2.12.0\n",
            "  Using cached keras-2.12.0-py2.py3-none-any.whl (1.7 MB)\n",
            "Collecting wheel<1.0,>=0.23.0\n",
            "  Using cached wheel-0.40.0-py3-none-any.whl (64 kB)\n",
            "Collecting ml-dtypes>=0.0.3\n",
            "  Using cached ml_dtypes-0.0.4-cp310-cp310-win_amd64.whl (98 kB)\n",
            "Collecting scipy>=1.7\n",
            "  Using cached scipy-1.10.1-cp310-cp310-win_amd64.whl (42.5 MB)\n",
            "Collecting markdown>=2.6.8\n",
            "  Using cached Markdown-3.4.3-py3-none-any.whl (93 kB)\n",
            "Collecting werkzeug>=1.0.1\n",
            "  Using cached Werkzeug-2.2.3-py3-none-any.whl (233 kB)\n",
            "Collecting tensorboard-plugin-wit>=1.6.0\n",
            "  Using cached tensorboard_plugin_wit-1.8.1-py3-none-any.whl (781 kB)\n",
            "Requirement already satisfied: google-auth<3,>=1.6.3 in c:\\users\\beama\\documents\\ufes\\2023-1\\sisdist\\sisdist_labs\\.venv\\lib\\site-packages (from tensorboard<2.13,>=2.12->tensorflow-intel==2.12.0->tensorflow==2.12.0) (2.17.2)\n",
            "Collecting google-auth-oauthlib<1.1,>=0.5\n",
            "  Using cached google_auth_oauthlib-1.0.0-py2.py3-none-any.whl (18 kB)\n",
            "Collecting tensorboard-data-server<0.8.0,>=0.7.0\n",
            "  Using cached tensorboard_data_server-0.7.0-py3-none-any.whl (2.4 kB)\n",
            "Requirement already satisfied: requests<3,>=2.21.0 in c:\\users\\beama\\documents\\ufes\\2023-1\\sisdist\\sisdist_labs\\.venv\\lib\\site-packages (from tensorboard<2.13,>=2.12->tensorflow-intel==2.12.0->tensorflow==2.12.0) (2.28.2)\n",
            "Requirement already satisfied: cachetools<6.0,>=2.0.0 in c:\\users\\beama\\documents\\ufes\\2023-1\\sisdist\\sisdist_labs\\.venv\\lib\\site-packages (from google-auth<3,>=1.6.3->tensorboard<2.13,>=2.12->tensorflow-intel==2.12.0->tensorflow==2.12.0) (5.3.0)\n",
            "Requirement already satisfied: rsa<5,>=3.1.4 in c:\\users\\beama\\documents\\ufes\\2023-1\\sisdist\\sisdist_labs\\.venv\\lib\\site-packages (from google-auth<3,>=1.6.3->tensorboard<2.13,>=2.12->tensorflow-intel==2.12.0->tensorflow==2.12.0) (4.9)\n",
            "Requirement already satisfied: pyasn1-modules>=0.2.1 in c:\\users\\beama\\documents\\ufes\\2023-1\\sisdist\\sisdist_labs\\.venv\\lib\\site-packages (from google-auth<3,>=1.6.3->tensorboard<2.13,>=2.12->tensorflow-intel==2.12.0->tensorflow==2.12.0) (0.2.8)\n",
            "Collecting requests-oauthlib>=0.7.0\n",
            "  Using cached requests_oauthlib-1.3.1-py2.py3-none-any.whl (23 kB)\n",
            "Requirement already satisfied: certifi>=2017.4.17 in c:\\users\\beama\\documents\\ufes\\2023-1\\sisdist\\sisdist_labs\\.venv\\lib\\site-packages (from requests<3,>=2.21.0->tensorboard<2.13,>=2.12->tensorflow-intel==2.12.0->tensorflow==2.12.0) (2022.12.7)\n",
            "Requirement already satisfied: charset-normalizer<4,>=2 in c:\\users\\beama\\documents\\ufes\\2023-1\\sisdist\\sisdist_labs\\.venv\\lib\\site-packages (from requests<3,>=2.21.0->tensorboard<2.13,>=2.12->tensorflow-intel==2.12.0->tensorflow==2.12.0) (3.1.0)\n",
            "Requirement already satisfied: urllib3<1.27,>=1.21.1 in c:\\users\\beama\\documents\\ufes\\2023-1\\sisdist\\sisdist_labs\\.venv\\lib\\site-packages (from requests<3,>=2.21.0->tensorboard<2.13,>=2.12->tensorflow-intel==2.12.0->tensorflow==2.12.0) (1.26.15)\n",
            "Requirement already satisfied: idna<4,>=2.5 in c:\\users\\beama\\documents\\ufes\\2023-1\\sisdist\\sisdist_labs\\.venv\\lib\\site-packages (from requests<3,>=2.21.0->tensorboard<2.13,>=2.12->tensorflow-intel==2.12.0->tensorflow==2.12.0) (3.4)\n",
            "Collecting MarkupSafe>=2.1.1\n",
            "  Using cached MarkupSafe-2.1.2-cp310-cp310-win_amd64.whl (16 kB)\n",
            "Requirement already satisfied: pyasn1<0.5.0,>=0.4.6 in c:\\users\\beama\\documents\\ufes\\2023-1\\sisdist\\sisdist_labs\\.venv\\lib\\site-packages (from pyasn1-modules>=0.2.1->google-auth<3,>=1.6.3->tensorboard<2.13,>=2.12->tensorflow-intel==2.12.0->tensorflow==2.12.0) (0.4.8)\n",
            "Collecting oauthlib>=3.0.0\n",
            "  Using cached oauthlib-3.2.2-py3-none-any.whl (151 kB)\n",
            "Building wheels for collected packages: jax\n",
            "  Building wheel for jax (pyproject.toml): started\n",
            "  Building wheel for jax (pyproject.toml): finished with status 'done'\n",
            "  Created wheel for jax: filename=jax-0.4.8-py3-none-any.whl size=1439795 sha256=1ee9f900224e077b9b7c0eaaec0984525567bb3ac0f413bda61e252228a4dcb7\n",
            "  Stored in directory: c:\\users\\beama\\appdata\\local\\pip\\cache\\wheels\\09\\6f\\35\\a8fac8b61de8e0d9eb07988481528898561923e260b1fa7d2f\n",
            "Successfully built jax\n",
            "Installing collected packages: tensorboard-plugin-wit, libclang, flatbuffers, wrapt, wheel, termcolor, tensorflow-io-gcs-filesystem, tensorflow-estimator, tensorboard-data-server, oauthlib, numpy, MarkupSafe, markdown, keras, google-pasta, gast, absl-py, werkzeug, scipy, requests-oauthlib, opt-einsum, ml-dtypes, h5py, astunparse, jax, google-auth-oauthlib, tensorboard, tensorflow-intel, tensorflow\n",
            "  Attempting uninstall: numpy\n",
            "    Found existing installation: numpy 1.24.2\n",
            "    Uninstalling numpy-1.24.2:\n",
            "      Successfully uninstalled numpy-1.24.2\n",
            "Successfully installed MarkupSafe-2.1.2 absl-py-1.4.0 astunparse-1.6.3 flatbuffers-23.3.3 gast-0.4.0 google-auth-oauthlib-1.0.0 google-pasta-0.2.0 h5py-3.8.0 jax-0.4.8 keras-2.12.0 libclang-16.0.0 markdown-3.4.3 ml-dtypes-0.0.4 numpy-1.23.5 oauthlib-3.2.2 opt-einsum-3.3.0 requests-oauthlib-1.3.1 scipy-1.10.1 tensorboard-2.12.1 tensorboard-data-server-0.7.0 tensorboard-plugin-wit-1.8.1 tensorflow-2.12.0 tensorflow-estimator-2.12.0 tensorflow-intel-2.12.0 tensorflow-io-gcs-filesystem-0.31.0 termcolor-2.2.0 werkzeug-2.2.3 wheel-0.40.0 wrapt-1.14.1\n",
            "Collecting numpy==1.22.4\n",
            "  Using cached numpy-1.22.4-cp310-cp310-win_amd64.whl (14.7 MB)\n",
            "Installing collected packages: numpy\n",
            "  Attempting uninstall: numpy\n",
            "    Found existing installation: numpy 1.23.5\n",
            "    Uninstalling numpy-1.23.5:\n",
            "      Successfully uninstalled numpy-1.23.5\n",
            "Successfully installed numpy-1.22.4\n",
            "Requirement already satisfied: matplotlib==3.7.1 in c:\\users\\beama\\documents\\ufes\\2023-1\\sisdist\\sisdist_labs\\.venv\\lib\\site-packages (3.7.1)\n",
            "Requirement already satisfied: numpy>=1.20 in c:\\users\\beama\\documents\\ufes\\2023-1\\sisdist\\sisdist_labs\\.venv\\lib\\site-packages (from matplotlib==3.7.1) (1.22.4)\n",
            "Requirement already satisfied: contourpy>=1.0.1 in c:\\users\\beama\\documents\\ufes\\2023-1\\sisdist\\sisdist_labs\\.venv\\lib\\site-packages (from matplotlib==3.7.1) (1.0.7)\n",
            "Requirement already satisfied: kiwisolver>=1.0.1 in c:\\users\\beama\\documents\\ufes\\2023-1\\sisdist\\sisdist_labs\\.venv\\lib\\site-packages (from matplotlib==3.7.1) (1.4.4)\n",
            "Requirement already satisfied: pyparsing>=2.3.1 in c:\\users\\beama\\documents\\ufes\\2023-1\\sisdist\\sisdist_labs\\.venv\\lib\\site-packages (from matplotlib==3.7.1) (3.0.9)\n",
            "Requirement already satisfied: python-dateutil>=2.7 in c:\\users\\beama\\documents\\ufes\\2023-1\\sisdist\\sisdist_labs\\.venv\\lib\\site-packages (from matplotlib==3.7.1) (2.8.2)\n",
            "Requirement already satisfied: pillow>=6.2.0 in c:\\users\\beama\\documents\\ufes\\2023-1\\sisdist\\sisdist_labs\\.venv\\lib\\site-packages (from matplotlib==3.7.1) (9.5.0)\n",
            "Requirement already satisfied: fonttools>=4.22.0 in c:\\users\\beama\\documents\\ufes\\2023-1\\sisdist\\sisdist_labs\\.venv\\lib\\site-packages (from matplotlib==3.7.1) (4.39.3)\n",
            "Requirement already satisfied: packaging>=20.0 in c:\\users\\beama\\documents\\ufes\\2023-1\\sisdist\\sisdist_labs\\.venv\\lib\\site-packages (from matplotlib==3.7.1) (23.0)\n",
            "Requirement already satisfied: cycler>=0.10 in c:\\users\\beama\\documents\\ufes\\2023-1\\sisdist\\sisdist_labs\\.venv\\lib\\site-packages (from matplotlib==3.7.1) (0.11.0)\n",
            "Requirement already satisfied: six>=1.5 in c:\\users\\beama\\documents\\ufes\\2023-1\\sisdist\\sisdist_labs\\.venv\\lib\\site-packages (from python-dateutil>=2.7->matplotlib==3.7.1) (1.16.0)\n"
          ]
        }
      ],
      "source": [
        "!pip install flwr==1.3.0\n",
        "!pip install -U flwr[\"simulation\"]\n",
        "!pip install ray==2.2.0\n",
        "!pip install tensorflow==2.12.0\n",
        "!pip install numpy==1.22.4\n",
        "!pip install matplotlib==3.7.1"
      ]
    },
    {
      "cell_type": "markdown",
      "metadata": {
        "id": "Xt4gBsQ7VYUA"
      },
      "source": [
        "###Célula de Importação "
      ]
    },
    {
      "cell_type": "markdown",
      "metadata": {
        "id": "6wD8STHmJcZZ"
      },
      "source": [
        "Importamos a biblioteca *os*, que lida com o sistema operacional. Utilizamos ela para configurar a *flag* \"TF_CPP_MIN_LOG_LEVEL\" com o valor 3, isto faz com que os logs do *tensorflow* sejam menos verbosos durante o treinamento.\\\n",
        "Depois, importamos as demais bibliotecas: \n",
        "\n",
        "1.   *flower*, para efetuar o aprendizado federado;\n",
        "2.   *tensorflow*, para definir uma arquitetura de rede neural, incluindo todas as camadas e otimizador que usaremos;\n",
        "3.   *numpy*, biblioteca de maniupulação eficiente de vetores numéricos;\n",
        "4.   *ray*, biblioteca utilizada pelo *flower* para instanciar a simulação do aprendizado federado.\n",
        "5.   *matplotlib*, biblioteca para plotar gráficos.\n",
        "\n",
        "\n",
        "\n"
      ]
    },
    {
      "cell_type": "code",
      "execution_count": 5,
      "metadata": {
        "id": "3dwfd_R6JSkE"
      },
      "outputs": [],
      "source": [
        "import os\n",
        "# Make TensorFlow logs less verbose\n",
        "os.environ[\"TF_CPP_MIN_LOG_LEVEL\"] = \"3\"\n",
        "import flwr as fl\n",
        "import tensorflow as tf\n",
        "from tensorflow.keras.models import Sequential\n",
        "from tensorflow.keras.layers import Conv2D, MaxPool2D,Flatten,Dense\n",
        "from tensorflow.keras.optimizers import SGD\n",
        "import numpy as np\n",
        "import ray\n",
        "from matplotlib import pyplot as plt"
      ]
    },
    {
      "cell_type": "markdown",
      "metadata": {
        "id": "WMrrg_-wTSSg"
      },
      "source": [
        "#### Importação e Pré-rocessamento dos Dados"
      ]
    },
    {
      "cell_type": "markdown",
      "metadata": {
        "id": "LpgFLN0YGu2P"
      },
      "source": [
        "Neste laboratório usaremos o *dataset* MNIST, muito usado como referência na literatura. Este *dataset* é composto por imagens monocromáticas de 28 por 28 píxels (*28x28*), representando dígitos de 0 a 9 escritos a mão e anotadas com o valor do dígito. Ele contém dois *subdatasets*: o de treino e o de teste. O *subdataset* de treino é formado por 60 mil imagens, enquanto o *subdataset* de treino contém 10 mil imagens.\n",
        "\n",
        "O *tensorflow* já nos provê esse *dataset*, separando os *subdatasets* de treino entre: atributos alvo, tambem chamados de classes ou *targets* (*y_train e y_test*), e atributos não alvo (*x_train* e *x_test*), ou *features*. Sendo assim, para carregar este *dataset* basta instanciar (atribuição da variavel *mnist*) e carregar (método *load_data*)."
      ]
    },
    {
      "cell_type": "code",
      "execution_count": 6,
      "metadata": {
        "id": "Vh4cJYFwJuWl"
      },
      "outputs": [],
      "source": [
        "mnist = tf.keras.datasets.mnist\n",
        "(x_train, y_train), (x_test, y_test) = mnist.load_data()"
      ]
    },
    {
      "cell_type": "markdown",
      "metadata": {
        "id": "7bhElqYx8io1"
      },
      "source": [
        "Plotamos, como exemplo, os 10 primeiros dígitos do *dataset* de treino com suas classes. Por meio desse *plot* conseguiremos visualizar bem o tipo de dado que o *dataset* descreve.\n",
        "\n",
        " Vemos que as classes são o valor numérico que o digito representa e as imagens são dígitos escritos a mão, em preto e branco."
      ]
    },
    {
      "cell_type": "code",
      "execution_count": 7,
      "metadata": {
        "colab": {
          "base_uri": "https://localhost:8080/",
          "height": 326
        },
        "id": "YqbYR3v-7DyU",
        "outputId": "5613c6e1-4faa-4b79-efda-7e52bf1d3728"
      },
      "outputs": [
        {
          "data": {
            "image/png": "[encoded data removed]",
            "text/plain": [
              "<Figure size 750x400 with 10 Axes>"
            ]
          },
          "metadata": {},
          "output_type": "display_data"
        }
      ],
      "source": [
        "num = 10\n",
        "images = x_train[:num]\n",
        "labels = y_train[:num]\n",
        "num_row = 2\n",
        "num_col = 5\n",
        "# plot images\n",
        "fig, axes = plt.subplots(num_row, num_col, figsize=(1.5*num_col,2*num_row))\n",
        "for i in range(num):\n",
        "    ax = axes[i//num_col, i%num_col]\n",
        "    ax.imshow(images[i], cmap='gray')\n",
        "    ax.set_title('Label: {}'.format(labels[i]))\n",
        "plt.tight_layout()\n",
        "plt.show()"
      ]
    },
    {
      "cell_type": "markdown",
      "metadata": {
        "id": "__UjhTmBJBaY"
      },
      "source": [
        "**Pré-Processamento dos Dados**\n",
        "\n",
        " Primeiro trabalhamos com os dados dos atributos não alvo (*features*), checando o formato dos *datasets* nas variáveis *x_train e x_test*. emos que eles têm os formatos (60000, 28, 28) e (10000, 28, 28) respectivamente.\n",
        "\n",
        " O primeiro número indica a quantidade de imagens contidas em cada *dataset*: 60000 para o treino e 10000 para o teste. Os outros dois números são a quantidade de pixeis de cada imagem, 28 píxeis verticais e 28 píxeis horizontais.\n",
        "\n",
        "Sendo assim, cada imagem é representada como matrizes de números (28 x 28). Já que as imagens são monocromáticas, cada elemento da matriz significa a luminosidade doassociad àquela posição do *pixel*,em valores que vão de 0 a 255."
      ]
    },
    {
      "cell_type": "code",
      "execution_count": 8,
      "metadata": {
        "colab": {
          "base_uri": "https://localhost:8080/"
        },
        "id": "SU2vN7wXJpMR",
        "outputId": "68ea74bb-cd29-4f00-a667-a751b839c62a"
      },
      "outputs": [
        {
          "name": "stdout",
          "output_type": "stream",
          "text": [
            "(60000, 28, 28)\n",
            "(10000, 28, 28)\n"
          ]
        }
      ],
      "source": [
        "print(x_train.shape)\n",
        "print(x_test.shape)"
      ]
    },
    {
      "cell_type": "markdown",
      "metadata": {
        "id": "F2-4DkEMOfzR"
      },
      "source": [
        "Para usar os *datasets* no treinamento e teste de modelos de aprendizado de máquina é necessario, inicialmente, pré-processar os dados.\n",
        "\n",
        "Primeiro fazemos o *reshape*, incluindo uma nova dimensão que indica que as imagens são monocromaticas (*reshape(x_train.shape[0], x_train.shape[1], x_train.shape[2], 1)*). \n",
        "\n",
        "Depois normalizamos os dados dos atributos não alvo, dividindo os valores de luminosidade dos pixeis pelo maior valor possivel, *255*, com isso fazendo com que estes valores fiquem na faixa entre 0 e 1. \n",
        "\n",
        "Com essas duas ações encerramos  pré-processamento dos atributos não alvo (*features*)."
      ]
    },
    {
      "cell_type": "code",
      "execution_count": 9,
      "metadata": {
        "id": "HW1ZnGTP7BY3"
      },
      "outputs": [],
      "source": [
        "x_train=x_train.reshape(x_train.shape[0], x_train.shape[1], x_train.shape[2], 1)\n",
        "x_train=x_train / 255.0\n",
        "x_test = x_test.reshape(x_test.shape[0], x_test.shape[1], x_test.shape[2], 1)\n",
        "x_test=x_test/255.0"
      ]
    },
    {
      "cell_type": "markdown",
      "metadata": {
        "id": "FI_Yh2zuQTTx"
      },
      "source": [
        "Para os atributos alvo (*target*) é necessário fazer o *one hot enconding* das classes. Esta operação consistem em transformar as classes adicionando novas colunas, que indicam a presença ou não da classe. Isto é, como neste *dataset* as classes são os números de 0 a 9, adicionamos 9 novas colunas, numeradas de 0 a 9. Para cada amostra, cada uma destas novas colunas terá os valores 0 ou 1, onde 0 indica   que a amostra não é daquela classe e 1 indica que a amostra é daquela classe. \n",
        "\n",
        "Printamos a primeira amostra do conjunto de treinamento , antes e depois da aplicação da operação, para vermos seu efeito sobre a amostra."
      ]
    },
    {
      "cell_type": "code",
      "execution_count": 10,
      "metadata": {
        "colab": {
          "base_uri": "https://localhost:8080/"
        },
        "id": "zT-Dx92e4_IG",
        "outputId": "d16bfec0-31eb-4f79-89f7-6ae7f2655910"
      },
      "outputs": [
        {
          "name": "stdout",
          "output_type": "stream",
          "text": [
            "5\n",
            "tf.Tensor([0. 0. 0. 0. 0. 1. 0. 0. 0. 0.], shape=(10,), dtype=float32)\n"
          ]
        }
      ],
      "source": [
        "print(y_train[0])\n",
        "y_train = tf.one_hot(y_train.astype(np.int32), depth=10)\n",
        "y_test = tf.one_hot(y_test.astype(np.int32), depth=10)\n",
        "print(y_train[0])"
      ]
    },
    {
      "cell_type": "markdown",
      "metadata": {
        "id": "OVboMW3UTdOp"
      },
      "source": [
        "#### Treinamento Local"
      ]
    },
    {
      "cell_type": "markdown",
      "metadata": {
        "id": "bgSqVuHrQcla"
      },
      "source": [
        "A técnica de aprendizado federado foi desenvolvida inicialmente para o treinamento de redes neurais, por isso precisamos definir uma rede neural para podermos usá-la localmente e,  futuramente, comparar os  resultados do  modelos gerados localmente e federado.\n",
        "\n",
        "Esta próxima célula define uma função que monta uma rede neural convolucional simples, que usaremos na etapa de treinamento. A rede neural recebe como atributos: o formato dos dados de entrada (*input_shape*) e o numero de classes do problema (*num_classes*)."
      ]
    },
    {
      "cell_type": "code",
      "execution_count": 11,
      "metadata": {
        "id": "9WcxuXm3AK-n"
      },
      "outputs": [],
      "source": [
        "def define_model(input_shape,num_classes):\n",
        "  model = Sequential()\n",
        "  model.add(Conv2D(32, (3, 3), activation='relu', kernel_initializer='he_uniform', input_shape=input_shape))\n",
        "  model.add(MaxPool2D((2, 2)))\n",
        "  model.add(Flatten())\n",
        "  model.add(Dense(100, activation='relu', kernel_initializer='he_uniform'))\n",
        "  model.add(Dense(num_classes, activation='softmax'))\n",
        "  # compile model\n",
        "  opt = SGD(learning_rate=0.01, momentum=0.9)\n",
        "  model.compile(optimizer=opt, loss='categorical_crossentropy', metrics=['accuracy'])\n",
        "  return model"
      ]
    },
    {
      "cell_type": "markdown",
      "metadata": {
        "id": "xPW2kMNcRtzX"
      },
      "source": [
        "Conforme explicado anteriorment,  após o pré-processamento,  cada imagem do *dataset* terá o seguinte formato: 28 pixeis verticais, 28 pixeis horizontais e 1 canal de cor. Desta forma o formato de entrada dos dados é (28, 28, 1). \n",
        "\n",
        "Temos digitos de 0 a 9 em nosso *dataset*, ou seja, 10 possiveis classes. Com isso instanciamos uma rede neural usando a função *define_model* na variavel model."
      ]
    },
    {
      "cell_type": "code",
      "execution_count": 12,
      "metadata": {
        "id": "4GycOgcz7JFs"
      },
      "outputs": [],
      "source": [
        "input_shape = (28, 28, 1)\n",
        "num_classes = 10\n",
        "\n",
        "model = define_model(input_shape,num_classes)"
      ]
    },
    {
      "cell_type": "markdown",
      "metadata": {
        "id": "t0VpTq8oShd4"
      },
      "source": [
        "Inicialmente treinaremos a rede neural localmente para termos um *baseline* de comparação. A rede neural  é treinada por 5 épocas, usando 10% do *dataset* de treino para validação durante o treinamento. \n",
        "\n",
        "Usamos 64 como *batch_size*, isso significa que  expomos a rede neural a 64 amostras (lote, ou *batch*) antes de atualizarmos o valor da função de perda. Esse processo  é repetido até que todas as amostras tenham sido expostas à rede neural, terminando uma época de treinamento. "
      ]
    },
    {
      "cell_type": "code",
      "execution_count": 13,
      "metadata": {
        "colab": {
          "base_uri": "https://localhost:8080/"
        },
        "id": "SjWO0dJa7VL-",
        "outputId": "4fc3cb20-ff4d-4682-9619-aa78af018384"
      },
      "outputs": [
        {
          "name": "stdout",
          "output_type": "stream",
          "text": [
            "Epoch 1/5\n",
            "844/844 [==============================] - 13s 15ms/step - loss: 0.2191 - accuracy: 0.9322 - val_loss: 0.0947 - val_accuracy: 0.9730\n",
            "Epoch 2/5\n",
            "844/844 [==============================] - 12s 14ms/step - loss: 0.0821 - accuracy: 0.9748 - val_loss: 0.0647 - val_accuracy: 0.9830\n",
            "Epoch 3/5\n",
            "844/844 [==============================] - 14s 16ms/step - loss: 0.0524 - accuracy: 0.9842 - val_loss: 0.0631 - val_accuracy: 0.9823\n",
            "Epoch 4/5\n",
            "844/844 [==============================] - 13s 15ms/step - loss: 0.0391 - accuracy: 0.9886 - val_loss: 0.0550 - val_accuracy: 0.9865\n",
            "Epoch 5/5\n",
            "844/844 [==============================] - 12s 15ms/step - loss: 0.0304 - accuracy: 0.9907 - val_loss: 0.0540 - val_accuracy: 0.9843\n"
          ]
        }
      ],
      "source": [
        "batch_size = 64\n",
        "epochs = 5\n",
        "history = model.fit(x_train, y_train,\n",
        "                    batch_size=batch_size,\n",
        "                    epochs=epochs,\n",
        "                    validation_split=0.1)"
      ]
    },
    {
      "cell_type": "markdown",
      "metadata": {
        "id": "WftT7AFCSud_"
      },
      "source": [
        "Como conclusão, com o conjunto de teste usado neste laboratório, e usando  o nosso modelo,  obtivemos uma acurácia de ~98,39%, que é um resultado aceitável com relação a este *dataset*, comparando-se com os resultados de referência encontrados na literatura. Ver [referência](https://paperswithcode.com/sota/image-classification-on-mnist)."
      ]
    },
    {
      "cell_type": "code",
      "execution_count": 14,
      "metadata": {
        "colab": {
          "base_uri": "https://localhost:8080/"
        },
        "id": "sXIiIk8d7eGS",
        "outputId": "7b78060d-98fa-491c-ebf9-f8644230ff0a"
      },
      "outputs": [
        {
          "name": "stdout",
          "output_type": "stream",
          "text": [
            "313/313 [==============================] - 1s 3ms/step - loss: 0.0471 - accuracy: 0.9850\n"
          ]
        }
      ],
      "source": [
        "test_loss, test_acc = model.evaluate(x_test, y_test)"
      ]
    },
    {
      "cell_type": "markdown",
      "metadata": {
        "id": "gR1XwzYWTiOa"
      },
      "source": [
        "#### Treinamento Federado"
      ]
    },
    {
      "cell_type": "markdown",
      "metadata": {
        "id": "b3dPiK8tVRn1"
      },
      "source": [
        "Agora começaremos o treinamento federado desta mesma rede neural usando a biblioteca *flower*. Esta biblioteca implementa a arquitetura de aprendizado federado, onde no treinamento temos dois agentes: o servidor e os clientes. \n",
        " \n",
        "* Os clientes (treinadores) têm como tarefa treinar seus modelos usando seus dados locais e, após o treinamento, enviar os pesos encontrados para o servidor de agregação. Quando receberem os pesos agregados pelo servidor, os clientes atualizam seus modelos locai com estes pesos e recomeçam o treinamento, assim iniciando uma nova rodada (época).\n",
        "* O servidor de agregação, por sua vez, recebe estes pesos e usa algum algoritmo para agregar os diferentes pesos dos modelos gerados pelos clientes treinadores. Em seguida o servidor deve enviar de volta os pesos agregados para os clientes. \n",
        "\n",
        "Ao final desse processo,  os  pesos agregados representam o modelo global que está sendo treinado por esse conjunto de treinadores.\n",
        "\n",
        "\n",
        "\n",
        "\n",
        "\n"
      ]
    },
    {
      "cell_type": "markdown",
      "metadata": {
        "id": "GTwlQHH6W5Fa"
      },
      "source": [
        "Sabendo disso, para o uso da biblioteca *flower* temos, como primeiro passo, que implementar o código dos clientes. Para isso definimos uma classe cliente que herda da super classe *NumPyClient* provida pela biblioteca *numpy*. Para seu uso temos que implementar obrigatoriamente 3 métodos em nosso cliente:\n",
        "\n",
        "\n",
        "1.  *get_parameters(self, config)*: este método recebe um dicionário de configuração e é chamado pelo servidor como um procedimento remoto. Ele retorna os pesos do modelo do cliente na rodada atual.\n",
        "2.  *fit(self, parameters, config)*: por este método, chamado via RPC pelo servidor, o cliente recebe os pesos do modelo global e um dicionário de configuração. Ele realiza o treinamento do modelo, primeiro setando os pesos do modelo com os recebidos pelo cliente do servidor e depois treinando um novo modelo com esses novos pesos iniciais. Ela retorna: os pesos encontrados após essa rodada de treinamento, o tamanho do conjunto de treinamento e um dicionário de métricas de avaliação do modelo. O dicionário pode ser retornado vazio.\n",
        "3.  *evaluate(self, parameters, config)*: por este método, chamado remotamente pelo servidor, o cliente recebe os pesos do modelo global e um dicionário de configuração. Ele avalia localmente o modelo treinado e retorna o valor da função de perda encontrado para este cliente, o tamanho do conjunto de teste e um dicionário de métricas de avaliação do modelo. Neste caso, retornaremos a acurácia.\n",
        "\n",
        "Também definimos um método opcional *\\_\\_init\\_\\_(self, model, x_train, y_train, x_test, y_test)* que é o de inicialização do objeto, recebendo o modelo pré-instanciado e os conjuntos de teste e treino.\n",
        "\n"
      ]
    },
    {
      "cell_type": "code",
      "execution_count": 17,
      "metadata": {
        "id": "Y9mL7lqLWQTG"
      },
      "outputs": [],
      "source": [
        "class FlowerClient(fl.client.NumPyClient):\n",
        "    def __init__(self, model, x_train, y_train, x_test, y_test) -> None:\n",
        "        self.model = model\n",
        "        self.x_train = x_train\n",
        "        self.y_train = y_train\n",
        "        self.x_test = x_test\n",
        "        self.y_test = y_test\n",
        "\n",
        "    def get_parameters(self, config):\n",
        "        return self.model.get_weights()\n",
        "\n",
        "    def fit(self, parameters, config):\n",
        "        self.model.set_weights(parameters)\n",
        "        self.model.fit(self.x_train, self.y_train, epochs=1, verbose=2)\n",
        "        return self.model.get_weights(), len(self.x_train), {}\n",
        "\n",
        "    def evaluate(self, parameters, config):\n",
        "        self.model.set_weights(parameters)\n",
        "        loss, acc = self.model.evaluate(self.x_test, self.y_test, verbose=2)\n",
        "        return loss, len(self.x_test), {\"accuracy\": acc}"
      ]
    },
    {
      "cell_type": "markdown",
      "metadata": {
        "id": "JkXB2eVJbeQk"
      },
      "source": [
        "Como estamos usando um *notebook*, não podemos instanciar clientes e servidores do *flower* diretamente. Por isso a biblioteca prove uma alternativa que é o módulo de simulação. Ele simula o aprendizado federado sem o uso de conexões de rede.\\\n",
        "\\\n",
        "Para o seu uso temos que definir uma função que instancias os clientes com a assinatura *fn(str) -> fl.client.Client*. Esta função recebe uma *string* que é um identificador único do cliente usado pela simulação e nos retorna o cliente instanciado. Internamente ela particiona o *dataset*, amostrando, sem reposição, um número aleatório de imagens, compondo um conjunto de dados que representa os dados locais daquele cliente. \n",
        "\n",
        "A seguir faremos os mesmos passos anteriores de pré-processamento e instanciamento da rede neural. Finalmente instanciaremos um cliente *flower* e retornamos."
      ]
    },
    {
      "cell_type": "code",
      "execution_count": 18,
      "metadata": {
        "id": "CHd05AShiI46"
      },
      "outputs": [],
      "source": [
        "def client_fn_random(cid: str) -> fl.client.Client:\n",
        "    input_shape = (28, 28, 1)\n",
        "    num_classes = 10\n",
        "    num_clients = 10\n",
        "    partition_size = 500\n",
        "    \n",
        "\n",
        "    (x_train, y_train), (x_test, y_test) = tf.keras.datasets.mnist.load_data()\n",
        "    #sample_size_train = int(cid) * partition_size\n",
        "    #sample_size_test = int(cid) * partition_size\n",
        "    sample_size_train = int((1/num_clients)*len(x_train))\n",
        "    sample_size_test = int((1/num_clients)*len(x_test))\n",
        "    idx_train = np.random.choice(np.arange(len(x_train)), sample_size_train, replace=False)\n",
        "    x_train = x_train[idx_train]/255.0\n",
        "    y_train = y_train[idx_train]\n",
        "    y_train = tf.one_hot(y_train.astype(np.int32), depth=10)\n",
        "    idx_test = np.random.choice(np.arange(len(x_test)), sample_size_test, replace=False)\n",
        "    x_test = x_test[idx_test]/255.0\n",
        "    y_test = y_test[idx_test]\n",
        "    y_test = tf.one_hot(y_test.astype(np.int32), depth=10)\n",
        "    model = define_model(input_shape,num_classes)\n",
        "    # Create and return client\n",
        "    return FlowerClient(model, x_train, y_train, x_test, y_test)"
      ]
    },
    {
      "cell_type": "markdown",
      "metadata": {
        "id": "Txp65BZCdFkD"
      },
      "source": [
        "Para a avaliação do modelo precisamos de uma função de agregação de métricas. Isto é necessário pois, a priori, a simulação não sabe que tipo de métrica será usada para avaliar o modelo. Por isso o programador tem que criar uma função que lide com a agregação dos valores de métricas que ele esta usando para avaliar seu modelo. Desta maneira esta função é usada para que a simulação consiga retornar a evolução dos valores das métricas em cada *round* usando um objeto do tipo *history*.\n",
        "\n",
        "\n",
        "Aqui definimos a função de agregação como a média ponderada da acurácia pelo tamanho do conjunto de dados de cada cliente."
      ]
    },
    {
      "cell_type": "code",
      "execution_count": 19,
      "metadata": {
        "id": "1ZZ0onPuExOM"
      },
      "outputs": [],
      "source": [
        "def weighted_average(metrics):\n",
        "    # Multiply accuracy of each client by number of examples used\n",
        "    acc = [num_examples * m[\"accuracy\"] for num_examples, m in metrics]\n",
        "    examples = [num_examples for num_examples, _ in metrics]\n",
        "\n",
        "    # Aggregate and return custom metric (weighted average)\n",
        "    results = {\"accuracy\": sum(acc) / sum(examples)}\n",
        "    return results"
      ]
    },
    {
      "attachments": {},
      "cell_type": "markdown",
      "metadata": {
        "id": "1VQnCBXtd0fr"
      },
      "source": [
        "Precisamos agora definir o número de clientes que participação do aprendizado federado, 10 clientes neste exemplo, e uma estratégia de agregação dos pesos a ser usada pelo servidor.\n",
        "\n",
        "Esta estratégia é um objeto do tipo *strategy* da biblioteca *flower*. Além de definir o algoritmo de agregação dos pesos, no caso usamos o *Federated Average (FedAvg)*, também é preciso configurar o comportamento do servidor durante o processo de treinamento. Com essa biblioteca nós configuramos o servidor para:\n",
        "\n",
        "- 1.   Escolher aleatoriamente 90% dos clientes (9 clientes neste exemplo) para o treinamento (*fraction_fit*);\n",
        "- 2.   Usar todos os clientes para a avaliação do modelo (*fraction_evaluate*);\n",
        "- 3.   Nunca usar menos que 9 clientes para o treinamento (*min_fit_clients*);\n",
        "- 4.   Nunca usar menos que 9 clientes para a avaliação do modelo (*min_evaluate_clients*);\n",
        "- 5.   Esperar que tenha pelo menos 9 clientes prontos antes de começar o treinamento(*min_available_clients*);\n",
        "- 6.   Usar a função *weighted_average*, definida anteriormente, como função de agregação de métricas\n",
        "\n",
        "Finalmente iniciamos a simulação usando a função *fl.simulation.start_simulation*. Passamos para essa função a função de instanciamento de clientes (*client_fn_random*), o número de clientes (*num_clients*), um dicionário de configuração, que diz para o servidor quantos *rounds* de treinamento queremos (*fl.server.ServerConfig(num_rounds=5)*) e a estratégia de treinamento (*strategy*). \n"
      ]
    },
    {
      "cell_type": "code",
      "execution_count": null,
      "metadata": {
        "colab": {
          "base_uri": "https://localhost:8080/"
        },
        "id": "MRvT4OOdXADa",
        "outputId": "bb3b750a-fa1d-4c53-b3fa-ffc9cd409040"
      },
      "outputs": [],
      "source": [
        "num_clients = 10\n",
        "\n",
        "# Create FedAvg strategy\n",
        "print(\"creating strategy\")\n",
        "strategy = fl.server.strategy.FedAvg(\n",
        "    fraction_fit=0.9,  \n",
        "    fraction_evaluate=1,  \n",
        "    min_fit_clients=9,  \n",
        "    min_evaluate_clients=9,  \n",
        "    min_available_clients=int(\n",
        "        num_clients * 0.9\n",
        "    ),  \n",
        "    evaluate_metrics_aggregation_fn=weighted_average,\n",
        ")\n",
        "\n",
        "print(\"starting simulation\")\n",
        "# Start simulation\n",
        "history = fl.simulation.start_simulation(\n",
        "    client_fn=client_fn_random,\n",
        "    num_clients=num_clients,\n",
        "    config=fl.server.ServerConfig(num_rounds=10),\n",
        "    strategy=strategy,\n",
        "    \n",
        ")"
      ]
    },
    {
      "cell_type": "markdown",
      "metadata": {
        "id": "ZjQznojrgy46"
      },
      "source": [
        "Printamos os resultados do treinamento retornados no formato do objeto *history*. Ele tem dois atributos: um dicionário com a média da função de perda a cada *round* e um dicionário com os valores das métricas agregadas a cada *round*, calculadas pela função de agregação. \n",
        "\n",
        "Podemos observar a evolução destes dois valores a cada *round*. Para os 4 primeiros *rounds* tivemos uma melhora do valor da função de perda e da acurácia, mas no último *round* a função de perda diminuiu pouco e a acurácia se manteve estável.\n",
        "\n",
        "O número de *rounds* de treinamento é um valor muito importante para o aprendizado federado. Similar ao número de épocas de treinamento no aprendizado local, precisamos de *rounds* suficientes para que o modelo convirja com pesos adequados, mas temos que tomar cuidado para não causar o *overfitting* da rede, caso tenhamos muitos *rounds*."
      ]
    },
    {
      "cell_type": "code",
      "execution_count": 24,
      "metadata": {
        "colab": {
          "base_uri": "https://localhost:8080/"
        },
        "id": "DLw296UPIIIw",
        "outputId": "57ce75a3-9dba-4fbb-d9cb-d69846206936"
      },
      "outputs": [
        {
          "name": "stdout",
          "output_type": "stream",
          "text": [
            "History (loss, distributed):\n",
            "\tround 1: 0.24429697096347808\n",
            "\tround 2: 0.14132990539073945\n",
            "\tround 3: 0.11054419279098511\n",
            "\tround 4: 0.08604531660676003\n",
            "\tround 5: 0.07618960738182068\n",
            "History (metrics, distributed):\n",
            "{'accuracy': [(1, 0.9264999985694885), (2, 0.9616000056266785), (3, 0.9662999987602234), (4, 0.9727000057697296), (5, 0.9774999976158142)]}\n"
          ]
        }
      ],
      "source": [
        "print(history)"
      ]
    },
    {
      "cell_type": "markdown",
      "metadata": {
        "id": "QbSgu-8-lDm5"
      },
      "source": [
        "A seguir plotaremos a acurácia por *round*. Observe que ela parece estar tendendo a aumentar a cada *round* e, **talvez**, se aumentássemos o numero de *rounds* teríamos uma acurácia ainda melhor."
      ]
    },
    {
      "cell_type": "code",
      "execution_count": 31,
      "metadata": {
        "colab": {
          "base_uri": "https://localhost:8080/",
          "height": 454
        },
        "id": "K0OJfjkxW9NX",
        "outputId": "1d0fb1f3-fc89-4ea2-9694-a3ae26b6e3d0"
      },
      "outputs": [
        {
          "data": {
            "image/png": "[encoded data removed]",
            "text/plain": [
              "<Figure size 640x480 with 1 Axes>"
            ]
          },
          "metadata": {},
          "output_type": "display_data"
        }
      ],
      "source": [
        "plt.plot(*zip(*history.metrics_distributed['accuracy']))\n",
        "plt.ylim(0.9, 1)\n",
        "plt.xlabel(\"Rounds\")\n",
        "plt.ylabel(\"Accuracy\")\n",
        "plt.show()"
      ]
    },
    {
      "cell_type": "markdown",
      "metadata": {
        "id": "5R6RJStQTnCc"
      },
      "source": [
        "#### Atividades"
      ]
    },
    {
      "attachments": {},
      "cell_type": "markdown",
      "metadata": {
        "id": "n8LqayNw6xLV"
      },
      "source": [
        "**Atividade 1** \n",
        "\n",
        "Durante a configuração do treinamento federado definimos valores para muitos hyper-parâmetros. Um dos mais importantes é foi o número de *rounds*. Por isso nesta tarefa vocês deverão treinar a rede de maneira federada variando o número de rounds em diferentes valores. \n",
        "\n",
        " \n",
        "\n",
        "- *   Os valores a serem usados para o número de *rounds* são 10, 15, 20;\n",
        "- *   Para cada valor deve-se plotar um gráfico de linha que relaciona o número de *rounds* com a acurácia obtida naquele número de *rounds*.\n",
        "\n",
        "Além   disso deve-se comparar a desempenho do modelo federado com os diferentes valores de *rounds* e o  desempenho encontrado quando treinamos localmente a rede neural.\n",
        "\n",
        "\n",
        "\n"
      ]
    },
    {
      "cell_type": "code",
      "execution_count": 27,
      "metadata": {},
      "outputs": [
        {
          "name": "stderr",
          "output_type": "stream",
          "text": [
            "INFO flwr 2023-04-11 18:10:55,010 | app.py:145 | Starting Flower simulation, config: ServerConfig(num_rounds=10, round_timeout=None)\n"
          ]
        },
        {
          "name": "stdout",
          "output_type": "stream",
          "text": [
            "creating strategy\n",
            "starting simulation\n"
          ]
        },
        {
          "name": "stderr",
          "output_type": "stream",
          "text": [
            "2023-04-11 18:11:00,403\tINFO worker.py:1529 -- Started a local Ray instance. View the dashboard at \u001b[1m\u001b[32m127.0.0.1:8266 \u001b[39m\u001b[22m\n",
            "INFO flwr 2023-04-11 18:11:03,005 | app.py:179 | Flower VCE: Ray initialized with resources: {'node:127.0.0.1': 1.0, 'GPU': 1.0, 'CPU': 12.0, 'memory': 3959970203.0, 'object_store_memory': 1979985100.0}\n",
            "INFO flwr 2023-04-11 18:11:03,007 | server.py:86 | Initializing global parameters\n",
            "INFO flwr 2023-04-11 18:11:03,008 | server.py:270 | Requesting initial parameters from one random client\n",
            "INFO flwr 2023-04-11 18:11:06,857 | server.py:274 | Received initial parameters from one random client\n",
            "INFO flwr 2023-04-11 18:11:06,858 | server.py:88 | Evaluating initial parameters\n",
            "INFO flwr 2023-04-11 18:11:06,859 | server.py:101 | FL starting\n",
            "DEBUG flwr 2023-04-11 18:11:06,860 | server.py:215 | fit_round 1: strategy sampled 9 clients (out of 10)\n"
          ]
        },
        {
          "name": "stdout",
          "output_type": "stream",
          "text": [
            "\u001b[2m\u001b[36m(launch_and_fit pid=9768)\u001b[0m 188/188 - 3s - loss: 0.4539 - accuracy: 0.8523 - 3s/epoch - 18ms/step\n",
            "\u001b[2m\u001b[36m(launch_and_fit pid=22360)\u001b[0m 188/188 - 7s - loss: 0.4889 - accuracy: 0.8405 - 7s/epoch - 35ms/step\n",
            "\u001b[2m\u001b[36m(launch_and_fit pid=17748)\u001b[0m 188/188 - 7s - loss: 0.4797 - accuracy: 0.8475 - 7s/epoch - 35ms/step\n",
            "\u001b[2m\u001b[36m(launch_and_fit pid=20184)\u001b[0m 188/188 - 7s - loss: 0.4932 - accuracy: 0.8492 - 7s/epoch - 35ms/step\n",
            "\u001b[2m\u001b[36m(launch_and_fit pid=24944)\u001b[0m 188/188 - 7s - loss: 0.4765 - accuracy: 0.8477 - 7s/epoch - 39ms/step\n",
            "\u001b[2m\u001b[36m(launch_and_fit pid=9056)\u001b[0m 188/188 - 7s - loss: 0.4925 - accuracy: 0.8427 - 7s/epoch - 40ms/step\n",
            "\u001b[2m\u001b[36m(launch_and_fit pid=22072)\u001b[0m 188/188 - 8s - loss: 0.4912 - accuracy: 0.8475 - 8s/epoch - 41ms/step\n",
            "\u001b[2m\u001b[36m(launch_and_fit pid=21160)\u001b[0m 188/188 - 8s - loss: 0.4901 - accuracy: 0.8468 - 8s/epoch - 44ms/step\n"
          ]
        },
        {
          "name": "stderr",
          "output_type": "stream",
          "text": [
            "DEBUG flwr 2023-04-11 18:11:23,983 | server.py:229 | fit_round 1 received 9 results and 0 failures\n",
            "WARNING flwr 2023-04-11 18:11:24,017 | fedavg.py:242 | No fit_metrics_aggregation_fn provided\n",
            "DEBUG flwr 2023-04-11 18:11:24,020 | server.py:165 | evaluate_round 1: strategy sampled 10 clients (out of 10)\n"
          ]
        },
        {
          "name": "stdout",
          "output_type": "stream",
          "text": [
            "\u001b[2m\u001b[36m(launch_and_fit pid=25328)\u001b[0m 188/188 - 9s - loss: 0.4889 - accuracy: 0.8495 - 9s/epoch - 47ms/step\n",
            "\u001b[2m\u001b[36m(launch_and_evaluate pid=17748)\u001b[0m 32/32 - 1s - loss: 0.1856 - accuracy: 0.9450 - 645ms/epoch - 20ms/step\n",
            "\u001b[2m\u001b[36m(launch_and_evaluate pid=22072)\u001b[0m 32/32 - 1s - loss: 0.2134 - accuracy: 0.9390 - 666ms/epoch - 21ms/step\n",
            "\u001b[2m\u001b[36m(launch_and_evaluate pid=9768)\u001b[0m 32/32 - 1s - loss: 0.1817 - accuracy: 0.9580 - 735ms/epoch - 23ms/step\n",
            "\u001b[2m\u001b[36m(launch_and_evaluate pid=22360)\u001b[0m 32/32 - 1s - loss: 0.1683 - accuracy: 0.9570 - 755ms/epoch - 24ms/step\n",
            "\u001b[2m\u001b[36m(launch_and_evaluate pid=21160)\u001b[0m 32/32 - 1s - loss: 0.2102 - accuracy: 0.9380 - 785ms/epoch - 25ms/step\n",
            "\u001b[2m\u001b[36m(launch_and_evaluate pid=24944)\u001b[0m 32/32 - 1s - loss: 0.2402 - accuracy: 0.9330 - 788ms/epoch - 25ms/step\n",
            "\u001b[2m\u001b[36m(launch_and_evaluate pid=9056)\u001b[0m 32/32 - 1s - loss: 0.1798 - accuracy: 0.9450 - 885ms/epoch - 28ms/step\n",
            "\u001b[2m\u001b[36m(launch_and_evaluate pid=25328)\u001b[0m 32/32 - 1s - loss: 0.1914 - accuracy: 0.9510 - 887ms/epoch - 28ms/step\n",
            "\u001b[2m\u001b[36m(launch_and_evaluate pid=20184)\u001b[0m 32/32 - 1s - loss: 0.1767 - accuracy: 0.9480 - 842ms/epoch - 26ms/step\n"
          ]
        },
        {
          "name": "stderr",
          "output_type": "stream",
          "text": [
            "DEBUG flwr 2023-04-11 18:11:29,140 | server.py:179 | evaluate_round 1 received 10 results and 0 failures\n",
            "DEBUG flwr 2023-04-11 18:11:29,141 | server.py:215 | fit_round 2: strategy sampled 9 clients (out of 10)\n"
          ]
        },
        {
          "name": "stdout",
          "output_type": "stream",
          "text": [
            "\u001b[2m\u001b[36m(launch_and_evaluate pid=8988)\u001b[0m 32/32 - 0s - loss: 0.1854 - accuracy: 0.9530 - 335ms/epoch - 10ms/step\n",
            "\u001b[2m\u001b[36m(launch_and_fit pid=9056)\u001b[0m 188/188 - 8s - loss: 0.2347 - accuracy: 0.9313 - 8s/epoch - 42ms/step\n",
            "\u001b[2m\u001b[36m(launch_and_fit pid=25328)\u001b[0m 188/188 - 8s - loss: 0.2251 - accuracy: 0.9332 - 8s/epoch - 44ms/step\n",
            "\u001b[2m\u001b[36m(launch_and_fit pid=8988)\u001b[0m 188/188 - 8s - loss: 0.2283 - accuracy: 0.9322 - 8s/epoch - 45ms/step\n",
            "\u001b[2m\u001b[36m(launch_and_fit pid=24944)\u001b[0m 188/188 - 9s - loss: 0.2290 - accuracy: 0.9298 - 9s/epoch - 46ms/step\n",
            "\u001b[2m\u001b[36m(launch_and_fit pid=22360)\u001b[0m 188/188 - 9s - loss: 0.2355 - accuracy: 0.9300 - 9s/epoch - 47ms/step\n",
            "\u001b[2m\u001b[36m(launch_and_fit pid=21160)\u001b[0m 188/188 - 9s - loss: 0.2220 - accuracy: 0.9323 - 9s/epoch - 49ms/step\n",
            "\u001b[2m\u001b[36m(launch_and_fit pid=20184)\u001b[0m 188/188 - 9s - loss: 0.2211 - accuracy: 0.9318 - 9s/epoch - 49ms/step\n",
            "\u001b[2m\u001b[36m(launch_and_fit pid=22072)\u001b[0m 188/188 - 9s - loss: 0.2291 - accuracy: 0.9297 - 9s/epoch - 50ms/step\n"
          ]
        },
        {
          "name": "stderr",
          "output_type": "stream",
          "text": [
            "DEBUG flwr 2023-04-11 18:11:39,678 | server.py:229 | fit_round 2 received 9 results and 0 failures\n",
            "DEBUG flwr 2023-04-11 18:11:39,720 | server.py:165 | evaluate_round 2: strategy sampled 10 clients (out of 10)\n"
          ]
        },
        {
          "name": "stdout",
          "output_type": "stream",
          "text": [
            "\u001b[2m\u001b[36m(launch_and_fit pid=9768)\u001b[0m 188/188 - 10s - loss: 0.2311 - accuracy: 0.9315 - 10s/epoch - 52ms/step\n",
            "\u001b[2m\u001b[36m(launch_and_evaluate pid=9768)\u001b[0m 32/32 - 1s - loss: 0.1395 - accuracy: 0.9570 - 630ms/epoch - 20ms/step\n",
            "\u001b[2m\u001b[36m(launch_and_evaluate pid=22360)\u001b[0m 32/32 - 1s - loss: 0.1509 - accuracy: 0.9540 - 625ms/epoch - 20ms/step\n",
            "\u001b[2m\u001b[36m(launch_and_evaluate pid=22072)\u001b[0m 32/32 - 1s - loss: 0.1438 - accuracy: 0.9560 - 614ms/epoch - 19ms/step\n",
            "\u001b[2m\u001b[36m(launch_and_evaluate pid=21160)\u001b[0m 32/32 - 1s - loss: 0.1158 - accuracy: 0.9640 - 673ms/epoch - 21ms/step\n",
            "\u001b[2m\u001b[36m(launch_and_evaluate pid=20184)\u001b[0m 32/32 - 1s - loss: 0.1281 - accuracy: 0.9590 - 689ms/epoch - 22ms/step\n",
            "\u001b[2m\u001b[36m(launch_and_evaluate pid=9056)\u001b[0m 32/32 - 1s - loss: 0.1285 - accuracy: 0.9600 - 766ms/epoch - 24ms/step\n",
            "\u001b[2m\u001b[36m(launch_and_evaluate pid=24944)\u001b[0m 32/32 - 1s - loss: 0.1404 - accuracy: 0.9580 - 749ms/epoch - 23ms/step\n",
            "\u001b[2m\u001b[36m(launch_and_evaluate pid=25328)\u001b[0m 32/32 - 1s - loss: 0.1257 - accuracy: 0.9620 - 788ms/epoch - 25ms/step\n"
          ]
        },
        {
          "name": "stderr",
          "output_type": "stream",
          "text": [
            "DEBUG flwr 2023-04-11 18:11:41,540 | server.py:179 | evaluate_round 2 received 10 results and 0 failures\n",
            "DEBUG flwr 2023-04-11 18:11:41,541 | server.py:215 | fit_round 3: strategy sampled 9 clients (out of 10)\n"
          ]
        },
        {
          "name": "stdout",
          "output_type": "stream",
          "text": [
            "\u001b[2m\u001b[36m(launch_and_evaluate pid=17748)\u001b[0m 32/32 - 1s - loss: 0.1477 - accuracy: 0.9490 - 1s/epoch - 33ms/step\n",
            "\u001b[2m\u001b[36m(launch_and_evaluate pid=8988)\u001b[0m 32/32 - 1s - loss: 0.1293 - accuracy: 0.9620 - 1s/epoch - 33ms/step\n",
            "\u001b[2m\u001b[36m(launch_and_fit pid=22360)\u001b[0m 188/188 - 8s - loss: 0.1571 - accuracy: 0.9552 - 8s/epoch - 44ms/step\n",
            "\u001b[2m\u001b[36m(launch_and_fit pid=9056)\u001b[0m 188/188 - 9s - loss: 0.1642 - accuracy: 0.9488 - 9s/epoch - 47ms/step\n",
            "\u001b[2m\u001b[36m(launch_and_fit pid=25328)\u001b[0m 188/188 - 9s - loss: 0.1458 - accuracy: 0.9543 - 9s/epoch - 46ms/step\n",
            "\u001b[2m\u001b[36m(launch_and_fit pid=24944)\u001b[0m 188/188 - 9s - loss: 0.1725 - accuracy: 0.9513 - 9s/epoch - 50ms/step\n",
            "\u001b[2m\u001b[36m(launch_and_fit pid=17748)\u001b[0m 188/188 - 10s - loss: 0.1660 - accuracy: 0.9473 - 10s/epoch - 51ms/step\n",
            "\u001b[2m\u001b[36m(launch_and_fit pid=20184)\u001b[0m 188/188 - 9s - loss: 0.1567 - accuracy: 0.9502 - 9s/epoch - 49ms/step\n",
            "\u001b[2m\u001b[36m(launch_and_fit pid=8988)\u001b[0m 188/188 - 10s - loss: 0.1608 - accuracy: 0.9487 - 10s/epoch - 51ms/step\n"
          ]
        },
        {
          "name": "stderr",
          "output_type": "stream",
          "text": [
            "DEBUG flwr 2023-04-11 18:11:52,212 | server.py:229 | fit_round 3 received 9 results and 0 failures\n",
            "DEBUG flwr 2023-04-11 18:11:52,258 | server.py:165 | evaluate_round 3: strategy sampled 10 clients (out of 10)\n"
          ]
        },
        {
          "name": "stdout",
          "output_type": "stream",
          "text": [
            "\u001b[2m\u001b[36m(launch_and_fit pid=21160)\u001b[0m 188/188 - 10s - loss: 0.1591 - accuracy: 0.9532 - 10s/epoch - 52ms/step\n",
            "\u001b[2m\u001b[36m(launch_and_fit pid=22072)\u001b[0m 188/188 - 10s - loss: 0.1476 - accuracy: 0.9525 - 10s/epoch - 53ms/step\n",
            "\u001b[2m\u001b[36m(launch_and_evaluate pid=17748)\u001b[0m 32/32 - 1s - loss: 0.1227 - accuracy: 0.9610 - 684ms/epoch - 21ms/step\n",
            "\u001b[2m\u001b[36m(launch_and_evaluate pid=22360)\u001b[0m 32/32 - 1s - loss: 0.1094 - accuracy: 0.9630 - 808ms/epoch - 25ms/step\n",
            "\u001b[2m\u001b[36m(launch_and_evaluate pid=8988)\u001b[0m 32/32 - 1s - loss: 0.0878 - accuracy: 0.9740 - 804ms/epoch - 25ms/step\n"
          ]
        },
        {
          "name": "stderr",
          "output_type": "stream",
          "text": [
            "DEBUG flwr 2023-04-11 18:11:54,135 | server.py:179 | evaluate_round 3 received 10 results and 0 failures\n",
            "DEBUG flwr 2023-04-11 18:11:54,137 | server.py:215 | fit_round 4: strategy sampled 9 clients (out of 10)\n"
          ]
        },
        {
          "name": "stdout",
          "output_type": "stream",
          "text": [
            "\u001b[2m\u001b[36m(launch_and_evaluate pid=21160)\u001b[0m 32/32 - 1s - loss: 0.0851 - accuracy: 0.9790 - 908ms/epoch - 28ms/step\n",
            "\u001b[2m\u001b[36m(launch_and_evaluate pid=24944)\u001b[0m 32/32 - 1s - loss: 0.0894 - accuracy: 0.9720 - 880ms/epoch - 27ms/step\n",
            "\u001b[2m\u001b[36m(launch_and_evaluate pid=25328)\u001b[0m 32/32 - 1s - loss: 0.0833 - accuracy: 0.9750 - 867ms/epoch - 27ms/step\n",
            "\u001b[2m\u001b[36m(launch_and_evaluate pid=22072)\u001b[0m 32/32 - 1s - loss: 0.1054 - accuracy: 0.9730 - 943ms/epoch - 29ms/step\n",
            "\u001b[2m\u001b[36m(launch_and_evaluate pid=9056)\u001b[0m 32/32 - 1s - loss: 0.0956 - accuracy: 0.9680 - 978ms/epoch - 31ms/step\n",
            "\u001b[2m\u001b[36m(launch_and_evaluate pid=9768)\u001b[0m 32/32 - 1s - loss: 0.1051 - accuracy: 0.9750 - 1s/epoch - 32ms/step\n",
            "\u001b[2m\u001b[36m(launch_and_evaluate pid=20184)\u001b[0m 32/32 - 1s - loss: 0.1196 - accuracy: 0.9610 - 999ms/epoch - 31ms/step\n",
            "\u001b[2m\u001b[36m(launch_and_fit pid=9768)\u001b[0m 188/188 - 8s - loss: 0.1246 - accuracy: 0.9620 - 8s/epoch - 40ms/step\n",
            "\u001b[2m\u001b[36m(launch_and_fit pid=20184)\u001b[0m 188/188 - 7s - loss: 0.1151 - accuracy: 0.9657 - 7s/epoch - 39ms/step\n",
            "\u001b[2m\u001b[36m(launch_and_fit pid=21160)\u001b[0m 188/188 - 8s - loss: 0.1289 - accuracy: 0.9612 - 8s/epoch - 45ms/step\n",
            "\u001b[2m\u001b[36m(launch_and_fit pid=24944)\u001b[0m 188/188 - 8s - loss: 0.1305 - accuracy: 0.9605 - 8s/epoch - 44ms/step\n",
            "\u001b[2m\u001b[36m(launch_and_fit pid=25328)\u001b[0m 188/188 - 8s - loss: 0.1240 - accuracy: 0.9642 - 8s/epoch - 45ms/step\n",
            "\u001b[2m\u001b[36m(launch_and_fit pid=9056)\u001b[0m 188/188 - 9s - loss: 0.1228 - accuracy: 0.9628 - 9s/epoch - 47ms/step\n"
          ]
        },
        {
          "name": "stderr",
          "output_type": "stream",
          "text": [
            "DEBUG flwr 2023-04-11 18:12:04,351 | server.py:229 | fit_round 4 received 9 results and 0 failures\n"
          ]
        },
        {
          "name": "stdout",
          "output_type": "stream",
          "text": [
            "\u001b[2m\u001b[36m(launch_and_fit pid=22360)\u001b[0m 188/188 - 9s - loss: 0.1154 - accuracy: 0.9662 - 9s/epoch - 49ms/step\n",
            "\u001b[2m\u001b[36m(launch_and_fit pid=8988)\u001b[0m 188/188 - 9s - loss: 0.1278 - accuracy: 0.9623 - 9s/epoch - 49ms/step\n"
          ]
        },
        {
          "name": "stderr",
          "output_type": "stream",
          "text": [
            "DEBUG flwr 2023-04-11 18:12:04,399 | server.py:165 | evaluate_round 4: strategy sampled 10 clients (out of 10)\n"
          ]
        },
        {
          "name": "stdout",
          "output_type": "stream",
          "text": [
            "\u001b[2m\u001b[36m(launch_and_fit pid=22072)\u001b[0m 188/188 - 9s - loss: 0.1347 - accuracy: 0.9588 - 9s/epoch - 50ms/step\n",
            "\u001b[2m\u001b[36m(launch_and_evaluate pid=22360)\u001b[0m 32/32 - 1s - loss: 0.0856 - accuracy: 0.9700 - 655ms/epoch - 20ms/step\n",
            "\u001b[2m\u001b[36m(launch_and_evaluate pid=22072)\u001b[0m 32/32 - 1s - loss: 0.0914 - accuracy: 0.9710 - 727ms/epoch - 23ms/step\n",
            "\u001b[2m\u001b[36m(launch_and_evaluate pid=8988)\u001b[0m 32/32 - 1s - loss: 0.1103 - accuracy: 0.9640 - 680ms/epoch - 21ms/step\n",
            "\u001b[2m\u001b[36m(launch_and_evaluate pid=9768)\u001b[0m 32/32 - 1s - loss: 0.0939 - accuracy: 0.9720 - 816ms/epoch - 26ms/step\n",
            "\u001b[2m\u001b[36m(launch_and_evaluate pid=9056)\u001b[0m 32/32 - 1s - loss: 0.0820 - accuracy: 0.9780 - 887ms/epoch - 28ms/step\n",
            "\u001b[2m\u001b[36m(launch_and_evaluate pid=24944)\u001b[0m 32/32 - 1s - loss: 0.1107 - accuracy: 0.9660 - 839ms/epoch - 26ms/step\n",
            "\u001b[2m\u001b[36m(launch_and_evaluate pid=17748)\u001b[0m 32/32 - 1s - loss: 0.0699 - accuracy: 0.9780 - 820ms/epoch - 26ms/step\n",
            "\u001b[2m\u001b[36m(launch_and_evaluate pid=25328)\u001b[0m 32/32 - 1s - loss: 0.0940 - accuracy: 0.9730 - 821ms/epoch - 26ms/step\n"
          ]
        },
        {
          "name": "stderr",
          "output_type": "stream",
          "text": [
            "DEBUG flwr 2023-04-11 18:12:06,214 | server.py:179 | evaluate_round 4 received 10 results and 0 failures\n",
            "DEBUG flwr 2023-04-11 18:12:06,215 | server.py:215 | fit_round 5: strategy sampled 9 clients (out of 10)\n"
          ]
        },
        {
          "name": "stdout",
          "output_type": "stream",
          "text": [
            "\u001b[2m\u001b[36m(launch_and_evaluate pid=21160)\u001b[0m 32/32 - 1s - loss: 0.0821 - accuracy: 0.9760 - 925ms/epoch - 29ms/step\n",
            "\u001b[2m\u001b[36m(launch_and_evaluate pid=20184)\u001b[0m 32/32 - 1s - loss: 0.0857 - accuracy: 0.9780 - 900ms/epoch - 28ms/step\n",
            "\u001b[2m\u001b[36m(launch_and_fit pid=20184)\u001b[0m 188/188 - 8s - loss: 0.0987 - accuracy: 0.9722 - 8s/epoch - 41ms/step\n",
            "\u001b[2m\u001b[36m(launch_and_fit pid=9768)\u001b[0m 188/188 - 9s - loss: 0.1140 - accuracy: 0.9655 - 9s/epoch - 48ms/step\n",
            "\u001b[2m\u001b[36m(launch_and_fit pid=21160)\u001b[0m 188/188 - 9s - loss: 0.1101 - accuracy: 0.9683 - 9s/epoch - 47ms/step\n",
            "\u001b[2m\u001b[36m(launch_and_fit pid=24944)\u001b[0m 188/188 - 8s - loss: 0.1060 - accuracy: 0.9665 - 8s/epoch - 44ms/step\n",
            "\u001b[2m\u001b[36m(launch_and_fit pid=17748)\u001b[0m 188/188 - 9s - loss: 0.1120 - accuracy: 0.9665 - 9s/epoch - 48ms/step\n",
            "\u001b[2m\u001b[36m(launch_and_fit pid=22072)\u001b[0m 188/188 - 9s - loss: 0.0993 - accuracy: 0.9710 - 9s/epoch - 49ms/step\n",
            "\u001b[2m\u001b[36m(launch_and_fit pid=8988)\u001b[0m 188/188 - 9s - loss: 0.0992 - accuracy: 0.9713 - 9s/epoch - 48ms/step\n"
          ]
        },
        {
          "name": "stderr",
          "output_type": "stream",
          "text": [
            "DEBUG flwr 2023-04-11 18:12:16,894 | server.py:229 | fit_round 5 received 9 results and 0 failures\n",
            "DEBUG flwr 2023-04-11 18:12:16,939 | server.py:165 | evaluate_round 5: strategy sampled 10 clients (out of 10)\n"
          ]
        },
        {
          "name": "stdout",
          "output_type": "stream",
          "text": [
            "\u001b[2m\u001b[36m(launch_and_fit pid=9056)\u001b[0m 188/188 - 10s - loss: 0.1068 - accuracy: 0.9682 - 10s/epoch - 51ms/step\n",
            "\u001b[2m\u001b[36m(launch_and_fit pid=25328)\u001b[0m 188/188 - 10s - loss: 0.1095 - accuracy: 0.9677 - 10s/epoch - 52ms/step\n",
            "\u001b[2m\u001b[36m(launch_and_evaluate pid=25328)\u001b[0m 32/32 - 1s - loss: 0.0898 - accuracy: 0.9670 - 722ms/epoch - 23ms/step\n",
            "\u001b[2m\u001b[36m(launch_and_evaluate pid=22072)\u001b[0m 32/32 - 1s - loss: 0.0801 - accuracy: 0.9730 - 752ms/epoch - 24ms/step\n",
            "\u001b[2m\u001b[36m(launch_and_evaluate pid=17748)\u001b[0m 32/32 - 1s - loss: 0.0693 - accuracy: 0.9810 - 736ms/epoch - 23ms/step\n",
            "\u001b[2m\u001b[36m(launch_and_evaluate pid=9768)\u001b[0m 32/32 - 1s - loss: 0.0692 - accuracy: 0.9830 - 794ms/epoch - 25ms/step\n",
            "\u001b[2m\u001b[36m(launch_and_evaluate pid=9056)\u001b[0m 32/32 - 1s - loss: 0.0850 - accuracy: 0.9700 - 780ms/epoch - 24ms/step\n",
            "\u001b[2m\u001b[36m(launch_and_evaluate pid=24944)\u001b[0m 32/32 - 1s - loss: 0.0946 - accuracy: 0.9660 - 837ms/epoch - 26ms/step\n",
            "\u001b[2m\u001b[36m(launch_and_evaluate pid=20184)\u001b[0m 32/32 - 1s - loss: 0.0769 - accuracy: 0.9760 - 796ms/epoch - 25ms/step\n",
            "\u001b[2m\u001b[36m(launch_and_evaluate pid=8988)\u001b[0m 32/32 - 1s - loss: 0.0759 - accuracy: 0.9720 - 842ms/epoch - 26ms/step\n"
          ]
        },
        {
          "name": "stderr",
          "output_type": "stream",
          "text": [
            "DEBUG flwr 2023-04-11 18:12:18,825 | server.py:179 | evaluate_round 5 received 10 results and 0 failures\n",
            "DEBUG flwr 2023-04-11 18:12:18,827 | server.py:215 | fit_round 6: strategy sampled 9 clients (out of 10)\n"
          ]
        },
        {
          "name": "stdout",
          "output_type": "stream",
          "text": [
            "\u001b[2m\u001b[36m(launch_and_evaluate pid=22360)\u001b[0m 32/32 - 1s - loss: 0.0671 - accuracy: 0.9830 - 881ms/epoch - 28ms/step\n",
            "\u001b[2m\u001b[36m(launch_and_evaluate pid=21160)\u001b[0m 32/32 - 1s - loss: 0.0769 - accuracy: 0.9760 - 889ms/epoch - 28ms/step\n",
            "\u001b[2m\u001b[36m(launch_and_fit pid=22360)\u001b[0m 188/188 - 8s - loss: 0.0990 - accuracy: 0.9700 - 8s/epoch - 42ms/step\n",
            "\u001b[2m\u001b[36m(launch_and_fit pid=17748)\u001b[0m 188/188 - 8s - loss: 0.0924 - accuracy: 0.9748 - 8s/epoch - 42ms/step\n",
            "\u001b[2m\u001b[36m(launch_and_fit pid=21160)\u001b[0m 188/188 - 8s - loss: 0.0932 - accuracy: 0.9747 - 8s/epoch - 43ms/step\n",
            "\u001b[2m\u001b[36m(launch_and_fit pid=8988)\u001b[0m 188/188 - 8s - loss: 0.0867 - accuracy: 0.9760 - 8s/epoch - 43ms/step\n",
            "\u001b[2m\u001b[36m(launch_and_fit pid=24944)\u001b[0m 188/188 - 9s - loss: 0.0871 - accuracy: 0.9738 - 9s/epoch - 45ms/step\n",
            "\u001b[2m\u001b[36m(launch_and_fit pid=20184)\u001b[0m 188/188 - 8s - loss: 0.0860 - accuracy: 0.9763 - 8s/epoch - 45ms/step\n",
            "\u001b[2m\u001b[36m(launch_and_fit pid=9768)\u001b[0m 188/188 - 9s - loss: 0.0931 - accuracy: 0.9718 - 9s/epoch - 47ms/step\n"
          ]
        },
        {
          "name": "stderr",
          "output_type": "stream",
          "text": [
            "DEBUG flwr 2023-04-11 18:12:28,956 | server.py:229 | fit_round 6 received 9 results and 0 failures\n",
            "DEBUG flwr 2023-04-11 18:12:29,001 | server.py:165 | evaluate_round 6: strategy sampled 10 clients (out of 10)\n"
          ]
        },
        {
          "name": "stdout",
          "output_type": "stream",
          "text": [
            "\u001b[2m\u001b[36m(launch_and_fit pid=25328)\u001b[0m 188/188 - 9s - loss: 0.0989 - accuracy: 0.9690 - 9s/epoch - 48ms/step\n",
            "\u001b[2m\u001b[36m(launch_and_fit pid=9056)\u001b[0m 188/188 - 9s - loss: 0.1027 - accuracy: 0.9698 - 9s/epoch - 49ms/step\n",
            "\u001b[2m\u001b[36m(launch_and_evaluate pid=25328)\u001b[0m 32/32 - 1s - loss: 0.0722 - accuracy: 0.9780 - 639ms/epoch - 20ms/step\n",
            "\u001b[2m\u001b[36m(launch_and_evaluate pid=9768)\u001b[0m 32/32 - 1s - loss: 0.0696 - accuracy: 0.9810 - 675ms/epoch - 21ms/step\n",
            "\u001b[2m\u001b[36m(launch_and_evaluate pid=22360)\u001b[0m 32/32 - 1s - loss: 0.0633 - accuracy: 0.9800 - 720ms/epoch - 22ms/step\n",
            "\u001b[2m\u001b[36m(launch_and_evaluate pid=21160)\u001b[0m 32/32 - 1s - loss: 0.0612 - accuracy: 0.9810 - 759ms/epoch - 24ms/step\n",
            "\u001b[2m\u001b[36m(launch_and_evaluate pid=9056)\u001b[0m 32/32 - 1s - loss: 0.0468 - accuracy: 0.9810 - 803ms/epoch - 25ms/step\n",
            "\u001b[2m\u001b[36m(launch_and_evaluate pid=17748)\u001b[0m 32/32 - 1s - loss: 0.0503 - accuracy: 0.9840 - 736ms/epoch - 23ms/step\n",
            "\u001b[2m\u001b[36m(launch_and_evaluate pid=20184)\u001b[0m 32/32 - 1s - loss: 0.0606 - accuracy: 0.9800 - 771ms/epoch - 24ms/step\n"
          ]
        },
        {
          "name": "stderr",
          "output_type": "stream",
          "text": [
            "DEBUG flwr 2023-04-11 18:12:30,654 | server.py:179 | evaluate_round 6 received 10 results and 0 failures\n",
            "DEBUG flwr 2023-04-11 18:12:30,655 | server.py:215 | fit_round 7: strategy sampled 9 clients (out of 10)\n"
          ]
        },
        {
          "name": "stdout",
          "output_type": "stream",
          "text": [
            "\u001b[2m\u001b[36m(launch_and_evaluate pid=24944)\u001b[0m 32/32 - 1s - loss: 0.0685 - accuracy: 0.9820 - 863ms/epoch - 27ms/step\n",
            "\u001b[2m\u001b[36m(launch_and_evaluate pid=22072)\u001b[0m 32/32 - 1s - loss: 0.0812 - accuracy: 0.9710 - 827ms/epoch - 26ms/step\n",
            "\u001b[2m\u001b[36m(launch_and_evaluate pid=8988)\u001b[0m 32/32 - 1s - loss: 0.0782 - accuracy: 0.9760 - 885ms/epoch - 28ms/step\n",
            "\u001b[2m\u001b[36m(launch_and_fit pid=21160)\u001b[0m 188/188 - 7s - loss: 0.0812 - accuracy: 0.9760 - 7s/epoch - 39ms/step\n",
            "\u001b[2m\u001b[36m(launch_and_fit pid=24944)\u001b[0m 188/188 - 7s - loss: 0.0882 - accuracy: 0.9728 - 7s/epoch - 39ms/step\n",
            "\u001b[2m\u001b[36m(launch_and_fit pid=8988)\u001b[0m 188/188 - 8s - loss: 0.0727 - accuracy: 0.9762 - 8s/epoch - 41ms/step\n",
            "\u001b[2m\u001b[36m(launch_and_fit pid=9056)\u001b[0m 188/188 - 8s - loss: 0.0787 - accuracy: 0.9753 - 8s/epoch - 43ms/step\n",
            "\u001b[2m\u001b[36m(launch_and_fit pid=22072)\u001b[0m 188/188 - 8s - loss: 0.0738 - accuracy: 0.9775 - 8s/epoch - 43ms/step\n",
            "\u001b[2m\u001b[36m(launch_and_fit pid=20184)\u001b[0m 188/188 - 8s - loss: 0.0867 - accuracy: 0.9748 - 8s/epoch - 45ms/step\n",
            "\u001b[2m\u001b[36m(launch_and_fit pid=17748)\u001b[0m 188/188 - 9s - loss: 0.0752 - accuracy: 0.9768 - 9s/epoch - 46ms/step\n",
            "\u001b[2m\u001b[36m(launch_and_fit pid=9768)\u001b[0m 188/188 - 9s - loss: 0.0818 - accuracy: 0.9773 - 9s/epoch - 47ms/step\n"
          ]
        },
        {
          "name": "stderr",
          "output_type": "stream",
          "text": [
            "DEBUG flwr 2023-04-11 18:12:40,425 | server.py:229 | fit_round 7 received 9 results and 0 failures\n",
            "DEBUG flwr 2023-04-11 18:12:40,470 | server.py:165 | evaluate_round 7: strategy sampled 10 clients (out of 10)\n"
          ]
        },
        {
          "name": "stdout",
          "output_type": "stream",
          "text": [
            "\u001b[2m\u001b[36m(launch_and_fit pid=22360)\u001b[0m 188/188 - 9s - loss: 0.0925 - accuracy: 0.9718 - 9s/epoch - 48ms/step\n",
            "\u001b[2m\u001b[36m(launch_and_evaluate pid=9768)\u001b[0m 32/32 - 1s - loss: 0.0509 - accuracy: 0.9840 - 547ms/epoch - 17ms/step\n",
            "\u001b[2m\u001b[36m(launch_and_evaluate pid=22360)\u001b[0m 32/32 - 1s - loss: 0.0549 - accuracy: 0.9780 - 585ms/epoch - 18ms/step\n",
            "\u001b[2m\u001b[36m(launch_and_evaluate pid=17748)\u001b[0m 32/32 - 1s - loss: 0.0674 - accuracy: 0.9810 - 594ms/epoch - 19ms/step\n",
            "\u001b[2m\u001b[36m(launch_and_evaluate pid=9056)\u001b[0m 32/32 - 1s - loss: 0.0474 - accuracy: 0.9850 - 648ms/epoch - 20ms/step\n",
            "\u001b[2m\u001b[36m(launch_and_evaluate pid=20184)\u001b[0m 32/32 - 1s - loss: 0.0686 - accuracy: 0.9740 - 715ms/epoch - 22ms/step\n",
            "\u001b[2m\u001b[36m(launch_and_evaluate pid=22072)\u001b[0m 32/32 - 1s - loss: 0.0557 - accuracy: 0.9840 - 735ms/epoch - 23ms/step\n",
            "\u001b[2m\u001b[36m(launch_and_evaluate pid=8988)\u001b[0m 32/32 - 1s - loss: 0.0460 - accuracy: 0.9870 - 718ms/epoch - 22ms/step\n"
          ]
        },
        {
          "name": "stderr",
          "output_type": "stream",
          "text": [
            "DEBUG flwr 2023-04-11 18:12:42,015 | server.py:179 | evaluate_round 7 received 10 results and 0 failures\n",
            "DEBUG flwr 2023-04-11 18:12:42,017 | server.py:215 | fit_round 8: strategy sampled 9 clients (out of 10)\n"
          ]
        },
        {
          "name": "stdout",
          "output_type": "stream",
          "text": [
            "\u001b[2m\u001b[36m(launch_and_evaluate pid=21160)\u001b[0m 32/32 - 1s - loss: 0.0551 - accuracy: 0.9830 - 814ms/epoch - 25ms/step\n",
            "\u001b[2m\u001b[36m(launch_and_evaluate pid=24944)\u001b[0m 32/32 - 1s - loss: 0.0715 - accuracy: 0.9780 - 773ms/epoch - 24ms/step\n",
            "\u001b[2m\u001b[36m(launch_and_evaluate pid=25328)\u001b[0m 32/32 - 1s - loss: 0.0642 - accuracy: 0.9790 - 787ms/epoch - 25ms/step\n",
            "\u001b[2m\u001b[36m(launch_and_fit pid=21160)\u001b[0m 188/188 - 8s - loss: 0.0713 - accuracy: 0.9797 - 8s/epoch - 44ms/step\n",
            "\u001b[2m\u001b[36m(launch_and_fit pid=24944)\u001b[0m 188/188 - 8s - loss: 0.0709 - accuracy: 0.9802 - 8s/epoch - 43ms/step\n",
            "\u001b[2m\u001b[36m(launch_and_fit pid=17748)\u001b[0m 188/188 - 8s - loss: 0.0630 - accuracy: 0.9815 - 8s/epoch - 44ms/step\n",
            "\u001b[2m\u001b[36m(launch_and_fit pid=8988)\u001b[0m 188/188 - 8s - loss: 0.0843 - accuracy: 0.9745 - 8s/epoch - 43ms/step\n",
            "\u001b[2m\u001b[36m(launch_and_fit pid=22360)\u001b[0m 188/188 - 8s - loss: 0.0732 - accuracy: 0.9795 - 8s/epoch - 44ms/step\n",
            "\u001b[2m\u001b[36m(launch_and_fit pid=25328)\u001b[0m 188/188 - 8s - loss: 0.0708 - accuracy: 0.9777 - 8s/epoch - 45ms/step\n",
            "\u001b[2m\u001b[36m(launch_and_fit pid=22072)\u001b[0m 188/188 - 8s - loss: 0.0678 - accuracy: 0.9803 - 8s/epoch - 45ms/step\n",
            "\u001b[2m\u001b[36m(launch_and_fit pid=9056)\u001b[0m 188/188 - 9s - loss: 0.0745 - accuracy: 0.9788 - 9s/epoch - 46ms/step\n",
            "\u001b[2m\u001b[36m(launch_and_fit pid=20184)\u001b[0m 188/188 - 9s - loss: 0.0752 - accuracy: 0.9782 - 9s/epoch - 47ms/step\n"
          ]
        },
        {
          "name": "stderr",
          "output_type": "stream",
          "text": [
            "DEBUG flwr 2023-04-11 18:12:54,158 | server.py:229 | fit_round 8 received 9 results and 0 failures\n",
            "DEBUG flwr 2023-04-11 18:12:54,194 | server.py:165 | evaluate_round 8: strategy sampled 10 clients (out of 10)\n",
            "DEBUG flwr 2023-04-11 18:12:55,751 | server.py:179 | evaluate_round 8 received 10 results and 0 failures\n",
            "DEBUG flwr 2023-04-11 18:12:55,752 | server.py:215 | fit_round 9: strategy sampled 9 clients (out of 10)\n"
          ]
        },
        {
          "name": "stdout",
          "output_type": "stream",
          "text": [
            "\u001b[2m\u001b[36m(launch_and_evaluate pid=21160)\u001b[0m 32/32 - 1s - loss: 0.0501 - accuracy: 0.9820 - 638ms/epoch - 20ms/step\n",
            "\u001b[2m\u001b[36m(launch_and_evaluate pid=9056)\u001b[0m 32/32 - 1s - loss: 0.0542 - accuracy: 0.9840 - 631ms/epoch - 20ms/step\n",
            "\u001b[2m\u001b[36m(launch_and_evaluate pid=25328)\u001b[0m 32/32 - 1s - loss: 0.0575 - accuracy: 0.9810 - 670ms/epoch - 21ms/step\n",
            "\u001b[2m\u001b[36m(launch_and_evaluate pid=20184)\u001b[0m 32/32 - 1s - loss: 0.0650 - accuracy: 0.9770 - 649ms/epoch - 20ms/step\n",
            "\u001b[2m\u001b[36m(launch_and_evaluate pid=22072)\u001b[0m 32/32 - 1s - loss: 0.0634 - accuracy: 0.9820 - 679ms/epoch - 21ms/step\n",
            "\u001b[2m\u001b[36m(launch_and_evaluate pid=8988)\u001b[0m 32/32 - 1s - loss: 0.0586 - accuracy: 0.9840 - 673ms/epoch - 21ms/step\n",
            "\u001b[2m\u001b[36m(launch_and_evaluate pid=22360)\u001b[0m 32/32 - 1s - loss: 0.0537 - accuracy: 0.9840 - 725ms/epoch - 23ms/step\n",
            "\u001b[2m\u001b[36m(launch_and_evaluate pid=24944)\u001b[0m 32/32 - 1s - loss: 0.0585 - accuracy: 0.9830 - 780ms/epoch - 24ms/step\n",
            "\u001b[2m\u001b[36m(launch_and_evaluate pid=17748)\u001b[0m 32/32 - 1s - loss: 0.0636 - accuracy: 0.9810 - 790ms/epoch - 25ms/step\n",
            "\u001b[2m\u001b[36m(launch_and_evaluate pid=9768)\u001b[0m 32/32 - 1s - loss: 0.0517 - accuracy: 0.9830 - 804ms/epoch - 25ms/step\n",
            "\u001b[2m\u001b[36m(launch_and_fit pid=24944)\u001b[0m 188/188 - 7s - loss: 0.0656 - accuracy: 0.9812 - 7s/epoch - 38ms/step\n",
            "\u001b[2m\u001b[36m(launch_and_fit pid=17748)\u001b[0m 188/188 - 7s - loss: 0.0576 - accuracy: 0.9815 - 7s/epoch - 38ms/step\n",
            "\u001b[2m\u001b[36m(launch_and_fit pid=9768)\u001b[0m 188/188 - 7s - loss: 0.0666 - accuracy: 0.9798 - 7s/epoch - 39ms/step\n",
            "\u001b[2m\u001b[36m(launch_and_fit pid=21160)\u001b[0m 188/188 - 8s - loss: 0.0706 - accuracy: 0.9795 - 8s/epoch - 40ms/step\n",
            "\u001b[2m\u001b[36m(launch_and_fit pid=22360)\u001b[0m 188/188 - 8s - loss: 0.0723 - accuracy: 0.9783 - 8s/epoch - 42ms/step\n",
            "\u001b[2m\u001b[36m(launch_and_fit pid=25328)\u001b[0m 188/188 - 8s - loss: 0.0595 - accuracy: 0.9840 - 8s/epoch - 43ms/step\n"
          ]
        },
        {
          "name": "stderr",
          "output_type": "stream",
          "text": [
            "DEBUG flwr 2023-04-11 18:13:05,383 | server.py:229 | fit_round 9 received 9 results and 0 failures\n"
          ]
        },
        {
          "name": "stdout",
          "output_type": "stream",
          "text": [
            "\u001b[2m\u001b[36m(launch_and_fit pid=20184)\u001b[0m 188/188 - 9s - loss: 0.0687 - accuracy: 0.9787 - 9s/epoch - 46ms/step\n",
            "\u001b[2m\u001b[36m(launch_and_fit pid=8988)\u001b[0m 188/188 - 9s - loss: 0.0714 - accuracy: 0.9785 - 9s/epoch - 46ms/step\n"
          ]
        },
        {
          "name": "stderr",
          "output_type": "stream",
          "text": [
            "DEBUG flwr 2023-04-11 18:13:05,424 | server.py:165 | evaluate_round 9: strategy sampled 10 clients (out of 10)\n"
          ]
        },
        {
          "name": "stdout",
          "output_type": "stream",
          "text": [
            "\u001b[2m\u001b[36m(launch_and_fit pid=22072)\u001b[0m 188/188 - 9s - loss: 0.0642 - accuracy: 0.9818 - 9s/epoch - 47ms/step\n",
            "\u001b[2m\u001b[36m(launch_and_evaluate pid=22072)\u001b[0m 32/32 - 1s - loss: 0.0426 - accuracy: 0.9900 - 619ms/epoch - 19ms/step\n",
            "\u001b[2m\u001b[36m(launch_and_evaluate pid=22360)\u001b[0m 32/32 - 1s - loss: 0.0586 - accuracy: 0.9830 - 686ms/epoch - 21ms/step\n",
            "\u001b[2m\u001b[36m(launch_and_evaluate pid=17748)\u001b[0m 32/32 - 1s - loss: 0.0658 - accuracy: 0.9760 - 642ms/epoch - 20ms/step\n",
            "\u001b[2m\u001b[36m(launch_and_evaluate pid=20184)\u001b[0m 32/32 - 1s - loss: 0.0501 - accuracy: 0.9820 - 700ms/epoch - 22ms/step\n",
            "\u001b[2m\u001b[36m(launch_and_evaluate pid=8988)\u001b[0m 32/32 - 1s - loss: 0.0498 - accuracy: 0.9810 - 675ms/epoch - 21ms/step\n",
            "\u001b[2m\u001b[36m(launch_and_evaluate pid=21160)\u001b[0m 32/32 - 1s - loss: 0.0454 - accuracy: 0.9850 - 739ms/epoch - 23ms/step\n",
            "\u001b[2m\u001b[36m(launch_and_evaluate pid=25328)\u001b[0m 32/32 - 1s - loss: 0.0579 - accuracy: 0.9800 - 763ms/epoch - 24ms/step\n"
          ]
        },
        {
          "name": "stderr",
          "output_type": "stream",
          "text": [
            "DEBUG flwr 2023-04-11 18:13:07,054 | server.py:179 | evaluate_round 9 received 10 results and 0 failures\n",
            "DEBUG flwr 2023-04-11 18:13:07,055 | server.py:215 | fit_round 10: strategy sampled 9 clients (out of 10)\n"
          ]
        },
        {
          "name": "stdout",
          "output_type": "stream",
          "text": [
            "\u001b[2m\u001b[36m(launch_and_evaluate pid=9768)\u001b[0m 32/32 - 1s - loss: 0.0458 - accuracy: 0.9840 - 833ms/epoch - 26ms/step\n",
            "\u001b[2m\u001b[36m(launch_and_evaluate pid=9056)\u001b[0m 32/32 - 1s - loss: 0.0507 - accuracy: 0.9820 - 854ms/epoch - 27ms/step\n",
            "\u001b[2m\u001b[36m(launch_and_evaluate pid=24944)\u001b[0m 32/32 - 1s - loss: 0.0527 - accuracy: 0.9850 - 847ms/epoch - 26ms/step\n",
            "\u001b[2m\u001b[36m(launch_and_fit pid=9768)\u001b[0m 188/188 - 8s - loss: 0.0579 - accuracy: 0.9847 - 8s/epoch - 41ms/step\n",
            "\u001b[2m\u001b[36m(launch_and_fit pid=24944)\u001b[0m 188/188 - 8s - loss: 0.0536 - accuracy: 0.9857 - 8s/epoch - 40ms/step\n",
            "\u001b[2m\u001b[36m(launch_and_fit pid=21160)\u001b[0m 188/188 - 8s - loss: 0.0628 - accuracy: 0.9842 - 8s/epoch - 42ms/step\n",
            "\u001b[2m\u001b[36m(launch_and_fit pid=17748)\u001b[0m 188/188 - 8s - loss: 0.0551 - accuracy: 0.9848 - 8s/epoch - 44ms/step\n",
            "\u001b[2m\u001b[36m(launch_and_fit pid=22360)\u001b[0m 188/188 - 9s - loss: 0.0548 - accuracy: 0.9830 - 9s/epoch - 45ms/step\n"
          ]
        },
        {
          "name": "stderr",
          "output_type": "stream",
          "text": [
            "DEBUG flwr 2023-04-11 18:13:16,999 | server.py:229 | fit_round 10 received 9 results and 0 failures\n",
            "DEBUG flwr 2023-04-11 18:13:17,053 | server.py:165 | evaluate_round 10: strategy sampled 10 clients (out of 10)\n"
          ]
        },
        {
          "name": "stdout",
          "output_type": "stream",
          "text": [
            "\u001b[2m\u001b[36m(launch_and_fit pid=9056)\u001b[0m 188/188 - 9s - loss: 0.0589 - accuracy: 0.9812 - 9s/epoch - 48ms/step\n",
            "\u001b[2m\u001b[36m(launch_and_fit pid=8988)\u001b[0m 188/188 - 9s - loss: 0.0562 - accuracy: 0.9832 - 9s/epoch - 48ms/step\n",
            "\u001b[2m\u001b[36m(launch_and_fit pid=25328)\u001b[0m 188/188 - 9s - loss: 0.0572 - accuracy: 0.9837 - 9s/epoch - 49ms/step\n",
            "\u001b[2m\u001b[36m(launch_and_fit pid=20184)\u001b[0m 188/188 - 9s - loss: 0.0616 - accuracy: 0.9815 - 9s/epoch - 49ms/step\n",
            "\u001b[2m\u001b[36m(launch_and_evaluate pid=22360)\u001b[0m 32/32 - 1s - loss: 0.0556 - accuracy: 0.9820 - 576ms/epoch - 18ms/step\n",
            "\u001b[2m\u001b[36m(launch_and_evaluate pid=17748)\u001b[0m 32/32 - 1s - loss: 0.0339 - accuracy: 0.9880 - 632ms/epoch - 20ms/step\n",
            "\u001b[2m\u001b[36m(launch_and_evaluate pid=9768)\u001b[0m 32/32 - 1s - loss: 0.0538 - accuracy: 0.9800 - 689ms/epoch - 22ms/step\n",
            "\u001b[2m\u001b[36m(launch_and_evaluate pid=9056)\u001b[0m 32/32 - 1s - loss: 0.0520 - accuracy: 0.9840 - 693ms/epoch - 22ms/step\n",
            "\u001b[2m\u001b[36m(launch_and_evaluate pid=25328)\u001b[0m 32/32 - 1s - loss: 0.0581 - accuracy: 0.9850 - 720ms/epoch - 22ms/step\n",
            "\u001b[2m\u001b[36m(launch_and_evaluate pid=8988)\u001b[0m 32/32 - 1s - loss: 0.0699 - accuracy: 0.9780 - 732ms/epoch - 23ms/step\n"
          ]
        },
        {
          "name": "stderr",
          "output_type": "stream",
          "text": [
            "DEBUG flwr 2023-04-11 18:13:18,745 | server.py:179 | evaluate_round 10 received 10 results and 0 failures\n",
            "INFO flwr 2023-04-11 18:13:18,747 | server.py:144 | FL finished in 131.886502999987\n",
            "INFO flwr 2023-04-11 18:13:18,749 | app.py:202 | app_fit: losses_distributed [(1, 0.1932656466960907), (2, 0.134983778744936), (3, 0.10033775568008423), (4, 0.09055988788604737), (5, 0.07848348543047905), (6, 0.06519396193325519), (7, 0.05817342102527619), (8, 0.05761858858168125), (9, 0.051929916813969614), (10, 0.05454233773052693)]\n",
            "INFO flwr 2023-04-11 18:13:18,750 | app.py:203 | app_fit: metrics_distributed {'accuracy': [(1, 0.9467000067234039), (2, 0.9580999970436096), (3, 0.9701000034809113), (4, 0.9726000010967255), (5, 0.974700003862381), (6, 0.9794000089168549), (7, 0.9812999963760376), (8, 0.9821000039577484), (9, 0.9828000068664551), (10, 0.9819000005722046)]}\n",
            "INFO flwr 2023-04-11 18:13:18,751 | app.py:204 | app_fit: losses_centralized []\n",
            "INFO flwr 2023-04-11 18:13:18,752 | app.py:205 | app_fit: metrics_centralized {}\n"
          ]
        },
        {
          "name": "stdout",
          "output_type": "stream",
          "text": [
            "\u001b[2m\u001b[36m(launch_and_evaluate pid=21160)\u001b[0m 32/32 - 1s - loss: 0.0638 - accuracy: 0.9780 - 791ms/epoch - 25ms/step\n",
            "\u001b[2m\u001b[36m(launch_and_evaluate pid=22072)\u001b[0m 32/32 - 1s - loss: 0.0627 - accuracy: 0.9770 - 834ms/epoch - 26ms/step\n",
            "\u001b[2m\u001b[36m(launch_and_evaluate pid=24944)\u001b[0m 32/32 - 1s - loss: 0.0510 - accuracy: 0.9840 - 844ms/epoch - 26ms/step\n",
            "\u001b[2m\u001b[36m(launch_and_evaluate pid=20184)\u001b[0m 32/32 - 1s - loss: 0.0447 - accuracy: 0.9830 - 854ms/epoch - 27ms/step\n"
          ]
        },
        {
          "data": {
            "image/png": "[encoded data removed]",
            "text/plain": [
              "<Figure size 640x480 with 1 Axes>"
            ]
          },
          "metadata": {},
          "output_type": "display_data"
        },
        {
          "name": "stderr",
          "output_type": "stream",
          "text": [
            "INFO flwr 2023-04-11 18:13:18,912 | app.py:145 | Starting Flower simulation, config: ServerConfig(num_rounds=15, round_timeout=None)\n",
            "2023-04-11 18:13:25,009\tINFO worker.py:1529 -- Started a local Ray instance. View the dashboard at \u001b[1m\u001b[32m127.0.0.1:8266 \u001b[39m\u001b[22m\n",
            "INFO flwr 2023-04-11 18:13:28,352 | app.py:179 | Flower VCE: Ray initialized with resources: {'memory': 1547848091.0, 'object_store_memory': 773924044.0, 'GPU': 1.0, 'CPU': 12.0, 'node:127.0.0.1': 1.0}\n",
            "INFO flwr 2023-04-11 18:13:28,354 | server.py:86 | Initializing global parameters\n",
            "INFO flwr 2023-04-11 18:13:28,355 | server.py:270 | Requesting initial parameters from one random client\n",
            "INFO flwr 2023-04-11 18:13:32,005 | server.py:274 | Received initial parameters from one random client\n",
            "INFO flwr 2023-04-11 18:13:32,006 | server.py:88 | Evaluating initial parameters\n",
            "INFO flwr 2023-04-11 18:13:32,007 | server.py:101 | FL starting\n",
            "DEBUG flwr 2023-04-11 18:13:32,008 | server.py:215 | fit_round 1: strategy sampled 9 clients (out of 10)\n"
          ]
        },
        {
          "name": "stdout",
          "output_type": "stream",
          "text": [
            "\u001b[2m\u001b[36m(launch_and_fit pid=20204)\u001b[0m 188/188 - 3s - loss: 0.4996 - accuracy: 0.8455 - 3s/epoch - 17ms/step\n",
            "\u001b[2m\u001b[36m(launch_and_fit pid=12572)\u001b[0m 188/188 - 7s - loss: 0.5152 - accuracy: 0.8360 - 7s/epoch - 38ms/step\n",
            "\u001b[2m\u001b[36m(launch_and_fit pid=13116)\u001b[0m 188/188 - 7s - loss: 0.4862 - accuracy: 0.8438 - 7s/epoch - 39ms/step\n",
            "\u001b[2m\u001b[36m(launch_and_fit pid=12896)\u001b[0m 188/188 - 7s - loss: 0.4798 - accuracy: 0.8448 - 7s/epoch - 39ms/step\n",
            "\u001b[2m\u001b[36m(launch_and_fit pid=16620)\u001b[0m 188/188 - 7s - loss: 0.4839 - accuracy: 0.8470 - 7s/epoch - 38ms/step\n",
            "\u001b[2m\u001b[36m(launch_and_fit pid=15348)\u001b[0m 188/188 - 7s - loss: 0.5045 - accuracy: 0.8418 - 7s/epoch - 39ms/step\n",
            "\u001b[2m\u001b[36m(launch_and_fit pid=17224)\u001b[0m 188/188 - 9s - loss: 0.5066 - accuracy: 0.8378 - 9s/epoch - 45ms/step\n",
            "\u001b[2m\u001b[36m(launch_and_fit pid=8108)\u001b[0m 188/188 - 9s - loss: 0.4939 - accuracy: 0.8392 - 9s/epoch - 45ms/step\n"
          ]
        },
        {
          "name": "stderr",
          "output_type": "stream",
          "text": [
            "DEBUG flwr 2023-04-11 18:13:48,879 | server.py:229 | fit_round 1 received 9 results and 0 failures\n",
            "WARNING flwr 2023-04-11 18:13:48,923 | fedavg.py:242 | No fit_metrics_aggregation_fn provided\n",
            "DEBUG flwr 2023-04-11 18:13:48,926 | server.py:165 | evaluate_round 1: strategy sampled 10 clients (out of 10)\n"
          ]
        },
        {
          "name": "stdout",
          "output_type": "stream",
          "text": [
            "\u001b[2m\u001b[36m(launch_and_fit pid=4808)\u001b[0m 188/188 - 9s - loss: 0.4823 - accuracy: 0.8473 - 9s/epoch - 47ms/step\n",
            "\u001b[2m\u001b[36m(launch_and_evaluate pid=8108)\u001b[0m 32/32 - 1s - loss: 0.2616 - accuracy: 0.9080 - 725ms/epoch - 23ms/step\n",
            "\u001b[2m\u001b[36m(launch_and_evaluate pid=15348)\u001b[0m 32/32 - 1s - loss: 0.2283 - accuracy: 0.9330 - 827ms/epoch - 26ms/step\n",
            "\u001b[2m\u001b[36m(launch_and_evaluate pid=12896)\u001b[0m 32/32 - 1s - loss: 0.2040 - accuracy: 0.9470 - 806ms/epoch - 25ms/step\n",
            "\u001b[2m\u001b[36m(launch_and_evaluate pid=4808)\u001b[0m 32/32 - 1s - loss: 0.2551 - accuracy: 0.9110 - 837ms/epoch - 26ms/step\n",
            "\u001b[2m\u001b[36m(launch_and_evaluate pid=13116)\u001b[0m 32/32 - 1s - loss: 0.2030 - accuracy: 0.9370 - 796ms/epoch - 25ms/step\n",
            "\u001b[2m\u001b[36m(launch_and_evaluate pid=17224)\u001b[0m 32/32 - 1s - loss: 0.2520 - accuracy: 0.9250 - 873ms/epoch - 27ms/step\n",
            "\u001b[2m\u001b[36m(launch_and_evaluate pid=20204)\u001b[0m 32/32 - 1s - loss: 0.2487 - accuracy: 0.9200 - 914ms/epoch - 29ms/step\n",
            "\u001b[2m\u001b[36m(launch_and_evaluate pid=12572)\u001b[0m 32/32 - 1s - loss: 0.2616 - accuracy: 0.9100 - 880ms/epoch - 27ms/step\n",
            "\u001b[2m\u001b[36m(launch_and_evaluate pid=16620)\u001b[0m 32/32 - 1s - loss: 0.2614 - accuracy: 0.9180 - 922ms/epoch - 29ms/step\n"
          ]
        },
        {
          "name": "stderr",
          "output_type": "stream",
          "text": [
            "DEBUG flwr 2023-04-11 18:13:54,438 | server.py:179 | evaluate_round 1 received 10 results and 0 failures\n",
            "DEBUG flwr 2023-04-11 18:13:54,439 | server.py:215 | fit_round 2: strategy sampled 9 clients (out of 10)\n"
          ]
        },
        {
          "name": "stdout",
          "output_type": "stream",
          "text": [
            "\u001b[2m\u001b[36m(launch_and_evaluate pid=16044)\u001b[0m 32/32 - 0s - loss: 0.2493 - accuracy: 0.9180 - 347ms/epoch - 11ms/step\n",
            "\u001b[2m\u001b[36m(launch_and_fit pid=16044)\u001b[0m 188/188 - 7s - loss: 0.2429 - accuracy: 0.9240 - 7s/epoch - 39ms/step\n",
            "\u001b[2m\u001b[36m(launch_and_fit pid=13116)\u001b[0m 188/188 - 8s - loss: 0.2334 - accuracy: 0.9278 - 8s/epoch - 43ms/step\n",
            "\u001b[2m\u001b[36m(launch_and_fit pid=12572)\u001b[0m 188/188 - 8s - loss: 0.2358 - accuracy: 0.9253 - 8s/epoch - 45ms/step\n",
            "\u001b[2m\u001b[36m(launch_and_fit pid=15348)\u001b[0m 188/188 - 9s - loss: 0.2454 - accuracy: 0.9238 - 9s/epoch - 46ms/step\n",
            "\u001b[2m\u001b[36m(launch_and_fit pid=16620)\u001b[0m 188/188 - 9s - loss: 0.2340 - accuracy: 0.9262 - 9s/epoch - 47ms/step\n",
            "\u001b[2m\u001b[36m(launch_and_fit pid=20204)\u001b[0m 188/188 - 9s - loss: 0.2535 - accuracy: 0.9243 - 9s/epoch - 49ms/step\n"
          ]
        },
        {
          "name": "stderr",
          "output_type": "stream",
          "text": [
            "DEBUG flwr 2023-04-11 18:14:04,997 | server.py:229 | fit_round 2 received 9 results and 0 failures\n"
          ]
        },
        {
          "name": "stdout",
          "output_type": "stream",
          "text": [
            "\u001b[2m\u001b[36m(launch_and_fit pid=4808)\u001b[0m 188/188 - 9s - loss: 0.2310 - accuracy: 0.9273 - 9s/epoch - 50ms/step\n",
            "\u001b[2m\u001b[36m(launch_and_fit pid=12896)\u001b[0m 188/188 - 10s - loss: 0.2555 - accuracy: 0.9210 - 10s/epoch - 51ms/step\n"
          ]
        },
        {
          "name": "stderr",
          "output_type": "stream",
          "text": [
            "DEBUG flwr 2023-04-11 18:14:05,043 | server.py:165 | evaluate_round 2: strategy sampled 10 clients (out of 10)\n"
          ]
        },
        {
          "name": "stdout",
          "output_type": "stream",
          "text": [
            "\u001b[2m\u001b[36m(launch_and_fit pid=17224)\u001b[0m 188/188 - 10s - loss: 0.2393 - accuracy: 0.9268 - 10s/epoch - 52ms/step\n",
            "\u001b[2m\u001b[36m(launch_and_evaluate pid=16620)\u001b[0m 32/32 - 1s - loss: 0.1439 - accuracy: 0.9530 - 721ms/epoch - 23ms/step\n",
            "\u001b[2m\u001b[36m(launch_and_evaluate pid=4808)\u001b[0m 32/32 - 1s - loss: 0.1486 - accuracy: 0.9490 - 642ms/epoch - 20ms/step\n",
            "\u001b[2m\u001b[36m(launch_and_evaluate pid=20204)\u001b[0m 32/32 - 1s - loss: 0.1471 - accuracy: 0.9600 - 780ms/epoch - 24ms/step\n",
            "\u001b[2m\u001b[36m(launch_and_evaluate pid=12896)\u001b[0m 32/32 - 1s - loss: 0.1182 - accuracy: 0.9690 - 734ms/epoch - 23ms/step\n"
          ]
        },
        {
          "name": "stderr",
          "output_type": "stream",
          "text": [
            "DEBUG flwr 2023-04-11 18:14:07,009 | server.py:179 | evaluate_round 2 received 10 results and 0 failures\n"
          ]
        },
        {
          "name": "stdout",
          "output_type": "stream",
          "text": [
            "\u001b[2m\u001b[36m(launch_and_evaluate pid=12572)\u001b[0m 32/32 - 1s - loss: 0.1407 - accuracy: 0.9480 - 836ms/epoch - 26ms/step\n",
            "\u001b[2m\u001b[36m(launch_and_evaluate pid=13116)\u001b[0m 32/32 - 1s - loss: 0.1476 - accuracy: 0.9510 - 768ms/epoch - 24ms/step\n",
            "\u001b[2m\u001b[36m(launch_and_evaluate pid=15348)\u001b[0m 32/32 - 1s - loss: 0.1530 - accuracy: 0.9600 - 799ms/epoch - 25ms/step\n",
            "\u001b[2m\u001b[36m(launch_and_evaluate pid=17224)\u001b[0m 32/32 - 1s - loss: 0.1289 - accuracy: 0.9640 - 792ms/epoch - 25ms/step\n"
          ]
        },
        {
          "name": "stderr",
          "output_type": "stream",
          "text": [
            "DEBUG flwr 2023-04-11 18:14:07,010 | server.py:215 | fit_round 3: strategy sampled 9 clients (out of 10)\n"
          ]
        },
        {
          "name": "stdout",
          "output_type": "stream",
          "text": [
            "\u001b[2m\u001b[36m(launch_and_evaluate pid=8108)\u001b[0m 32/32 - 1s - loss: 0.1571 - accuracy: 0.9550 - 1s/epoch - 33ms/step\n",
            "\u001b[2m\u001b[36m(launch_and_evaluate pid=16044)\u001b[0m 32/32 - 1s - loss: 0.1191 - accuracy: 0.9660 - 1s/epoch - 34ms/step\n",
            "\u001b[2m\u001b[36m(launch_and_fit pid=16044)\u001b[0m 188/188 - 8s - loss: 0.1747 - accuracy: 0.9472 - 8s/epoch - 41ms/step\n",
            "\u001b[2m\u001b[36m(launch_and_fit pid=13116)\u001b[0m 188/188 - 8s - loss: 0.1688 - accuracy: 0.9500 - 8s/epoch - 43ms/step\n",
            "\u001b[2m\u001b[36m(launch_and_fit pid=8108)\u001b[0m 188/188 - 8s - loss: 0.1814 - accuracy: 0.9473 - 8s/epoch - 43ms/step\n",
            "\u001b[2m\u001b[36m(launch_and_fit pid=12572)\u001b[0m 188/188 - 9s - loss: 0.1720 - accuracy: 0.9452 - 9s/epoch - 45ms/step\n",
            "\u001b[2m\u001b[36m(launch_and_fit pid=17224)\u001b[0m 188/188 - 9s - loss: 0.1713 - accuracy: 0.9477 - 9s/epoch - 46ms/step\n",
            "\u001b[2m\u001b[36m(launch_and_fit pid=15348)\u001b[0m 188/188 - 9s - loss: 0.1808 - accuracy: 0.9452 - 9s/epoch - 47ms/step\n",
            "\u001b[2m\u001b[36m(launch_and_fit pid=20204)\u001b[0m 188/188 - 9s - loss: 0.1676 - accuracy: 0.9527 - 9s/epoch - 50ms/step\n",
            "\u001b[2m\u001b[36m(launch_and_fit pid=12896)\u001b[0m 188/188 - 10s - loss: 0.1623 - accuracy: 0.9515 - 10s/epoch - 51ms/step\n"
          ]
        },
        {
          "name": "stderr",
          "output_type": "stream",
          "text": [
            "DEBUG flwr 2023-04-11 18:14:17,504 | server.py:229 | fit_round 3 received 9 results and 0 failures\n",
            "DEBUG flwr 2023-04-11 18:14:17,557 | server.py:165 | evaluate_round 3: strategy sampled 10 clients (out of 10)\n"
          ]
        },
        {
          "name": "stdout",
          "output_type": "stream",
          "text": [
            "\u001b[2m\u001b[36m(launch_and_fit pid=16620)\u001b[0m 188/188 - 10s - loss: 0.1807 - accuracy: 0.9448 - 10s/epoch - 51ms/step\n"
          ]
        },
        {
          "name": "stderr",
          "output_type": "stream",
          "text": [
            "DEBUG flwr 2023-04-11 18:14:19,271 | server.py:179 | evaluate_round 3 received 10 results and 0 failures\n",
            "DEBUG flwr 2023-04-11 18:14:19,272 | server.py:215 | fit_round 4: strategy sampled 9 clients (out of 10)\n"
          ]
        },
        {
          "name": "stdout",
          "output_type": "stream",
          "text": [
            "\u001b[2m\u001b[36m(launch_and_evaluate pid=20204)\u001b[0m 32/32 - 1s - loss: 0.1302 - accuracy: 0.9630 - 645ms/epoch - 20ms/step\n",
            "\u001b[2m\u001b[36m(launch_and_evaluate pid=17224)\u001b[0m 32/32 - 1s - loss: 0.1015 - accuracy: 0.9650 - 729ms/epoch - 23ms/step\n",
            "\u001b[2m\u001b[36m(launch_and_evaluate pid=8108)\u001b[0m 32/32 - 1s - loss: 0.1163 - accuracy: 0.9670 - 688ms/epoch - 21ms/step\n",
            "\u001b[2m\u001b[36m(launch_and_evaluate pid=12896)\u001b[0m 32/32 - 1s - loss: 0.1157 - accuracy: 0.9690 - 705ms/epoch - 22ms/step\n",
            "\u001b[2m\u001b[36m(launch_and_evaluate pid=16620)\u001b[0m 32/32 - 1s - loss: 0.0851 - accuracy: 0.9750 - 703ms/epoch - 22ms/step\n",
            "\u001b[2m\u001b[36m(launch_and_evaluate pid=12572)\u001b[0m 32/32 - 1s - loss: 0.1253 - accuracy: 0.9680 - 767ms/epoch - 24ms/step\n",
            "\u001b[2m\u001b[36m(launch_and_evaluate pid=13116)\u001b[0m 32/32 - 1s - loss: 0.0959 - accuracy: 0.9700 - 837ms/epoch - 26ms/step\n",
            "\u001b[2m\u001b[36m(launch_and_evaluate pid=15348)\u001b[0m 32/32 - 1s - loss: 0.1083 - accuracy: 0.9620 - 864ms/epoch - 27ms/step\n",
            "\u001b[2m\u001b[36m(launch_and_evaluate pid=4808)\u001b[0m 32/32 - 1s - loss: 0.1171 - accuracy: 0.9690 - 891ms/epoch - 28ms/step\n",
            "\u001b[2m\u001b[36m(launch_and_evaluate pid=16044)\u001b[0m 32/32 - 1s - loss: 0.1040 - accuracy: 0.9690 - 886ms/epoch - 28ms/step\n",
            "\u001b[2m\u001b[36m(launch_and_fit pid=12572)\u001b[0m 188/188 - 7s - loss: 0.1348 - accuracy: 0.9612 - 7s/epoch - 36ms/step\n",
            "\u001b[2m\u001b[36m(launch_and_fit pid=4808)\u001b[0m 188/188 - 8s - loss: 0.1265 - accuracy: 0.9640 - 8s/epoch - 41ms/step\n",
            "\u001b[2m\u001b[36m(launch_and_fit pid=16044)\u001b[0m 188/188 - 8s - loss: 0.1420 - accuracy: 0.9568 - 8s/epoch - 41ms/step\n",
            "\u001b[2m\u001b[36m(launch_and_fit pid=13116)\u001b[0m 188/188 - 8s - loss: 0.1389 - accuracy: 0.9622 - 8s/epoch - 41ms/step\n",
            "\u001b[2m\u001b[36m(launch_and_fit pid=15348)\u001b[0m 188/188 - 8s - loss: 0.1332 - accuracy: 0.9610 - 8s/epoch - 43ms/step\n",
            "\u001b[2m\u001b[36m(launch_and_fit pid=12896)\u001b[0m 188/188 - 9s - loss: 0.1369 - accuracy: 0.9603 - 9s/epoch - 46ms/step\n",
            "\u001b[2m\u001b[36m(launch_and_fit pid=17224)\u001b[0m 188/188 - 9s - loss: 0.1360 - accuracy: 0.9580 - 9s/epoch - 47ms/step\n",
            "\u001b[2m\u001b[36m(launch_and_fit pid=8108)\u001b[0m 188/188 - 9s - loss: 0.1389 - accuracy: 0.9583 - 9s/epoch - 47ms/step\n"
          ]
        },
        {
          "name": "stderr",
          "output_type": "stream",
          "text": [
            "DEBUG flwr 2023-04-11 18:14:29,868 | server.py:229 | fit_round 4 received 9 results and 0 failures\n",
            "DEBUG flwr 2023-04-11 18:14:29,906 | server.py:165 | evaluate_round 4: strategy sampled 10 clients (out of 10)\n"
          ]
        },
        {
          "name": "stdout",
          "output_type": "stream",
          "text": [
            "\u001b[2m\u001b[36m(launch_and_fit pid=16620)\u001b[0m 188/188 - 10s - loss: 0.1337 - accuracy: 0.9630 - 10s/epoch - 51ms/step\n",
            "\u001b[2m\u001b[36m(launch_and_evaluate pid=13116)\u001b[0m 32/32 - 1s - loss: 0.1270 - accuracy: 0.9650 - 617ms/epoch - 19ms/step\n",
            "\u001b[2m\u001b[36m(launch_and_evaluate pid=16620)\u001b[0m 32/32 - 1s - loss: 0.0961 - accuracy: 0.9700 - 665ms/epoch - 21ms/step\n",
            "\u001b[2m\u001b[36m(launch_and_evaluate pid=15348)\u001b[0m 32/32 - 1s - loss: 0.0865 - accuracy: 0.9730 - 704ms/epoch - 22ms/step\n",
            "\u001b[2m\u001b[36m(launch_and_evaluate pid=17224)\u001b[0m 32/32 - 1s - loss: 0.0993 - accuracy: 0.9700 - 701ms/epoch - 22ms/step\n",
            "\u001b[2m\u001b[36m(launch_and_evaluate pid=8108)\u001b[0m 32/32 - 1s - loss: 0.1050 - accuracy: 0.9690 - 745ms/epoch - 23ms/step\n",
            "\u001b[2m\u001b[36m(launch_and_evaluate pid=16044)\u001b[0m 32/32 - 1s - loss: 0.0976 - accuracy: 0.9740 - 681ms/epoch - 21ms/step\n",
            "\u001b[2m\u001b[36m(launch_and_evaluate pid=12896)\u001b[0m 32/32 - 1s - loss: 0.1090 - accuracy: 0.9680 - 803ms/epoch - 25ms/step\n",
            "\u001b[2m\u001b[36m(launch_and_evaluate pid=4808)\u001b[0m 32/32 - 1s - loss: 0.0934 - accuracy: 0.9720 - 812ms/epoch - 25ms/step\n"
          ]
        },
        {
          "name": "stderr",
          "output_type": "stream",
          "text": [
            "DEBUG flwr 2023-04-11 18:14:31,520 | server.py:179 | evaluate_round 4 received 10 results and 0 failures\n",
            "DEBUG flwr 2023-04-11 18:14:31,522 | server.py:215 | fit_round 5: strategy sampled 9 clients (out of 10)\n"
          ]
        },
        {
          "name": "stdout",
          "output_type": "stream",
          "text": [
            "\u001b[2m\u001b[36m(launch_and_evaluate pid=20204)\u001b[0m 32/32 - 1s - loss: 0.0767 - accuracy: 0.9770 - 837ms/epoch - 26ms/step\n",
            "\u001b[2m\u001b[36m(launch_and_evaluate pid=12572)\u001b[0m 32/32 - 1s - loss: 0.0931 - accuracy: 0.9760 - 835ms/epoch - 26ms/step\n",
            "\u001b[2m\u001b[36m(launch_and_fit pid=12572)\u001b[0m 188/188 - 7s - loss: 0.1034 - accuracy: 0.9702 - 7s/epoch - 38ms/step\n",
            "\u001b[2m\u001b[36m(launch_and_fit pid=20204)\u001b[0m 188/188 - 7s - loss: 0.1082 - accuracy: 0.9715 - 7s/epoch - 39ms/step\n",
            "\u001b[2m\u001b[36m(launch_and_fit pid=16044)\u001b[0m 188/188 - 7s - loss: 0.1142 - accuracy: 0.9637 - 7s/epoch - 39ms/step\n",
            "\u001b[2m\u001b[36m(launch_and_fit pid=8108)\u001b[0m 188/188 - 8s - loss: 0.1068 - accuracy: 0.9685 - 8s/epoch - 41ms/step\n",
            "\u001b[2m\u001b[36m(launch_and_fit pid=4808)\u001b[0m 188/188 - 8s - loss: 0.1074 - accuracy: 0.9670 - 8s/epoch - 43ms/step\n",
            "\u001b[2m\u001b[36m(launch_and_fit pid=12896)\u001b[0m 188/188 - 8s - loss: 0.1148 - accuracy: 0.9635 - 8s/epoch - 43ms/step\n",
            "\u001b[2m\u001b[36m(launch_and_fit pid=15348)\u001b[0m 188/188 - 9s - loss: 0.1092 - accuracy: 0.9678 - 9s/epoch - 47ms/step\n",
            "\u001b[2m\u001b[36m(launch_and_fit pid=17224)\u001b[0m 188/188 - 9s - loss: 0.1190 - accuracy: 0.9642 - 9s/epoch - 47ms/step\n"
          ]
        },
        {
          "name": "stderr",
          "output_type": "stream",
          "text": [
            "DEBUG flwr 2023-04-11 18:14:41,460 | server.py:229 | fit_round 5 received 9 results and 0 failures\n",
            "DEBUG flwr 2023-04-11 18:14:41,506 | server.py:165 | evaluate_round 5: strategy sampled 10 clients (out of 10)\n"
          ]
        },
        {
          "name": "stdout",
          "output_type": "stream",
          "text": [
            "\u001b[2m\u001b[36m(launch_and_fit pid=16620)\u001b[0m 188/188 - 9s - loss: 0.1092 - accuracy: 0.9703 - 9s/epoch - 49ms/step\n",
            "\u001b[2m\u001b[36m(launch_and_evaluate pid=15348)\u001b[0m 32/32 - 1s - loss: 0.0747 - accuracy: 0.9800 - 600ms/epoch - 19ms/step\n",
            "\u001b[2m\u001b[36m(launch_and_evaluate pid=12896)\u001b[0m 32/32 - 1s - loss: 0.0551 - accuracy: 0.9880 - 596ms/epoch - 19ms/step\n",
            "\u001b[2m\u001b[36m(launch_and_evaluate pid=16620)\u001b[0m 32/32 - 1s - loss: 0.0810 - accuracy: 0.9780 - 642ms/epoch - 20ms/step\n",
            "\u001b[2m\u001b[36m(launch_and_evaluate pid=17224)\u001b[0m 32/32 - 1s - loss: 0.0698 - accuracy: 0.9810 - 706ms/epoch - 22ms/step\n",
            "\u001b[2m\u001b[36m(launch_and_evaluate pid=4808)\u001b[0m 32/32 - 1s - loss: 0.0851 - accuracy: 0.9760 - 705ms/epoch - 22ms/step\n",
            "\u001b[2m\u001b[36m(launch_and_evaluate pid=16044)\u001b[0m 32/32 - 1s - loss: 0.0707 - accuracy: 0.9810 - 709ms/epoch - 22ms/step\n",
            "\u001b[2m\u001b[36m(launch_and_evaluate pid=8108)\u001b[0m 32/32 - 1s - loss: 0.1098 - accuracy: 0.9670 - 766ms/epoch - 24ms/step\n"
          ]
        },
        {
          "name": "stderr",
          "output_type": "stream",
          "text": [
            "DEBUG flwr 2023-04-11 18:14:43,112 | server.py:179 | evaluate_round 5 received 10 results and 0 failures\n",
            "DEBUG flwr 2023-04-11 18:14:43,113 | server.py:215 | fit_round 6: strategy sampled 9 clients (out of 10)\n"
          ]
        },
        {
          "name": "stdout",
          "output_type": "stream",
          "text": [
            "\u001b[2m\u001b[36m(launch_and_evaluate pid=20204)\u001b[0m 32/32 - 1s - loss: 0.0881 - accuracy: 0.9760 - 791ms/epoch - 25ms/step\n",
            "\u001b[2m\u001b[36m(launch_and_evaluate pid=12572)\u001b[0m 32/32 - 1s - loss: 0.0977 - accuracy: 0.9720 - 812ms/epoch - 25ms/step\n",
            "\u001b[2m\u001b[36m(launch_and_evaluate pid=13116)\u001b[0m 32/32 - 1s - loss: 0.0878 - accuracy: 0.9740 - 818ms/epoch - 26ms/step\n",
            "\u001b[2m\u001b[36m(launch_and_fit pid=12572)\u001b[0m 188/188 - 7s - loss: 0.0984 - accuracy: 0.9723 - 7s/epoch - 38ms/step\n",
            "\u001b[2m\u001b[36m(launch_and_fit pid=13116)\u001b[0m 188/188 - 7s - loss: 0.0991 - accuracy: 0.9712 - 7s/epoch - 38ms/step\n",
            "\u001b[2m\u001b[36m(launch_and_fit pid=20204)\u001b[0m 188/188 - 7s - loss: 0.0841 - accuracy: 0.9765 - 7s/epoch - 40ms/step\n",
            "\u001b[2m\u001b[36m(launch_and_fit pid=4808)\u001b[0m 188/188 - 8s - loss: 0.1139 - accuracy: 0.9643 - 8s/epoch - 40ms/step\n",
            "\u001b[2m\u001b[36m(launch_and_fit pid=8108)\u001b[0m 188/188 - 8s - loss: 0.0937 - accuracy: 0.9708 - 8s/epoch - 40ms/step\n",
            "\u001b[2m\u001b[36m(launch_and_fit pid=16044)\u001b[0m 188/188 - 8s - loss: 0.1043 - accuracy: 0.9680 - 8s/epoch - 44ms/step\n",
            "\u001b[2m\u001b[36m(launch_and_fit pid=16620)\u001b[0m 188/188 - 8s - loss: 0.0998 - accuracy: 0.9690 - 8s/epoch - 45ms/step\n",
            "\u001b[2m\u001b[36m(launch_and_fit pid=15348)\u001b[0m 188/188 - 9s - loss: 0.1063 - accuracy: 0.9668 - 9s/epoch - 49ms/step\n",
            "\u001b[2m\u001b[36m(launch_and_fit pid=17224)\u001b[0m 188/188 - 9s - loss: 0.0958 - accuracy: 0.9718 - 9s/epoch - 49ms/step\n"
          ]
        },
        {
          "name": "stderr",
          "output_type": "stream",
          "text": [
            "DEBUG flwr 2023-04-11 18:14:56,662 | server.py:229 | fit_round 6 received 9 results and 0 failures\n",
            "DEBUG flwr 2023-04-11 18:14:56,700 | server.py:165 | evaluate_round 6: strategy sampled 10 clients (out of 10)\n"
          ]
        },
        {
          "name": "stdout",
          "output_type": "stream",
          "text": [
            "\u001b[2m\u001b[36m(launch_and_evaluate pid=17224)\u001b[0m 32/32 - 1s - loss: 0.0657 - accuracy: 0.9820 - 597ms/epoch - 19ms/step\n",
            "\u001b[2m\u001b[36m(launch_and_evaluate pid=16620)\u001b[0m 32/32 - 1s - loss: 0.0525 - accuracy: 0.9850 - 607ms/epoch - 19ms/step\n",
            "\u001b[2m\u001b[36m(launch_and_evaluate pid=15348)\u001b[0m 32/32 - 1s - loss: 0.0794 - accuracy: 0.9790 - 638ms/epoch - 20ms/step\n",
            "\u001b[2m\u001b[36m(launch_and_evaluate pid=8108)\u001b[0m 32/32 - 1s - loss: 0.0878 - accuracy: 0.9720 - 639ms/epoch - 20ms/step\n",
            "\u001b[2m\u001b[36m(launch_and_evaluate pid=16044)\u001b[0m 32/32 - 1s - loss: 0.0823 - accuracy: 0.9740 - 658ms/epoch - 21ms/step\n"
          ]
        },
        {
          "name": "stderr",
          "output_type": "stream",
          "text": [
            "DEBUG flwr 2023-04-11 18:14:58,221 | server.py:179 | evaluate_round 6 received 10 results and 0 failures\n",
            "DEBUG flwr 2023-04-11 18:14:58,222 | server.py:215 | fit_round 7: strategy sampled 9 clients (out of 10)\n"
          ]
        },
        {
          "name": "stdout",
          "output_type": "stream",
          "text": [
            "\u001b[2m\u001b[36m(launch_and_evaluate pid=20204)\u001b[0m 32/32 - 1s - loss: 0.0627 - accuracy: 0.9810 - 757ms/epoch - 24ms/step\n",
            "\u001b[2m\u001b[36m(launch_and_evaluate pid=12572)\u001b[0m 32/32 - 1s - loss: 0.0739 - accuracy: 0.9800 - 748ms/epoch - 23ms/step\n",
            "\u001b[2m\u001b[36m(launch_and_evaluate pid=13116)\u001b[0m 32/32 - 1s - loss: 0.0950 - accuracy: 0.9700 - 813ms/epoch - 25ms/step\n",
            "\u001b[2m\u001b[36m(launch_and_evaluate pid=4808)\u001b[0m 32/32 - 1s - loss: 0.0863 - accuracy: 0.9720 - 786ms/epoch - 25ms/step\n",
            "\u001b[2m\u001b[36m(launch_and_evaluate pid=12896)\u001b[0m 32/32 - 1s - loss: 0.0675 - accuracy: 0.9780 - 818ms/epoch - 26ms/step\n",
            "\u001b[2m\u001b[36m(launch_and_fit pid=13116)\u001b[0m 188/188 - 8s - loss: 0.0967 - accuracy: 0.9717 - 8s/epoch - 40ms/step\n",
            "\u001b[2m\u001b[36m(launch_and_fit pid=12896)\u001b[0m 188/188 - 8s - loss: 0.0882 - accuracy: 0.9748 - 8s/epoch - 43ms/step\n",
            "\u001b[2m\u001b[36m(launch_and_fit pid=4808)\u001b[0m 188/188 - 8s - loss: 0.0840 - accuracy: 0.9762 - 8s/epoch - 40ms/step\n",
            "\u001b[2m\u001b[36m(launch_and_fit pid=20204)\u001b[0m 188/188 - 8s - loss: 0.0875 - accuracy: 0.9740 - 8s/epoch - 43ms/step\n",
            "\u001b[2m\u001b[36m(launch_and_fit pid=12572)\u001b[0m 188/188 - 8s - loss: 0.0930 - accuracy: 0.9708 - 8s/epoch - 45ms/step\n",
            "\u001b[2m\u001b[36m(launch_and_fit pid=8108)\u001b[0m 188/188 - 9s - loss: 0.0870 - accuracy: 0.9720 - 9s/epoch - 46ms/step\n",
            "\u001b[2m\u001b[36m(launch_and_fit pid=16620)\u001b[0m 188/188 - 9s - loss: 0.0879 - accuracy: 0.9732 - 9s/epoch - 46ms/step\n",
            "\u001b[2m\u001b[36m(launch_and_fit pid=15348)\u001b[0m 188/188 - 9s - loss: 0.0942 - accuracy: 0.9708 - 9s/epoch - 47ms/step\n"
          ]
        },
        {
          "name": "stderr",
          "output_type": "stream",
          "text": [
            "DEBUG flwr 2023-04-11 18:15:08,254 | server.py:229 | fit_round 7 received 9 results and 0 failures\n",
            "DEBUG flwr 2023-04-11 18:15:08,301 | server.py:165 | evaluate_round 7: strategy sampled 10 clients (out of 10)\n"
          ]
        },
        {
          "name": "stdout",
          "output_type": "stream",
          "text": [
            "\u001b[2m\u001b[36m(launch_and_fit pid=16044)\u001b[0m 188/188 - 9s - loss: 0.0961 - accuracy: 0.9722 - 9s/epoch - 49ms/step\n",
            "\u001b[2m\u001b[36m(launch_and_evaluate pid=12572)\u001b[0m 32/32 - 1s - loss: 0.0652 - accuracy: 0.9850 - 670ms/epoch - 21ms/step\n",
            "\u001b[2m\u001b[36m(launch_and_evaluate pid=16620)\u001b[0m 32/32 - 1s - loss: 0.0633 - accuracy: 0.9760 - 610ms/epoch - 19ms/step\n",
            "\u001b[2m\u001b[36m(launch_and_evaluate pid=16044)\u001b[0m 32/32 - 1s - loss: 0.0587 - accuracy: 0.9830 - 602ms/epoch - 19ms/step\n",
            "\u001b[2m\u001b[36m(launch_and_evaluate pid=15348)\u001b[0m 32/32 - 1s - loss: 0.0495 - accuracy: 0.9830 - 765ms/epoch - 24ms/step\n",
            "\u001b[2m\u001b[36m(launch_and_evaluate pid=8108)\u001b[0m 32/32 - 1s - loss: 0.0570 - accuracy: 0.9800 - 807ms/epoch - 25ms/step\n",
            "\u001b[2m\u001b[36m(launch_and_evaluate pid=13116)\u001b[0m 32/32 - 1s - loss: 0.0596 - accuracy: 0.9840 - 805ms/epoch - 25ms/step\n",
            "\u001b[2m\u001b[36m(launch_and_evaluate pid=12896)\u001b[0m 32/32 - 1s - loss: 0.0544 - accuracy: 0.9850 - 816ms/epoch - 26ms/step\n"
          ]
        },
        {
          "name": "stderr",
          "output_type": "stream",
          "text": [
            "DEBUG flwr 2023-04-11 18:15:09,966 | server.py:179 | evaluate_round 7 received 10 results and 0 failures\n",
            "DEBUG flwr 2023-04-11 18:15:09,968 | server.py:215 | fit_round 8: strategy sampled 9 clients (out of 10)\n"
          ]
        },
        {
          "name": "stdout",
          "output_type": "stream",
          "text": [
            "\u001b[2m\u001b[36m(launch_and_evaluate pid=20204)\u001b[0m 32/32 - 1s - loss: 0.0614 - accuracy: 0.9810 - 918ms/epoch - 29ms/step\n",
            "\u001b[2m\u001b[36m(launch_and_evaluate pid=17224)\u001b[0m 32/32 - 1s - loss: 0.0784 - accuracy: 0.9760 - 899ms/epoch - 28ms/step\n",
            "\u001b[2m\u001b[36m(launch_and_evaluate pid=4808)\u001b[0m 32/32 - 1s - loss: 0.0547 - accuracy: 0.9830 - 914ms/epoch - 29ms/step\n",
            "\u001b[2m\u001b[36m(launch_and_fit pid=17224)\u001b[0m 188/188 - 7s - loss: 0.0764 - accuracy: 0.9750 - 7s/epoch - 38ms/step\n",
            "\u001b[2m\u001b[36m(launch_and_fit pid=8108)\u001b[0m 188/188 - 8s - loss: 0.0751 - accuracy: 0.9767 - 8s/epoch - 40ms/step\n",
            "\u001b[2m\u001b[36m(launch_and_fit pid=16620)\u001b[0m 188/188 - 7s - loss: 0.0739 - accuracy: 0.9775 - 7s/epoch - 39ms/step\n",
            "\u001b[2m\u001b[36m(launch_and_fit pid=20204)\u001b[0m 188/188 - 8s - loss: 0.0823 - accuracy: 0.9760 - 8s/epoch - 40ms/step\n",
            "\u001b[2m\u001b[36m(launch_and_fit pid=12572)\u001b[0m 188/188 - 8s - loss: 0.0812 - accuracy: 0.9772 - 8s/epoch - 42ms/step\n",
            "\u001b[2m\u001b[36m(launch_and_fit pid=12896)\u001b[0m 188/188 - 8s - loss: 0.0666 - accuracy: 0.9807 - 8s/epoch - 44ms/step\n",
            "\u001b[2m\u001b[36m(launch_and_fit pid=4808)\u001b[0m 188/188 - 8s - loss: 0.0793 - accuracy: 0.9778 - 8s/epoch - 45ms/step\n",
            "\u001b[2m\u001b[36m(launch_and_fit pid=13116)\u001b[0m 188/188 - 8s - loss: 0.0737 - accuracy: 0.9770 - 8s/epoch - 45ms/step\n"
          ]
        },
        {
          "name": "stderr",
          "output_type": "stream",
          "text": [
            "DEBUG flwr 2023-04-11 18:15:19,947 | server.py:229 | fit_round 8 received 9 results and 0 failures\n",
            "DEBUG flwr 2023-04-11 18:15:19,983 | server.py:165 | evaluate_round 8: strategy sampled 10 clients (out of 10)\n"
          ]
        },
        {
          "name": "stdout",
          "output_type": "stream",
          "text": [
            "\u001b[2m\u001b[36m(launch_and_fit pid=15348)\u001b[0m 188/188 - 9s - loss: 0.0808 - accuracy: 0.9743 - 9s/epoch - 48ms/step\n",
            "\u001b[2m\u001b[36m(launch_and_evaluate pid=13116)\u001b[0m 32/32 - 1s - loss: 0.0391 - accuracy: 0.9900 - 604ms/epoch - 19ms/step\n",
            "\u001b[2m\u001b[36m(launch_and_evaluate pid=15348)\u001b[0m 32/32 - 1s - loss: 0.0557 - accuracy: 0.9820 - 584ms/epoch - 18ms/step\n",
            "\u001b[2m\u001b[36m(launch_and_evaluate pid=4808)\u001b[0m 32/32 - 1s - loss: 0.0679 - accuracy: 0.9800 - 602ms/epoch - 19ms/step\n",
            "\u001b[2m\u001b[36m(launch_and_evaluate pid=8108)\u001b[0m 32/32 - 1s - loss: 0.0459 - accuracy: 0.9840 - 674ms/epoch - 21ms/step\n",
            "\u001b[2m\u001b[36m(launch_and_evaluate pid=12896)\u001b[0m 32/32 - 1s - loss: 0.0525 - accuracy: 0.9840 - 706ms/epoch - 22ms/step\n"
          ]
        },
        {
          "name": "stderr",
          "output_type": "stream",
          "text": [
            "DEBUG flwr 2023-04-11 18:15:21,505 | server.py:179 | evaluate_round 8 received 10 results and 0 failures\n",
            "DEBUG flwr 2023-04-11 18:15:21,507 | server.py:215 | fit_round 9: strategy sampled 9 clients (out of 10)\n"
          ]
        },
        {
          "name": "stdout",
          "output_type": "stream",
          "text": [
            "\u001b[2m\u001b[36m(launch_and_evaluate pid=20204)\u001b[0m 32/32 - 1s - loss: 0.0798 - accuracy: 0.9730 - 774ms/epoch - 24ms/step\n",
            "\u001b[2m\u001b[36m(launch_and_evaluate pid=12572)\u001b[0m 32/32 - 1s - loss: 0.0511 - accuracy: 0.9850 - 773ms/epoch - 24ms/step\n",
            "\u001b[2m\u001b[36m(launch_and_evaluate pid=17224)\u001b[0m 32/32 - 1s - loss: 0.0658 - accuracy: 0.9800 - 786ms/epoch - 25ms/step\n",
            "\u001b[2m\u001b[36m(launch_and_evaluate pid=16620)\u001b[0m 32/32 - 1s - loss: 0.0493 - accuracy: 0.9850 - 747ms/epoch - 23ms/step\n",
            "\u001b[2m\u001b[36m(launch_and_evaluate pid=16044)\u001b[0m 32/32 - 1s - loss: 0.0475 - accuracy: 0.9820 - 766ms/epoch - 24ms/step\n",
            "\u001b[2m\u001b[36m(launch_and_fit pid=16044)\u001b[0m 188/188 - 7s - loss: 0.0711 - accuracy: 0.9765 - 7s/epoch - 35ms/step\n",
            "\u001b[2m\u001b[36m(launch_and_fit pid=16620)\u001b[0m 188/188 - 7s - loss: 0.0670 - accuracy: 0.9785 - 7s/epoch - 37ms/step\n",
            "\u001b[2m\u001b[36m(launch_and_fit pid=20204)\u001b[0m 188/188 - 7s - loss: 0.0678 - accuracy: 0.9813 - 7s/epoch - 38ms/step\n",
            "\u001b[2m\u001b[36m(launch_and_fit pid=17224)\u001b[0m 188/188 - 7s - loss: 0.0727 - accuracy: 0.9783 - 7s/epoch - 38ms/step\n",
            "\u001b[2m\u001b[36m(launch_and_fit pid=12572)\u001b[0m 188/188 - 7s - loss: 0.0763 - accuracy: 0.9775 - 7s/epoch - 39ms/step\n",
            "\u001b[2m\u001b[36m(launch_and_fit pid=12896)\u001b[0m 188/188 - 8s - loss: 0.0728 - accuracy: 0.9777 - 8s/epoch - 45ms/step\n",
            "\u001b[2m\u001b[36m(launch_and_fit pid=8108)\u001b[0m 188/188 - 8s - loss: 0.0610 - accuracy: 0.9822 - 8s/epoch - 45ms/step\n",
            "\u001b[2m\u001b[36m(launch_and_fit pid=13116)\u001b[0m 188/188 - 9s - loss: 0.0754 - accuracy: 0.9765 - 9s/epoch - 46ms/step\n",
            "\u001b[2m\u001b[36m(launch_and_fit pid=4808)\u001b[0m 188/188 - 9s - loss: 0.0699 - accuracy: 0.9812 - 9s/epoch - 47ms/step\n"
          ]
        },
        {
          "name": "stderr",
          "output_type": "stream",
          "text": [
            "DEBUG flwr 2023-04-11 18:15:34,877 | server.py:229 | fit_round 9 received 9 results and 0 failures\n",
            "DEBUG flwr 2023-04-11 18:15:34,912 | server.py:165 | evaluate_round 9: strategy sampled 10 clients (out of 10)\n",
            "DEBUG flwr 2023-04-11 18:15:36,541 | server.py:179 | evaluate_round 9 received 10 results and 0 failures\n",
            "DEBUG flwr 2023-04-11 18:15:36,542 | server.py:215 | fit_round 10: strategy sampled 9 clients (out of 10)\n"
          ]
        },
        {
          "name": "stdout",
          "output_type": "stream",
          "text": [
            "\u001b[2m\u001b[36m(launch_and_evaluate pid=12572)\u001b[0m 32/32 - 1s - loss: 0.0661 - accuracy: 0.9820 - 699ms/epoch - 22ms/step\n",
            "\u001b[2m\u001b[36m(launch_and_evaluate pid=13116)\u001b[0m 32/32 - 1s - loss: 0.0521 - accuracy: 0.9840 - 687ms/epoch - 21ms/step\n",
            "\u001b[2m\u001b[36m(launch_and_evaluate pid=8108)\u001b[0m 32/32 - 1s - loss: 0.0642 - accuracy: 0.9790 - 661ms/epoch - 21ms/step\n",
            "\u001b[2m\u001b[36m(launch_and_evaluate pid=16620)\u001b[0m 32/32 - 1s - loss: 0.0572 - accuracy: 0.9830 - 651ms/epoch - 20ms/step\n",
            "\u001b[2m\u001b[36m(launch_and_evaluate pid=4808)\u001b[0m 32/32 - 1s - loss: 0.0639 - accuracy: 0.9800 - 670ms/epoch - 21ms/step\n",
            "\u001b[2m\u001b[36m(launch_and_evaluate pid=20204)\u001b[0m 32/32 - 1s - loss: 0.0582 - accuracy: 0.9820 - 770ms/epoch - 24ms/step\n",
            "\u001b[2m\u001b[36m(launch_and_evaluate pid=17224)\u001b[0m 32/32 - 1s - loss: 0.0348 - accuracy: 0.9880 - 890ms/epoch - 28ms/step\n",
            "\u001b[2m\u001b[36m(launch_and_evaluate pid=12896)\u001b[0m 32/32 - 1s - loss: 0.0535 - accuracy: 0.9830 - 818ms/epoch - 26ms/step\n",
            "\u001b[2m\u001b[36m(launch_and_evaluate pid=16044)\u001b[0m 32/32 - 1s - loss: 0.0627 - accuracy: 0.9790 - 771ms/epoch - 24ms/step\n",
            "\u001b[2m\u001b[36m(launch_and_evaluate pid=15348)\u001b[0m 32/32 - 1s - loss: 0.0608 - accuracy: 0.9780 - 885ms/epoch - 28ms/step\n",
            "\u001b[2m\u001b[36m(launch_and_fit pid=15348)\u001b[0m 188/188 - 7s - loss: 0.0662 - accuracy: 0.9802 - 7s/epoch - 35ms/step\n",
            "\u001b[2m\u001b[36m(launch_and_fit pid=13116)\u001b[0m 188/188 - 7s - loss: 0.0636 - accuracy: 0.9818 - 7s/epoch - 37ms/step\n",
            "\u001b[2m\u001b[36m(launch_and_fit pid=20204)\u001b[0m 188/188 - 7s - loss: 0.0632 - accuracy: 0.9813 - 7s/epoch - 40ms/step\n",
            "\u001b[2m\u001b[36m(launch_and_fit pid=12896)\u001b[0m 188/188 - 7s - loss: 0.0738 - accuracy: 0.9790 - 7s/epoch - 40ms/step\n",
            "\u001b[2m\u001b[36m(launch_and_fit pid=17224)\u001b[0m 188/188 - 8s - loss: 0.0637 - accuracy: 0.9813 - 8s/epoch - 41ms/step\n",
            "\u001b[2m\u001b[36m(launch_and_fit pid=12572)\u001b[0m 188/188 - 8s - loss: 0.0670 - accuracy: 0.9803 - 8s/epoch - 44ms/step\n",
            "\u001b[2m\u001b[36m(launch_and_fit pid=16044)\u001b[0m 188/188 - 8s - loss: 0.0662 - accuracy: 0.9807 - 8s/epoch - 44ms/step\n"
          ]
        },
        {
          "name": "stderr",
          "output_type": "stream",
          "text": [
            "DEBUG flwr 2023-04-11 18:15:46,262 | server.py:229 | fit_round 10 received 9 results and 0 failures\n",
            "DEBUG flwr 2023-04-11 18:15:46,299 | server.py:165 | evaluate_round 10: strategy sampled 10 clients (out of 10)\n"
          ]
        },
        {
          "name": "stdout",
          "output_type": "stream",
          "text": [
            "\u001b[2m\u001b[36m(launch_and_fit pid=8108)\u001b[0m 188/188 - 9s - loss: 0.0616 - accuracy: 0.9815 - 9s/epoch - 46ms/step\n",
            "\u001b[2m\u001b[36m(launch_and_fit pid=16620)\u001b[0m 188/188 - 9s - loss: 0.0620 - accuracy: 0.9818 - 9s/epoch - 47ms/step\n",
            "\u001b[2m\u001b[36m(launch_and_evaluate pid=8108)\u001b[0m 32/32 - 1s - loss: 0.0572 - accuracy: 0.9840 - 598ms/epoch - 19ms/step\n",
            "\u001b[2m\u001b[36m(launch_and_evaluate pid=16620)\u001b[0m 32/32 - 1s - loss: 0.0569 - accuracy: 0.9850 - 588ms/epoch - 18ms/step\n",
            "\u001b[2m\u001b[36m(launch_and_evaluate pid=16044)\u001b[0m 32/32 - 1s - loss: 0.0392 - accuracy: 0.9860 - 603ms/epoch - 19ms/step\n",
            "\u001b[2m\u001b[36m(launch_and_evaluate pid=12572)\u001b[0m 32/32 - 1s - loss: 0.0506 - accuracy: 0.9870 - 678ms/epoch - 21ms/step\n",
            "\u001b[2m\u001b[36m(launch_and_evaluate pid=17224)\u001b[0m 32/32 - 1s - loss: 0.0515 - accuracy: 0.9830 - 695ms/epoch - 22ms/step\n"
          ]
        },
        {
          "name": "stderr",
          "output_type": "stream",
          "text": [
            "DEBUG flwr 2023-04-11 18:15:47,852 | server.py:179 | evaluate_round 10 received 10 results and 0 failures\n",
            "DEBUG flwr 2023-04-11 18:15:47,853 | server.py:215 | fit_round 11: strategy sampled 9 clients (out of 10)\n"
          ]
        },
        {
          "name": "stdout",
          "output_type": "stream",
          "text": [
            "\u001b[2m\u001b[36m(launch_and_evaluate pid=20204)\u001b[0m 32/32 - 1s - loss: 0.0532 - accuracy: 0.9850 - 767ms/epoch - 24ms/step\n",
            "\u001b[2m\u001b[36m(launch_and_evaluate pid=13116)\u001b[0m 32/32 - 1s - loss: 0.0599 - accuracy: 0.9820 - 714ms/epoch - 22ms/step\n",
            "\u001b[2m\u001b[36m(launch_and_evaluate pid=15348)\u001b[0m 32/32 - 1s - loss: 0.0537 - accuracy: 0.9830 - 786ms/epoch - 25ms/step\n",
            "\u001b[2m\u001b[36m(launch_and_evaluate pid=12896)\u001b[0m 32/32 - 1s - loss: 0.0389 - accuracy: 0.9930 - 772ms/epoch - 24ms/step\n",
            "\u001b[2m\u001b[36m(launch_and_evaluate pid=4808)\u001b[0m 32/32 - 1s - loss: 0.0478 - accuracy: 0.9880 - 818ms/epoch - 26ms/step\n",
            "\u001b[2m\u001b[36m(launch_and_fit pid=4808)\u001b[0m 188/188 - 7s - loss: 0.0623 - accuracy: 0.9810 - 7s/epoch - 38ms/step\n",
            "\u001b[2m\u001b[36m(launch_and_fit pid=15348)\u001b[0m 188/188 - 7s - loss: 0.0609 - accuracy: 0.9818 - 7s/epoch - 39ms/step\n",
            "\u001b[2m\u001b[36m(launch_and_fit pid=13116)\u001b[0m 188/188 - 8s - loss: 0.0661 - accuracy: 0.9802 - 8s/epoch - 41ms/step\n",
            "\u001b[2m\u001b[36m(launch_and_fit pid=12896)\u001b[0m 188/188 - 8s - loss: 0.0618 - accuracy: 0.9812 - 8s/epoch - 41ms/step\n",
            "\u001b[2m\u001b[36m(launch_and_fit pid=12572)\u001b[0m 188/188 - 8s - loss: 0.0583 - accuracy: 0.9833 - 8s/epoch - 42ms/step\n",
            "\u001b[2m\u001b[36m(launch_and_fit pid=17224)\u001b[0m 188/188 - 8s - loss: 0.0539 - accuracy: 0.9837 - 8s/epoch - 42ms/step\n",
            "\u001b[2m\u001b[36m(launch_and_fit pid=16044)\u001b[0m 188/188 - 8s - loss: 0.0616 - accuracy: 0.9803 - 8s/epoch - 43ms/step\n",
            "\u001b[2m\u001b[36m(launch_and_fit pid=8108)\u001b[0m 188/188 - 9s - loss: 0.0564 - accuracy: 0.9832 - 9s/epoch - 45ms/step\n"
          ]
        },
        {
          "name": "stderr",
          "output_type": "stream",
          "text": [
            "DEBUG flwr 2023-04-11 18:15:58,339 | server.py:229 | fit_round 11 received 9 results and 0 failures\n",
            "DEBUG flwr 2023-04-11 18:15:58,375 | server.py:165 | evaluate_round 11: strategy sampled 10 clients (out of 10)\n"
          ]
        },
        {
          "name": "stdout",
          "output_type": "stream",
          "text": [
            "\u001b[2m\u001b[36m(launch_and_fit pid=20204)\u001b[0m 188/188 - 10s - loss: 0.0631 - accuracy: 0.9825 - 10s/epoch - 52ms/step\n",
            "\u001b[2m\u001b[36m(launch_and_evaluate pid=20204)\u001b[0m 32/32 - 1s - loss: 0.0622 - accuracy: 0.9780 - 607ms/epoch - 19ms/step\n",
            "\u001b[2m\u001b[36m(launch_and_evaluate pid=8108)\u001b[0m 32/32 - 1s - loss: 0.0579 - accuracy: 0.9780 - 625ms/epoch - 20ms/step\n",
            "\u001b[2m\u001b[36m(launch_and_evaluate pid=15348)\u001b[0m 32/32 - 1s - loss: 0.0573 - accuracy: 0.9820 - 738ms/epoch - 23ms/step\n",
            "\u001b[2m\u001b[36m(launch_and_evaluate pid=16620)\u001b[0m 32/32 - 1s - loss: 0.0443 - accuracy: 0.9840 - 670ms/epoch - 21ms/step\n",
            "\u001b[2m\u001b[36m(launch_and_evaluate pid=4808)\u001b[0m 32/32 - 1s - loss: 0.0733 - accuracy: 0.9760 - 751ms/epoch - 23ms/step\n",
            "\u001b[2m\u001b[36m(launch_and_evaluate pid=16044)\u001b[0m 32/32 - 1s - loss: 0.0602 - accuracy: 0.9820 - 745ms/epoch - 23ms/step\n",
            "\u001b[2m\u001b[36m(launch_and_evaluate pid=13116)\u001b[0m 32/32 - 1s - loss: 0.0504 - accuracy: 0.9860 - 777ms/epoch - 24ms/step\n",
            "\u001b[2m\u001b[36m(launch_and_evaluate pid=17224)\u001b[0m 32/32 - 1s - loss: 0.0509 - accuracy: 0.9840 - 865ms/epoch - 27ms/step\n",
            "\u001b[2m\u001b[36m(launch_and_evaluate pid=12896)\u001b[0m 32/32 - 1s - loss: 0.0439 - accuracy: 0.9870 - 844ms/epoch - 26ms/step\n"
          ]
        },
        {
          "name": "stderr",
          "output_type": "stream",
          "text": [
            "DEBUG flwr 2023-04-11 18:16:00,271 | server.py:179 | evaluate_round 11 received 10 results and 0 failures\n",
            "DEBUG flwr 2023-04-11 18:16:00,272 | server.py:215 | fit_round 12: strategy sampled 9 clients (out of 10)\n"
          ]
        },
        {
          "name": "stdout",
          "output_type": "stream",
          "text": [
            "\u001b[2m\u001b[36m(launch_and_evaluate pid=12572)\u001b[0m 32/32 - 1s - loss: 0.0445 - accuracy: 0.9850 - 557ms/epoch - 17ms/step\n",
            "\u001b[2m\u001b[36m(launch_and_fit pid=13116)\u001b[0m 188/188 - 6s - loss: 0.0485 - accuracy: 0.9853 - 6s/epoch - 34ms/step\n",
            "\u001b[2m\u001b[36m(launch_and_fit pid=17224)\u001b[0m 188/188 - 7s - loss: 0.0605 - accuracy: 0.9803 - 7s/epoch - 37ms/step\n",
            "\u001b[2m\u001b[36m(launch_and_fit pid=4808)\u001b[0m 188/188 - 7s - loss: 0.0520 - accuracy: 0.9860 - 7s/epoch - 37ms/step\n",
            "\u001b[2m\u001b[36m(launch_and_fit pid=16044)\u001b[0m 188/188 - 7s - loss: 0.0564 - accuracy: 0.9825 - 7s/epoch - 37ms/step\n",
            "\u001b[2m\u001b[36m(launch_and_fit pid=12896)\u001b[0m 188/188 - 7s - loss: 0.0588 - accuracy: 0.9813 - 7s/epoch - 40ms/step\n",
            "\u001b[2m\u001b[36m(launch_and_fit pid=12572)\u001b[0m 188/188 - 8s - loss: 0.0521 - accuracy: 0.9848 - 8s/epoch - 41ms/step\n",
            "\u001b[2m\u001b[36m(launch_and_fit pid=15348)\u001b[0m 188/188 - 8s - loss: 0.0545 - accuracy: 0.9848 - 8s/epoch - 43ms/step\n",
            "\u001b[2m\u001b[36m(launch_and_fit pid=16620)\u001b[0m 188/188 - 8s - loss: 0.0599 - accuracy: 0.9828 - 8s/epoch - 43ms/step\n"
          ]
        },
        {
          "name": "stderr",
          "output_type": "stream",
          "text": [
            "DEBUG flwr 2023-04-11 18:16:10,662 | server.py:229 | fit_round 12 received 9 results and 0 failures\n",
            "DEBUG flwr 2023-04-11 18:16:10,701 | server.py:165 | evaluate_round 12: strategy sampled 10 clients (out of 10)\n"
          ]
        },
        {
          "name": "stdout",
          "output_type": "stream",
          "text": [
            "\u001b[2m\u001b[36m(launch_and_fit pid=8108)\u001b[0m 188/188 - 10s - loss: 0.0551 - accuracy: 0.9850 - 10s/epoch - 51ms/step\n",
            "\u001b[2m\u001b[36m(launch_and_evaluate pid=12572)\u001b[0m 32/32 - 1s - loss: 0.0424 - accuracy: 0.9880 - 744ms/epoch - 23ms/step\n",
            "\u001b[2m\u001b[36m(launch_and_evaluate pid=8108)\u001b[0m 32/32 - 1s - loss: 0.0523 - accuracy: 0.9810 - 694ms/epoch - 22ms/step\n",
            "\u001b[2m\u001b[36m(launch_and_evaluate pid=20204)\u001b[0m 32/32 - 1s - loss: 0.0561 - accuracy: 0.9810 - 724ms/epoch - 23ms/step\n",
            "\u001b[2m\u001b[36m(launch_and_evaluate pid=4808)\u001b[0m 32/32 - 1s - loss: 0.0464 - accuracy: 0.9860 - 773ms/epoch - 24ms/step\n"
          ]
        },
        {
          "name": "stderr",
          "output_type": "stream",
          "text": [
            "DEBUG flwr 2023-04-11 18:16:13,024 | server.py:179 | evaluate_round 12 received 10 results and 0 failures\n",
            "DEBUG flwr 2023-04-11 18:16:13,025 | server.py:215 | fit_round 13: strategy sampled 9 clients (out of 10)\n"
          ]
        },
        {
          "name": "stdout",
          "output_type": "stream",
          "text": [
            "\u001b[2m\u001b[36m(launch_and_evaluate pid=12896)\u001b[0m 32/32 - 1s - loss: 0.0404 - accuracy: 0.9860 - 1s/epoch - 41ms/step\n",
            "\u001b[2m\u001b[36m(launch_and_evaluate pid=16620)\u001b[0m 32/32 - 1s - loss: 0.0462 - accuracy: 0.9880 - 1s/epoch - 43ms/step\n",
            "\u001b[2m\u001b[36m(launch_and_evaluate pid=16044)\u001b[0m 32/32 - 1s - loss: 0.0443 - accuracy: 0.9820 - 1s/epoch - 42ms/step\n",
            "\u001b[2m\u001b[36m(launch_and_evaluate pid=13116)\u001b[0m 32/32 - 1s - loss: 0.0455 - accuracy: 0.9810 - 1s/epoch - 45ms/step\n",
            "\u001b[2m\u001b[36m(launch_and_evaluate pid=15348)\u001b[0m 32/32 - 1s - loss: 0.0492 - accuracy: 0.9770 - 1s/epoch - 47ms/step\n",
            "\u001b[2m\u001b[36m(launch_and_evaluate pid=17224)\u001b[0m 32/32 - 1s - loss: 0.0481 - accuracy: 0.9880 - 1s/epoch - 45ms/step\n",
            "\u001b[2m\u001b[36m(launch_and_fit pid=13116)\u001b[0m 188/188 - 7s - loss: 0.0559 - accuracy: 0.9818 - 7s/epoch - 35ms/step\n",
            "\u001b[2m\u001b[36m(launch_and_fit pid=15348)\u001b[0m 188/188 - 7s - loss: 0.0413 - accuracy: 0.9867 - 7s/epoch - 39ms/step\n",
            "\u001b[2m\u001b[36m(launch_and_fit pid=17224)\u001b[0m 188/188 - 7s - loss: 0.0467 - accuracy: 0.9860 - 7s/epoch - 38ms/step\n",
            "\u001b[2m\u001b[36m(launch_and_fit pid=12896)\u001b[0m 188/188 - 7s - loss: 0.0458 - accuracy: 0.9878 - 7s/epoch - 38ms/step\n",
            "\u001b[2m\u001b[36m(launch_and_fit pid=16044)\u001b[0m 188/188 - 7s - loss: 0.0470 - accuracy: 0.9852 - 7s/epoch - 39ms/step\n",
            "\u001b[2m\u001b[36m(launch_and_fit pid=16620)\u001b[0m 188/188 - 8s - loss: 0.0591 - accuracy: 0.9825 - 8s/epoch - 42ms/step\n",
            "\u001b[2m\u001b[36m(launch_and_fit pid=20204)\u001b[0m 188/188 - 8s - loss: 0.0612 - accuracy: 0.9818 - 8s/epoch - 44ms/step\n",
            "\u001b[2m\u001b[36m(launch_and_fit pid=8108)\u001b[0m 188/188 - 8s - loss: 0.0514 - accuracy: 0.9845 - 8s/epoch - 45ms/step\n"
          ]
        },
        {
          "name": "stderr",
          "output_type": "stream",
          "text": [
            "DEBUG flwr 2023-04-11 18:16:23,658 | server.py:229 | fit_round 13 received 9 results and 0 failures\n",
            "DEBUG flwr 2023-04-11 18:16:23,694 | server.py:165 | evaluate_round 13: strategy sampled 10 clients (out of 10)\n"
          ]
        },
        {
          "name": "stdout",
          "output_type": "stream",
          "text": [
            "\u001b[2m\u001b[36m(launch_and_fit pid=4808)\u001b[0m 188/188 - 10s - loss: 0.0561 - accuracy: 0.9847 - 10s/epoch - 53ms/step\n",
            "\u001b[2m\u001b[36m(launch_and_evaluate pid=20204)\u001b[0m 32/32 - 1s - loss: 0.0519 - accuracy: 0.9860 - 658ms/epoch - 21ms/step\n",
            "\u001b[2m\u001b[36m(launch_and_evaluate pid=8108)\u001b[0m 32/32 - 1s - loss: 0.0506 - accuracy: 0.9820 - 724ms/epoch - 23ms/step\n",
            "\u001b[2m\u001b[36m(launch_and_evaluate pid=16620)\u001b[0m 32/32 - 1s - loss: 0.0458 - accuracy: 0.9860 - 661ms/epoch - 21ms/step\n",
            "\u001b[2m\u001b[36m(launch_and_evaluate pid=4808)\u001b[0m 32/32 - 1s - loss: 0.0483 - accuracy: 0.9800 - 687ms/epoch - 21ms/step\n",
            "\u001b[2m\u001b[36m(launch_and_evaluate pid=13116)\u001b[0m 32/32 - 1s - loss: 0.0582 - accuracy: 0.9860 - 863ms/epoch - 27ms/step\n",
            "\u001b[2m\u001b[36m(launch_and_evaluate pid=15348)\u001b[0m 32/32 - 1s - loss: 0.0486 - accuracy: 0.9870 - 894ms/epoch - 28ms/step\n",
            "\u001b[2m\u001b[36m(launch_and_evaluate pid=17224)\u001b[0m 32/32 - 1s - loss: 0.0354 - accuracy: 0.9880 - 897ms/epoch - 28ms/step\n",
            "\u001b[2m\u001b[36m(launch_and_evaluate pid=12896)\u001b[0m 32/32 - 1s - loss: 0.0406 - accuracy: 0.9880 - 848ms/epoch - 26ms/step\n",
            "\u001b[2m\u001b[36m(launch_and_evaluate pid=16044)\u001b[0m 32/32 - 1s - loss: 0.0520 - accuracy: 0.9820 - 808ms/epoch - 25ms/step\n"
          ]
        },
        {
          "name": "stderr",
          "output_type": "stream",
          "text": [
            "DEBUG flwr 2023-04-11 18:16:25,405 | server.py:179 | evaluate_round 13 received 10 results and 0 failures\n",
            "DEBUG flwr 2023-04-11 18:16:25,406 | server.py:215 | fit_round 14: strategy sampled 9 clients (out of 10)\n"
          ]
        },
        {
          "name": "stdout",
          "output_type": "stream",
          "text": [
            "\u001b[2m\u001b[36m(launch_and_evaluate pid=12572)\u001b[0m 32/32 - 1s - loss: 0.0337 - accuracy: 0.9890 - 927ms/epoch - 29ms/step\n",
            "\u001b[2m\u001b[36m(launch_and_fit pid=12572)\u001b[0m 188/188 - 7s - loss: 0.0435 - accuracy: 0.9872 - 7s/epoch - 38ms/step\n",
            "\u001b[2m\u001b[36m(launch_and_fit pid=15348)\u001b[0m 188/188 - 7s - loss: 0.0432 - accuracy: 0.9863 - 7s/epoch - 40ms/step\n",
            "\u001b[2m\u001b[36m(launch_and_fit pid=17224)\u001b[0m 188/188 - 7s - loss: 0.0483 - accuracy: 0.9843 - 7s/epoch - 39ms/step\n",
            "\u001b[2m\u001b[36m(launch_and_fit pid=13116)\u001b[0m 188/188 - 8s - loss: 0.0477 - accuracy: 0.9868 - 8s/epoch - 43ms/step\n",
            "\u001b[2m\u001b[36m(launch_and_fit pid=8108)\u001b[0m 188/188 - 8s - loss: 0.0496 - accuracy: 0.9847 - 8s/epoch - 44ms/step\n",
            "\u001b[2m\u001b[36m(launch_and_fit pid=12896)\u001b[0m 188/188 - 8s - loss: 0.0542 - accuracy: 0.9828 - 8s/epoch - 45ms/step\n",
            "\u001b[2m\u001b[36m(launch_and_fit pid=16044)\u001b[0m 188/188 - 9s - loss: 0.0452 - accuracy: 0.9855 - 9s/epoch - 46ms/step\n"
          ]
        },
        {
          "name": "stderr",
          "output_type": "stream",
          "text": [
            "DEBUG flwr 2023-04-11 18:16:35,472 | server.py:229 | fit_round 14 received 9 results and 0 failures\n",
            "DEBUG flwr 2023-04-11 18:16:35,514 | server.py:165 | evaluate_round 14: strategy sampled 10 clients (out of 10)\n"
          ]
        },
        {
          "name": "stdout",
          "output_type": "stream",
          "text": [
            "\u001b[2m\u001b[36m(launch_and_fit pid=16620)\u001b[0m 188/188 - 9s - loss: 0.0492 - accuracy: 0.9847 - 9s/epoch - 49ms/step\n",
            "\u001b[2m\u001b[36m(launch_and_fit pid=4808)\u001b[0m 188/188 - 9s - loss: 0.0425 - accuracy: 0.9895 - 9s/epoch - 49ms/step\n"
          ]
        },
        {
          "name": "stderr",
          "output_type": "stream",
          "text": [
            "DEBUG flwr 2023-04-11 18:16:37,140 | server.py:179 | evaluate_round 14 received 10 results and 0 failures\n",
            "DEBUG flwr 2023-04-11 18:16:37,142 | server.py:215 | fit_round 15: strategy sampled 9 clients (out of 10)\n"
          ]
        },
        {
          "name": "stdout",
          "output_type": "stream",
          "text": [
            "\u001b[2m\u001b[36m(launch_and_evaluate pid=8108)\u001b[0m 32/32 - 1s - loss: 0.0713 - accuracy: 0.9800 - 683ms/epoch - 21ms/step\n",
            "\u001b[2m\u001b[36m(launch_and_evaluate pid=12896)\u001b[0m 32/32 - 1s - loss: 0.0529 - accuracy: 0.9790 - 642ms/epoch - 20ms/step\n",
            "\u001b[2m\u001b[36m(launch_and_evaluate pid=16620)\u001b[0m 32/32 - 1s - loss: 0.0309 - accuracy: 0.9900 - 669ms/epoch - 21ms/step\n",
            "\u001b[2m\u001b[36m(launch_and_evaluate pid=4808)\u001b[0m 32/32 - 1s - loss: 0.0331 - accuracy: 0.9880 - 658ms/epoch - 21ms/step\n",
            "\u001b[2m\u001b[36m(launch_and_evaluate pid=16044)\u001b[0m 32/32 - 1s - loss: 0.0445 - accuracy: 0.9850 - 699ms/epoch - 22ms/step\n",
            "\u001b[2m\u001b[36m(launch_and_evaluate pid=15348)\u001b[0m 32/32 - 1s - loss: 0.0652 - accuracy: 0.9760 - 731ms/epoch - 23ms/step\n",
            "\u001b[2m\u001b[36m(launch_and_evaluate pid=12572)\u001b[0m 32/32 - 1s - loss: 0.0696 - accuracy: 0.9800 - 823ms/epoch - 26ms/step\n",
            "\u001b[2m\u001b[36m(launch_and_evaluate pid=13116)\u001b[0m 32/32 - 1s - loss: 0.0318 - accuracy: 0.9870 - 839ms/epoch - 26ms/step\n",
            "\u001b[2m\u001b[36m(launch_and_evaluate pid=20204)\u001b[0m 32/32 - 1s - loss: 0.0459 - accuracy: 0.9820 - 862ms/epoch - 27ms/step\n",
            "\u001b[2m\u001b[36m(launch_and_evaluate pid=17224)\u001b[0m 32/32 - 1s - loss: 0.0461 - accuracy: 0.9890 - 854ms/epoch - 27ms/step\n",
            "\u001b[2m\u001b[36m(launch_and_fit pid=13116)\u001b[0m 188/188 - 8s - loss: 0.0467 - accuracy: 0.9868 - 8s/epoch - 41ms/step\n",
            "\u001b[2m\u001b[36m(launch_and_fit pid=17224)\u001b[0m 188/188 - 8s - loss: 0.0408 - accuracy: 0.9890 - 8s/epoch - 42ms/step\n",
            "\u001b[2m\u001b[36m(launch_and_fit pid=20204)\u001b[0m 188/188 - 8s - loss: 0.0428 - accuracy: 0.9885 - 8s/epoch - 43ms/step\n",
            "\u001b[2m\u001b[36m(launch_and_fit pid=12572)\u001b[0m 188/188 - 8s - loss: 0.0476 - accuracy: 0.9850 - 8s/epoch - 44ms/step\n",
            "\u001b[2m\u001b[36m(launch_and_fit pid=15348)\u001b[0m 188/188 - 8s - loss: 0.0525 - accuracy: 0.9833 - 8s/epoch - 44ms/step\n",
            "\u001b[2m\u001b[36m(launch_and_fit pid=16044)\u001b[0m 188/188 - 9s - loss: 0.0471 - accuracy: 0.9863 - 9s/epoch - 45ms/step\n",
            "\u001b[2m\u001b[36m(launch_and_fit pid=12896)\u001b[0m 188/188 - 9s - loss: 0.0419 - accuracy: 0.9887 - 9s/epoch - 46ms/step\n",
            "\u001b[2m\u001b[36m(launch_and_fit pid=8108)\u001b[0m 188/188 - 9s - loss: 0.0537 - accuracy: 0.9840 - 9s/epoch - 47ms/step\n"
          ]
        },
        {
          "name": "stderr",
          "output_type": "stream",
          "text": [
            "DEBUG flwr 2023-04-11 18:16:47,088 | server.py:229 | fit_round 15 received 9 results and 0 failures\n",
            "DEBUG flwr 2023-04-11 18:16:47,128 | server.py:165 | evaluate_round 15: strategy sampled 10 clients (out of 10)\n"
          ]
        },
        {
          "name": "stdout",
          "output_type": "stream",
          "text": [
            "\u001b[2m\u001b[36m(launch_and_fit pid=4808)\u001b[0m 188/188 - 9s - loss: 0.0516 - accuracy: 0.9843 - 9s/epoch - 49ms/step\n",
            "\u001b[2m\u001b[36m(launch_and_evaluate pid=8108)\u001b[0m 32/32 - 1s - loss: 0.0584 - accuracy: 0.9810 - 606ms/epoch - 19ms/step\n",
            "\u001b[2m\u001b[36m(launch_and_evaluate pid=4808)\u001b[0m 32/32 - 1s - loss: 0.0394 - accuracy: 0.9880 - 619ms/epoch - 19ms/step\n",
            "\u001b[2m\u001b[36m(launch_and_evaluate pid=20204)\u001b[0m 32/32 - 1s - loss: 0.0471 - accuracy: 0.9860 - 719ms/epoch - 22ms/step\n",
            "\u001b[2m\u001b[36m(launch_and_evaluate pid=12572)\u001b[0m 32/32 - 1s - loss: 0.0459 - accuracy: 0.9820 - 662ms/epoch - 21ms/step\n",
            "\u001b[2m\u001b[36m(launch_and_evaluate pid=12896)\u001b[0m 32/32 - 1s - loss: 0.0330 - accuracy: 0.9890 - 683ms/epoch - 21ms/step\n",
            "\u001b[2m\u001b[36m(launch_and_evaluate pid=16044)\u001b[0m 32/32 - 1s - loss: 0.0319 - accuracy: 0.9890 - 685ms/epoch - 21ms/step\n"
          ]
        },
        {
          "name": "stderr",
          "output_type": "stream",
          "text": [
            "DEBUG flwr 2023-04-11 18:16:48,715 | server.py:179 | evaluate_round 15 received 10 results and 0 failures\n",
            "INFO flwr 2023-04-11 18:16:48,715 | server.py:144 | FL finished in 196.70702899998287\n",
            "INFO flwr 2023-04-11 18:16:48,718 | app.py:202 | app_fit: losses_distributed [(1, 0.24249772131443023), (2, 0.14043003395199777), (3, 0.10993624776601792), (4, 0.09836939424276352), (5, 0.08198059052228927), (6, 0.0753038052469492), (7, 0.060214632749557497), (8, 0.05546635538339615), (9, 0.057347125932574274), (10, 0.050902091711759564), (11, 0.0544849019497633), (12, 0.04707811549305916), (13, 0.04650060795247555), (14, 0.04913075976073742), (15, 0.0433467086404562)]\n",
            "INFO flwr 2023-04-11 18:16:48,719 | app.py:203 | app_fit: metrics_distributed {'accuracy': [(1, 0.9227000057697297), (2, 0.9574999928474426), (3, 0.9676999986171723), (4, 0.9713999986648559), (5, 0.9773000001907348), (6, 0.9773000001907348), (7, 0.9816000044345856), (8, 0.9825000107288361), (9, 0.981799989938736), (10, 0.9855999946594238), (11, 0.9822000026702881), (12, 0.9837999939918518), (13, 0.9853999972343445), (14, 0.9836000025272369), (15, 0.9861000001430511)]}\n",
            "INFO flwr 2023-04-11 18:16:48,721 | app.py:204 | app_fit: losses_centralized []\n",
            "INFO flwr 2023-04-11 18:16:48,721 | app.py:205 | app_fit: metrics_centralized {}\n"
          ]
        },
        {
          "name": "stdout",
          "output_type": "stream",
          "text": [
            "\u001b[2m\u001b[36m(launch_and_evaluate pid=15348)\u001b[0m 32/32 - 1s - loss: 0.0425 - accuracy: 0.9850 - 797ms/epoch - 25ms/step\n",
            "\u001b[2m\u001b[36m(launch_and_evaluate pid=17224)\u001b[0m 32/32 - 1s - loss: 0.0503 - accuracy: 0.9870 - 815ms/epoch - 25ms/step\n",
            "\u001b[2m\u001b[36m(launch_and_evaluate pid=16620)\u001b[0m 32/32 - 1s - loss: 0.0343 - accuracy: 0.9910 - 822ms/epoch - 26ms/step\n",
            "\u001b[2m\u001b[36m(launch_and_evaluate pid=13116)\u001b[0m 32/32 - 1s - loss: 0.0508 - accuracy: 0.9830 - 827ms/epoch - 26ms/step\n"
          ]
        },
        {
          "data": {
            "image/png": "[encoded data removed]",
            "text/plain": [
              "<Figure size 640x480 with 1 Axes>"
            ]
          },
          "metadata": {},
          "output_type": "display_data"
        },
        {
          "name": "stderr",
          "output_type": "stream",
          "text": [
            "INFO flwr 2023-04-11 18:16:48,871 | app.py:145 | Starting Flower simulation, config: ServerConfig(num_rounds=20, round_timeout=None)\n",
            "2023-04-11 18:16:54,818\tINFO worker.py:1529 -- Started a local Ray instance. View the dashboard at \u001b[1m\u001b[32m127.0.0.1:8266 \u001b[39m\u001b[22m\n",
            "INFO flwr 2023-04-11 18:16:57,656 | app.py:179 | Flower VCE: Ray initialized with resources: {'object_store_memory': 1825263206.0, 'GPU': 1.0, 'node:127.0.0.1': 1.0, 'memory': 3650526414.0, 'CPU': 12.0}\n",
            "INFO flwr 2023-04-11 18:16:57,657 | server.py:86 | Initializing global parameters\n",
            "INFO flwr 2023-04-11 18:16:57,658 | server.py:270 | Requesting initial parameters from one random client\n",
            "INFO flwr 2023-04-11 18:17:01,372 | server.py:274 | Received initial parameters from one random client\n",
            "INFO flwr 2023-04-11 18:17:01,373 | server.py:88 | Evaluating initial parameters\n",
            "INFO flwr 2023-04-11 18:17:01,373 | server.py:101 | FL starting\n",
            "DEBUG flwr 2023-04-11 18:17:01,374 | server.py:215 | fit_round 1: strategy sampled 9 clients (out of 10)\n"
          ]
        },
        {
          "name": "stdout",
          "output_type": "stream",
          "text": [
            "\u001b[2m\u001b[36m(launch_and_fit pid=16756)\u001b[0m 188/188 - 3s - loss: 0.5004 - accuracy: 0.8437 - 3s/epoch - 18ms/step\n",
            "\u001b[2m\u001b[36m(launch_and_fit pid=20360)\u001b[0m 188/188 - 7s - loss: 0.5252 - accuracy: 0.8345 - 7s/epoch - 39ms/step\n",
            "\u001b[2m\u001b[36m(launch_and_fit pid=23604)\u001b[0m 188/188 - 7s - loss: 0.5098 - accuracy: 0.8377 - 7s/epoch - 40ms/step\n",
            "\u001b[2m\u001b[36m(launch_and_fit pid=14996)\u001b[0m 188/188 - 8s - loss: 0.5043 - accuracy: 0.8407 - 8s/epoch - 42ms/step\n",
            "\u001b[2m\u001b[36m(launch_and_fit pid=21988)\u001b[0m 188/188 - 8s - loss: 0.5112 - accuracy: 0.8408 - 8s/epoch - 41ms/step\n",
            "\u001b[2m\u001b[36m(launch_and_fit pid=24600)\u001b[0m 188/188 - 8s - loss: 0.5000 - accuracy: 0.8403 - 8s/epoch - 42ms/step\n",
            "\u001b[2m\u001b[36m(launch_and_fit pid=25216)\u001b[0m 188/188 - 8s - loss: 0.4848 - accuracy: 0.8485 - 8s/epoch - 42ms/step\n",
            "\u001b[2m\u001b[36m(launch_and_fit pid=21640)\u001b[0m 188/188 - 8s - loss: 0.4980 - accuracy: 0.8442 - 8s/epoch - 44ms/step\n",
            "\u001b[2m\u001b[36m(launch_and_fit pid=11692)\u001b[0m 188/188 - 9s - loss: 0.5136 - accuracy: 0.8380 - 9s/epoch - 46ms/step\n"
          ]
        },
        {
          "name": "stderr",
          "output_type": "stream",
          "text": [
            "DEBUG flwr 2023-04-11 18:17:21,363 | server.py:229 | fit_round 1 received 9 results and 0 failures\n",
            "WARNING flwr 2023-04-11 18:17:21,395 | fedavg.py:242 | No fit_metrics_aggregation_fn provided\n",
            "DEBUG flwr 2023-04-11 18:17:21,398 | server.py:165 | evaluate_round 1: strategy sampled 10 clients (out of 10)\n"
          ]
        },
        {
          "name": "stdout",
          "output_type": "stream",
          "text": [
            "\u001b[2m\u001b[36m(launch_and_evaluate pid=21640)\u001b[0m 32/32 - 1s - loss: 0.2537 - accuracy: 0.9280 - 644ms/epoch - 20ms/step\n",
            "\u001b[2m\u001b[36m(launch_and_evaluate pid=11692)\u001b[0m 32/32 - 1s - loss: 0.2738 - accuracy: 0.9180 - 644ms/epoch - 20ms/step\n",
            "\u001b[2m\u001b[36m(launch_and_evaluate pid=21988)\u001b[0m 32/32 - 1s - loss: 0.2224 - accuracy: 0.9440 - 689ms/epoch - 22ms/step\n",
            "\u001b[2m\u001b[36m(launch_and_evaluate pid=24600)\u001b[0m 32/32 - 1s - loss: 0.2475 - accuracy: 0.9300 - 693ms/epoch - 22ms/step\n",
            "\u001b[2m\u001b[36m(launch_and_evaluate pid=20360)\u001b[0m 32/32 - 1s - loss: 0.2571 - accuracy: 0.9260 - 774ms/epoch - 24ms/step\n",
            "\u001b[2m\u001b[36m(launch_and_evaluate pid=14996)\u001b[0m 32/32 - 1s - loss: 0.2202 - accuracy: 0.9410 - 755ms/epoch - 24ms/step\n",
            "\u001b[2m\u001b[36m(launch_and_evaluate pid=25216)\u001b[0m 32/32 - 1s - loss: 0.2194 - accuracy: 0.9380 - 721ms/epoch - 23ms/step\n",
            "\u001b[2m\u001b[36m(launch_and_evaluate pid=16756)\u001b[0m 32/32 - 1s - loss: 0.2261 - accuracy: 0.9350 - 806ms/epoch - 25ms/step\n",
            "\u001b[2m\u001b[36m(launch_and_evaluate pid=23604)\u001b[0m 32/32 - 1s - loss: 0.2620 - accuracy: 0.9260 - 833ms/epoch - 26ms/step\n"
          ]
        },
        {
          "name": "stderr",
          "output_type": "stream",
          "text": [
            "DEBUG flwr 2023-04-11 18:17:26,397 | server.py:179 | evaluate_round 1 received 10 results and 0 failures\n",
            "DEBUG flwr 2023-04-11 18:17:26,399 | server.py:215 | fit_round 2: strategy sampled 9 clients (out of 10)\n"
          ]
        },
        {
          "name": "stdout",
          "output_type": "stream",
          "text": [
            "\u001b[2m\u001b[36m(launch_and_evaluate pid=17236)\u001b[0m 32/32 - 0s - loss: 0.2840 - accuracy: 0.9160 - 411ms/epoch - 13ms/step\n",
            "\u001b[2m\u001b[36m(launch_and_fit pid=17236)\u001b[0m 188/188 - 6s - loss: 0.2528 - accuracy: 0.9268 - 6s/epoch - 34ms/step\n",
            "\u001b[2m\u001b[36m(launch_and_fit pid=23604)\u001b[0m 188/188 - 8s - loss: 0.2534 - accuracy: 0.9207 - 8s/epoch - 43ms/step\n",
            "\u001b[2m\u001b[36m(launch_and_fit pid=16756)\u001b[0m 188/188 - 8s - loss: 0.2540 - accuracy: 0.9223 - 8s/epoch - 44ms/step\n",
            "\u001b[2m\u001b[36m(launch_and_fit pid=25216)\u001b[0m 188/188 - 8s - loss: 0.2536 - accuracy: 0.9207 - 8s/epoch - 45ms/step\n",
            "\u001b[2m\u001b[36m(launch_and_fit pid=20360)\u001b[0m 188/188 - 9s - loss: 0.2406 - accuracy: 0.9255 - 9s/epoch - 47ms/step\n"
          ]
        },
        {
          "name": "stderr",
          "output_type": "stream",
          "text": [
            "DEBUG flwr 2023-04-11 18:17:36,943 | server.py:229 | fit_round 2 received 9 results and 0 failures\n"
          ]
        },
        {
          "name": "stdout",
          "output_type": "stream",
          "text": [
            "\u001b[2m\u001b[36m(launch_and_fit pid=14996)\u001b[0m 188/188 - 10s - loss: 0.2515 - accuracy: 0.9227 - 10s/epoch - 51ms/step\n",
            "\u001b[2m\u001b[36m(launch_and_fit pid=11692)\u001b[0m 188/188 - 9s - loss: 0.2430 - accuracy: 0.9282 - 9s/epoch - 50ms/step\n",
            "\u001b[2m\u001b[36m(launch_and_fit pid=24600)\u001b[0m 188/188 - 10s - loss: 0.2509 - accuracy: 0.9275 - 10s/epoch - 51ms/step\n"
          ]
        },
        {
          "name": "stderr",
          "output_type": "stream",
          "text": [
            "DEBUG flwr 2023-04-11 18:17:36,988 | server.py:165 | evaluate_round 2: strategy sampled 10 clients (out of 10)\n"
          ]
        },
        {
          "name": "stdout",
          "output_type": "stream",
          "text": [
            "\u001b[2m\u001b[36m(launch_and_fit pid=21988)\u001b[0m 188/188 - 10s - loss: 0.2388 - accuracy: 0.9282 - 10s/epoch - 51ms/step\n",
            "\u001b[2m\u001b[36m(launch_and_evaluate pid=21988)\u001b[0m 32/32 - 1s - loss: 0.1545 - accuracy: 0.9580 - 615ms/epoch - 19ms/step\n",
            "\u001b[2m\u001b[36m(launch_and_evaluate pid=24600)\u001b[0m 32/32 - 1s - loss: 0.1588 - accuracy: 0.9520 - 624ms/epoch - 19ms/step\n",
            "\u001b[2m\u001b[36m(launch_and_evaluate pid=11692)\u001b[0m 32/32 - 1s - loss: 0.1590 - accuracy: 0.9550 - 640ms/epoch - 20ms/step\n",
            "\u001b[2m\u001b[36m(launch_and_evaluate pid=14996)\u001b[0m 32/32 - 1s - loss: 0.1662 - accuracy: 0.9470 - 659ms/epoch - 21ms/step\n",
            "\u001b[2m\u001b[36m(launch_and_evaluate pid=20360)\u001b[0m 32/32 - 1s - loss: 0.1564 - accuracy: 0.9550 - 708ms/epoch - 22ms/step\n",
            "\u001b[2m\u001b[36m(launch_and_evaluate pid=25216)\u001b[0m 32/32 - 1s - loss: 0.1541 - accuracy: 0.9460 - 706ms/epoch - 22ms/step\n"
          ]
        },
        {
          "name": "stderr",
          "output_type": "stream",
          "text": [
            "DEBUG flwr 2023-04-11 18:17:38,780 | server.py:179 | evaluate_round 2 received 10 results and 0 failures\n",
            "DEBUG flwr 2023-04-11 18:17:38,781 | server.py:215 | fit_round 3: strategy sampled 9 clients (out of 10)\n"
          ]
        },
        {
          "name": "stdout",
          "output_type": "stream",
          "text": [
            "\u001b[2m\u001b[36m(launch_and_evaluate pid=16756)\u001b[0m 32/32 - 1s - loss: 0.1271 - accuracy: 0.9660 - 767ms/epoch - 24ms/step\n",
            "\u001b[2m\u001b[36m(launch_and_evaluate pid=23604)\u001b[0m 32/32 - 1s - loss: 0.1456 - accuracy: 0.9550 - 778ms/epoch - 24ms/step\n",
            "\u001b[2m\u001b[36m(launch_and_evaluate pid=21640)\u001b[0m 32/32 - 1s - loss: 0.1672 - accuracy: 0.9530 - 982ms/epoch - 31ms/step\n",
            "\u001b[2m\u001b[36m(launch_and_evaluate pid=17236)\u001b[0m 32/32 - 1s - loss: 0.1578 - accuracy: 0.9500 - 976ms/epoch - 30ms/step\n",
            "\u001b[2m\u001b[36m(launch_and_fit pid=17236)\u001b[0m 188/188 - 8s - loss: 0.1824 - accuracy: 0.9460 - 8s/epoch - 43ms/step\n",
            "\u001b[2m\u001b[36m(launch_and_fit pid=16756)\u001b[0m 188/188 - 8s - loss: 0.1733 - accuracy: 0.9465 - 8s/epoch - 45ms/step\n",
            "\u001b[2m\u001b[36m(launch_and_fit pid=14996)\u001b[0m 188/188 - 9s - loss: 0.1825 - accuracy: 0.9422 - 9s/epoch - 45ms/step\n",
            "\u001b[2m\u001b[36m(launch_and_fit pid=23604)\u001b[0m 188/188 - 9s - loss: 0.1719 - accuracy: 0.9493 - 9s/epoch - 46ms/step\n",
            "\u001b[2m\u001b[36m(launch_and_fit pid=25216)\u001b[0m 188/188 - 9s - loss: 0.1819 - accuracy: 0.9462 - 9s/epoch - 45ms/step\n",
            "\u001b[2m\u001b[36m(launch_and_fit pid=21640)\u001b[0m 188/188 - 9s - loss: 0.1789 - accuracy: 0.9432 - 9s/epoch - 47ms/step\n",
            "\u001b[2m\u001b[36m(launch_and_fit pid=11692)\u001b[0m 188/188 - 9s - loss: 0.1699 - accuracy: 0.9485 - 9s/epoch - 47ms/step\n",
            "\u001b[2m\u001b[36m(launch_and_fit pid=20360)\u001b[0m 188/188 - 9s - loss: 0.1840 - accuracy: 0.9432 - 9s/epoch - 48ms/step\n",
            "\u001b[2m\u001b[36m(launch_and_fit pid=24600)\u001b[0m 188/188 - 9s - loss: 0.1725 - accuracy: 0.9448 - 9s/epoch - 50ms/step\n"
          ]
        },
        {
          "name": "stderr",
          "output_type": "stream",
          "text": [
            "DEBUG flwr 2023-04-11 18:17:50,891 | server.py:229 | fit_round 3 received 9 results and 0 failures\n",
            "DEBUG flwr 2023-04-11 18:17:50,927 | server.py:165 | evaluate_round 3: strategy sampled 10 clients (out of 10)\n"
          ]
        },
        {
          "name": "stdout",
          "output_type": "stream",
          "text": [
            "\u001b[2m\u001b[36m(launch_and_evaluate pid=20360)\u001b[0m 32/32 - 1s - loss: 0.1161 - accuracy: 0.9660 - 662ms/epoch - 21ms/step\n",
            "\u001b[2m\u001b[36m(launch_and_evaluate pid=23604)\u001b[0m 32/32 - 1s - loss: 0.1294 - accuracy: 0.9640 - 669ms/epoch - 21ms/step\n",
            "\u001b[2m\u001b[36m(launch_and_evaluate pid=24600)\u001b[0m 32/32 - 1s - loss: 0.1045 - accuracy: 0.9720 - 666ms/epoch - 21ms/step\n",
            "\u001b[2m\u001b[36m(launch_and_evaluate pid=16756)\u001b[0m 32/32 - 1s - loss: 0.1240 - accuracy: 0.9650 - 807ms/epoch - 25ms/step\n",
            "\u001b[2m\u001b[36m(launch_and_evaluate pid=25216)\u001b[0m 32/32 - 1s - loss: 0.1133 - accuracy: 0.9690 - 761ms/epoch - 24ms/step\n"
          ]
        },
        {
          "name": "stderr",
          "output_type": "stream",
          "text": [
            "DEBUG flwr 2023-04-11 18:17:52,621 | server.py:179 | evaluate_round 3 received 10 results and 0 failures\n",
            "DEBUG flwr 2023-04-11 18:17:52,623 | server.py:215 | fit_round 4: strategy sampled 9 clients (out of 10)\n"
          ]
        },
        {
          "name": "stdout",
          "output_type": "stream",
          "text": [
            "\u001b[2m\u001b[36m(launch_and_evaluate pid=21640)\u001b[0m 32/32 - 1s - loss: 0.1019 - accuracy: 0.9690 - 898ms/epoch - 28ms/step\n",
            "\u001b[2m\u001b[36m(launch_and_evaluate pid=11692)\u001b[0m 32/32 - 1s - loss: 0.1204 - accuracy: 0.9660 - 914ms/epoch - 29ms/step\n",
            "\u001b[2m\u001b[36m(launch_and_evaluate pid=17236)\u001b[0m 32/32 - 1s - loss: 0.1241 - accuracy: 0.9640 - 858ms/epoch - 27ms/step\n",
            "\u001b[2m\u001b[36m(launch_and_evaluate pid=14996)\u001b[0m 32/32 - 1s - loss: 0.1057 - accuracy: 0.9690 - 944ms/epoch - 29ms/step\n",
            "\u001b[2m\u001b[36m(launch_and_evaluate pid=21988)\u001b[0m 32/32 - 1s - loss: 0.1097 - accuracy: 0.9720 - 965ms/epoch - 30ms/step\n",
            "\u001b[2m\u001b[36m(launch_and_fit pid=14996)\u001b[0m 188/188 - 8s - loss: 0.1457 - accuracy: 0.9540 - 8s/epoch - 41ms/step\n",
            "\u001b[2m\u001b[36m(launch_and_fit pid=11692)\u001b[0m 188/188 - 8s - loss: 0.1394 - accuracy: 0.9577 - 8s/epoch - 42ms/step\n",
            "\u001b[2m\u001b[36m(launch_and_fit pid=21988)\u001b[0m 188/188 - 8s - loss: 0.1524 - accuracy: 0.9547 - 8s/epoch - 43ms/step\n",
            "\u001b[2m\u001b[36m(launch_and_fit pid=17236)\u001b[0m 188/188 - 8s - loss: 0.1389 - accuracy: 0.9532 - 8s/epoch - 43ms/step\n",
            "\u001b[2m\u001b[36m(launch_and_fit pid=23604)\u001b[0m 188/188 - 8s - loss: 0.1308 - accuracy: 0.9620 - 8s/epoch - 45ms/step\n",
            "\u001b[2m\u001b[36m(launch_and_fit pid=24600)\u001b[0m 188/188 - 9s - loss: 0.1501 - accuracy: 0.9550 - 9s/epoch - 48ms/step\n",
            "\u001b[2m\u001b[36m(launch_and_fit pid=21640)\u001b[0m 188/188 - 9s - loss: 0.1414 - accuracy: 0.9595 - 9s/epoch - 48ms/step\n",
            "\u001b[2m\u001b[36m(launch_and_fit pid=16756)\u001b[0m 188/188 - 9s - loss: 0.1355 - accuracy: 0.9582 - 9s/epoch - 48ms/step\n"
          ]
        },
        {
          "name": "stderr",
          "output_type": "stream",
          "text": [
            "DEBUG flwr 2023-04-11 18:18:03,537 | server.py:229 | fit_round 4 received 9 results and 0 failures\n",
            "DEBUG flwr 2023-04-11 18:18:03,579 | server.py:165 | evaluate_round 4: strategy sampled 10 clients (out of 10)\n"
          ]
        },
        {
          "name": "stdout",
          "output_type": "stream",
          "text": [
            "\u001b[2m\u001b[36m(launch_and_fit pid=25216)\u001b[0m 188/188 - 10s - loss: 0.1426 - accuracy: 0.9553 - 10s/epoch - 53ms/step\n",
            "\u001b[2m\u001b[36m(launch_and_evaluate pid=16756)\u001b[0m 32/32 - 1s - loss: 0.0988 - accuracy: 0.9690 - 666ms/epoch - 21ms/step\n",
            "\u001b[2m\u001b[36m(launch_and_evaluate pid=25216)\u001b[0m 32/32 - 1s - loss: 0.1037 - accuracy: 0.9670 - 688ms/epoch - 21ms/step\n",
            "\u001b[2m\u001b[36m(launch_and_evaluate pid=23604)\u001b[0m 32/32 - 1s - loss: 0.0829 - accuracy: 0.9740 - 806ms/epoch - 25ms/step\n",
            "\u001b[2m\u001b[36m(launch_and_evaluate pid=24600)\u001b[0m 32/32 - 1s - loss: 0.1061 - accuracy: 0.9640 - 800ms/epoch - 25ms/step\n",
            "\u001b[2m\u001b[36m(launch_and_evaluate pid=21988)\u001b[0m 32/32 - 1s - loss: 0.0964 - accuracy: 0.9700 - 846ms/epoch - 26ms/step\n"
          ]
        },
        {
          "name": "stderr",
          "output_type": "stream",
          "text": [
            "DEBUG flwr 2023-04-11 18:18:05,330 | server.py:179 | evaluate_round 4 received 10 results and 0 failures\n",
            "DEBUG flwr 2023-04-11 18:18:05,331 | server.py:215 | fit_round 5: strategy sampled 9 clients (out of 10)\n"
          ]
        },
        {
          "name": "stdout",
          "output_type": "stream",
          "text": [
            "\u001b[2m\u001b[36m(launch_and_evaluate pid=20360)\u001b[0m 32/32 - 1s - loss: 0.1085 - accuracy: 0.9730 - 867ms/epoch - 27ms/step\n",
            "\u001b[2m\u001b[36m(launch_and_evaluate pid=21640)\u001b[0m 32/32 - 1s - loss: 0.1005 - accuracy: 0.9730 - 911ms/epoch - 28ms/step\n",
            "\u001b[2m\u001b[36m(launch_and_evaluate pid=11692)\u001b[0m 32/32 - 1s - loss: 0.0955 - accuracy: 0.9700 - 877ms/epoch - 27ms/step\n",
            "\u001b[2m\u001b[36m(launch_and_evaluate pid=17236)\u001b[0m 32/32 - 1s - loss: 0.0904 - accuracy: 0.9690 - 836ms/epoch - 26ms/step\n",
            "\u001b[2m\u001b[36m(launch_and_evaluate pid=14996)\u001b[0m 32/32 - 1s - loss: 0.1335 - accuracy: 0.9650 - 931ms/epoch - 29ms/step\n",
            "\u001b[2m\u001b[36m(launch_and_fit pid=20360)\u001b[0m 188/188 - 7s - loss: 0.1151 - accuracy: 0.9645 - 7s/epoch - 38ms/step\n",
            "\u001b[2m\u001b[36m(launch_and_fit pid=16756)\u001b[0m 188/188 - 7s - loss: 0.1148 - accuracy: 0.9670 - 7s/epoch - 38ms/step\n",
            "\u001b[2m\u001b[36m(launch_and_fit pid=24600)\u001b[0m 188/188 - 7s - loss: 0.1232 - accuracy: 0.9628 - 7s/epoch - 40ms/step\n",
            "\u001b[2m\u001b[36m(launch_and_fit pid=21640)\u001b[0m 188/188 - 8s - loss: 0.1226 - accuracy: 0.9633 - 8s/epoch - 42ms/step\n",
            "\u001b[2m\u001b[36m(launch_and_fit pid=14996)\u001b[0m 188/188 - 8s - loss: 0.1174 - accuracy: 0.9652 - 8s/epoch - 44ms/step\n",
            "\u001b[2m\u001b[36m(launch_and_fit pid=11692)\u001b[0m 188/188 - 8s - loss: 0.1325 - accuracy: 0.9615 - 8s/epoch - 45ms/step\n",
            "\u001b[2m\u001b[36m(launch_and_fit pid=23604)\u001b[0m 188/188 - 9s - loss: 0.1138 - accuracy: 0.9650 - 9s/epoch - 49ms/step\n",
            "\u001b[2m\u001b[36m(launch_and_fit pid=21988)\u001b[0m 188/188 - 10s - loss: 0.1171 - accuracy: 0.9662 - 10s/epoch - 52ms/step\n",
            "\u001b[2m\u001b[36m(launch_and_fit pid=17236)\u001b[0m 188/188 - 10s - loss: 0.1067 - accuracy: 0.9672 - 10s/epoch - 52ms/step\n"
          ]
        },
        {
          "name": "stderr",
          "output_type": "stream",
          "text": [
            "DEBUG flwr 2023-04-11 18:18:18,284 | server.py:229 | fit_round 5 received 9 results and 0 failures\n",
            "DEBUG flwr 2023-04-11 18:18:18,321 | server.py:165 | evaluate_round 5: strategy sampled 10 clients (out of 10)\n"
          ]
        },
        {
          "name": "stdout",
          "output_type": "stream",
          "text": [
            "\u001b[2m\u001b[36m(launch_and_evaluate pid=20360)\u001b[0m 32/32 - 1s - loss: 0.0923 - accuracy: 0.9720 - 606ms/epoch - 19ms/step\n",
            "\u001b[2m\u001b[36m(launch_and_evaluate pid=21988)\u001b[0m 32/32 - 1s - loss: 0.0840 - accuracy: 0.9750 - 615ms/epoch - 19ms/step\n",
            "\u001b[2m\u001b[36m(launch_and_evaluate pid=21640)\u001b[0m 32/32 - 1s - loss: 0.0885 - accuracy: 0.9790 - 625ms/epoch - 20ms/step\n",
            "\u001b[2m\u001b[36m(launch_and_evaluate pid=24600)\u001b[0m 32/32 - 1s - loss: 0.0787 - accuracy: 0.9760 - 734ms/epoch - 23ms/step\n",
            "\u001b[2m\u001b[36m(launch_and_evaluate pid=11692)\u001b[0m 32/32 - 1s - loss: 0.0763 - accuracy: 0.9740 - 733ms/epoch - 23ms/step\n",
            "\u001b[2m\u001b[36m(launch_and_evaluate pid=17236)\u001b[0m 32/32 - 1s - loss: 0.0786 - accuracy: 0.9730 - 777ms/epoch - 24ms/step\n",
            "\u001b[2m\u001b[36m(launch_and_evaluate pid=14996)\u001b[0m 32/32 - 1s - loss: 0.0869 - accuracy: 0.9730 - 773ms/epoch - 24ms/step\n"
          ]
        },
        {
          "name": "stderr",
          "output_type": "stream",
          "text": [
            "DEBUG flwr 2023-04-11 18:18:20,019 | server.py:179 | evaluate_round 5 received 10 results and 0 failures\n",
            "DEBUG flwr 2023-04-11 18:18:20,020 | server.py:215 | fit_round 6: strategy sampled 9 clients (out of 10)\n"
          ]
        },
        {
          "name": "stdout",
          "output_type": "stream",
          "text": [
            "\u001b[2m\u001b[36m(launch_and_evaluate pid=23604)\u001b[0m 32/32 - 1s - loss: 0.1016 - accuracy: 0.9730 - 836ms/epoch - 26ms/step\n",
            "\u001b[2m\u001b[36m(launch_and_evaluate pid=25216)\u001b[0m 32/32 - 1s - loss: 0.0730 - accuracy: 0.9760 - 827ms/epoch - 26ms/step\n",
            "\u001b[2m\u001b[36m(launch_and_evaluate pid=16756)\u001b[0m 32/32 - 1s - loss: 0.0832 - accuracy: 0.9710 - 868ms/epoch - 27ms/step\n",
            "\u001b[2m\u001b[36m(launch_and_fit pid=16756)\u001b[0m 188/188 - 8s - loss: 0.0975 - accuracy: 0.9693 - 8s/epoch - 41ms/step\n",
            "\u001b[2m\u001b[36m(launch_and_fit pid=14996)\u001b[0m 188/188 - 8s - loss: 0.0991 - accuracy: 0.9725 - 8s/epoch - 44ms/step\n",
            "\u001b[2m\u001b[36m(launch_and_fit pid=11692)\u001b[0m 188/188 - 8s - loss: 0.0916 - accuracy: 0.9728 - 8s/epoch - 43ms/step\n",
            "\u001b[2m\u001b[36m(launch_and_fit pid=24600)\u001b[0m 188/188 - 9s - loss: 0.1131 - accuracy: 0.9630 - 9s/epoch - 45ms/step\n",
            "\u001b[2m\u001b[36m(launch_and_fit pid=23604)\u001b[0m 188/188 - 9s - loss: 0.1044 - accuracy: 0.9700 - 9s/epoch - 48ms/step\n",
            "\u001b[2m\u001b[36m(launch_and_fit pid=21640)\u001b[0m 188/188 - 9s - loss: 0.0925 - accuracy: 0.9732 - 9s/epoch - 48ms/step\n",
            "\u001b[2m\u001b[36m(launch_and_fit pid=25216)\u001b[0m 188/188 - 9s - loss: 0.1018 - accuracy: 0.9690 - 9s/epoch - 48ms/step\n",
            "\u001b[2m\u001b[36m(launch_and_fit pid=17236)\u001b[0m 188/188 - 9s - loss: 0.1147 - accuracy: 0.9647 - 9s/epoch - 49ms/step\n"
          ]
        },
        {
          "name": "stderr",
          "output_type": "stream",
          "text": [
            "DEBUG flwr 2023-04-11 18:18:29,972 | server.py:229 | fit_round 6 received 9 results and 0 failures\n",
            "DEBUG flwr 2023-04-11 18:18:30,019 | server.py:165 | evaluate_round 6: strategy sampled 10 clients (out of 10)\n"
          ]
        },
        {
          "name": "stdout",
          "output_type": "stream",
          "text": [
            "\u001b[2m\u001b[36m(launch_and_fit pid=21988)\u001b[0m 188/188 - 9s - loss: 0.1139 - accuracy: 0.9683 - 9s/epoch - 49ms/step\n",
            "\u001b[2m\u001b[36m(launch_and_evaluate pid=25216)\u001b[0m 32/32 - 1s - loss: 0.0641 - accuracy: 0.9810 - 712ms/epoch - 22ms/step\n",
            "\u001b[2m\u001b[36m(launch_and_evaluate pid=17236)\u001b[0m 32/32 - 1s - loss: 0.0856 - accuracy: 0.9730 - 713ms/epoch - 22ms/step\n",
            "\u001b[2m\u001b[36m(launch_and_evaluate pid=16756)\u001b[0m 32/32 - 1s - loss: 0.0885 - accuracy: 0.9750 - 888ms/epoch - 28ms/step\n",
            "\u001b[2m\u001b[36m(launch_and_evaluate pid=20360)\u001b[0m 32/32 - 1s - loss: 0.0592 - accuracy: 0.9830 - 896ms/epoch - 28ms/step\n",
            "\u001b[2m\u001b[36m(launch_and_evaluate pid=23604)\u001b[0m 32/32 - 1s - loss: 0.0653 - accuracy: 0.9780 - 867ms/epoch - 27ms/step\n",
            "\u001b[2m\u001b[36m(launch_and_evaluate pid=21988)\u001b[0m 32/32 - 1s - loss: 0.0796 - accuracy: 0.9750 - 912ms/epoch - 28ms/step\n",
            "\u001b[2m\u001b[36m(launch_and_evaluate pid=24600)\u001b[0m 32/32 - 1s - loss: 0.0695 - accuracy: 0.9810 - 891ms/epoch - 28ms/step\n"
          ]
        },
        {
          "name": "stderr",
          "output_type": "stream",
          "text": [
            "DEBUG flwr 2023-04-11 18:18:31,882 | server.py:179 | evaluate_round 6 received 10 results and 0 failures\n",
            "DEBUG flwr 2023-04-11 18:18:31,883 | server.py:215 | fit_round 7: strategy sampled 9 clients (out of 10)\n"
          ]
        },
        {
          "name": "stdout",
          "output_type": "stream",
          "text": [
            "\u001b[2m\u001b[36m(launch_and_evaluate pid=14996)\u001b[0m 32/32 - 1s - loss: 0.0764 - accuracy: 0.9720 - 960ms/epoch - 30ms/step\n",
            "\u001b[2m\u001b[36m(launch_and_evaluate pid=21640)\u001b[0m 32/32 - 1s - loss: 0.1137 - accuracy: 0.9670 - 952ms/epoch - 30ms/step\n",
            "\u001b[2m\u001b[36m(launch_and_evaluate pid=11692)\u001b[0m 32/32 - 1s - loss: 0.0768 - accuracy: 0.9760 - 1s/epoch - 31ms/step\n",
            "\u001b[2m\u001b[36m(launch_and_fit pid=16756)\u001b[0m 188/188 - 7s - loss: 0.0844 - accuracy: 0.9763 - 7s/epoch - 38ms/step\n",
            "\u001b[2m\u001b[36m(launch_and_fit pid=20360)\u001b[0m 188/188 - 7s - loss: 0.0841 - accuracy: 0.9763 - 7s/epoch - 39ms/step\n",
            "\u001b[2m\u001b[36m(launch_and_fit pid=21640)\u001b[0m 188/188 - 8s - loss: 0.0854 - accuracy: 0.9750 - 8s/epoch - 44ms/step\n",
            "\u001b[2m\u001b[36m(launch_and_fit pid=23604)\u001b[0m 188/188 - 9s - loss: 0.0856 - accuracy: 0.9740 - 9s/epoch - 46ms/step\n",
            "\u001b[2m\u001b[36m(launch_and_fit pid=14996)\u001b[0m 188/188 - 9s - loss: 0.0864 - accuracy: 0.9753 - 9s/epoch - 47ms/step\n",
            "\u001b[2m\u001b[36m(launch_and_fit pid=24600)\u001b[0m 188/188 - 9s - loss: 0.0938 - accuracy: 0.9708 - 9s/epoch - 50ms/step\n",
            "\u001b[2m\u001b[36m(launch_and_fit pid=17236)\u001b[0m 188/188 - 9s - loss: 0.0940 - accuracy: 0.9725 - 9s/epoch - 50ms/step\n",
            "\u001b[2m\u001b[36m(launch_and_fit pid=11692)\u001b[0m 188/188 - 10s - loss: 0.0993 - accuracy: 0.9723 - 10s/epoch - 51ms/step\n"
          ]
        },
        {
          "name": "stderr",
          "output_type": "stream",
          "text": [
            "DEBUG flwr 2023-04-11 18:18:42,701 | server.py:229 | fit_round 7 received 9 results and 0 failures\n",
            "DEBUG flwr 2023-04-11 18:18:42,751 | server.py:165 | evaluate_round 7: strategy sampled 10 clients (out of 10)\n"
          ]
        },
        {
          "name": "stdout",
          "output_type": "stream",
          "text": [
            "\u001b[2m\u001b[36m(launch_and_fit pid=21988)\u001b[0m 188/188 - 10s - loss: 0.0901 - accuracy: 0.9728 - 10s/epoch - 53ms/step\n",
            "\u001b[2m\u001b[36m(launch_and_evaluate pid=24600)\u001b[0m 32/32 - 1s - loss: 0.0697 - accuracy: 0.9750 - 619ms/epoch - 19ms/step\n",
            "\u001b[2m\u001b[36m(launch_and_evaluate pid=11692)\u001b[0m 32/32 - 1s - loss: 0.0660 - accuracy: 0.9820 - 643ms/epoch - 20ms/step\n",
            "\u001b[2m\u001b[36m(launch_and_evaluate pid=21988)\u001b[0m 32/32 - 1s - loss: 0.0664 - accuracy: 0.9750 - 696ms/epoch - 22ms/step\n",
            "\u001b[2m\u001b[36m(launch_and_evaluate pid=17236)\u001b[0m 32/32 - 1s - loss: 0.0596 - accuracy: 0.9820 - 721ms/epoch - 23ms/step\n"
          ]
        },
        {
          "name": "stderr",
          "output_type": "stream",
          "text": [
            "DEBUG flwr 2023-04-11 18:18:44,480 | server.py:179 | evaluate_round 7 received 10 results and 0 failures\n",
            "DEBUG flwr 2023-04-11 18:18:44,481 | server.py:215 | fit_round 8: strategy sampled 9 clients (out of 10)\n"
          ]
        },
        {
          "name": "stdout",
          "output_type": "stream",
          "text": [
            "\u001b[2m\u001b[36m(launch_and_evaluate pid=16756)\u001b[0m 32/32 - 1s - loss: 0.0654 - accuracy: 0.9790 - 821ms/epoch - 26ms/step\n",
            "\u001b[2m\u001b[36m(launch_and_evaluate pid=21640)\u001b[0m 32/32 - 1s - loss: 0.0539 - accuracy: 0.9840 - 760ms/epoch - 24ms/step\n",
            "\u001b[2m\u001b[36m(launch_and_evaluate pid=20360)\u001b[0m 32/32 - 1s - loss: 0.0577 - accuracy: 0.9810 - 831ms/epoch - 26ms/step\n",
            "\u001b[2m\u001b[36m(launch_and_evaluate pid=23604)\u001b[0m 32/32 - 1s - loss: 0.0587 - accuracy: 0.9800 - 874ms/epoch - 27ms/step\n",
            "\u001b[2m\u001b[36m(launch_and_evaluate pid=14996)\u001b[0m 32/32 - 1s - loss: 0.0751 - accuracy: 0.9790 - 881ms/epoch - 28ms/step\n",
            "\u001b[2m\u001b[36m(launch_and_evaluate pid=25216)\u001b[0m 32/32 - 1s - loss: 0.0696 - accuracy: 0.9770 - 863ms/epoch - 27ms/step\n",
            "\u001b[2m\u001b[36m(launch_and_fit pid=21640)\u001b[0m 188/188 - 7s - loss: 0.0830 - accuracy: 0.9737 - 7s/epoch - 36ms/step\n",
            "\u001b[2m\u001b[36m(launch_and_fit pid=11692)\u001b[0m 188/188 - 7s - loss: 0.0896 - accuracy: 0.9752 - 7s/epoch - 36ms/step\n",
            "\u001b[2m\u001b[36m(launch_and_fit pid=25216)\u001b[0m 188/188 - 7s - loss: 0.0824 - accuracy: 0.9768 - 7s/epoch - 38ms/step\n",
            "\u001b[2m\u001b[36m(launch_and_fit pid=14996)\u001b[0m 188/188 - 7s - loss: 0.0807 - accuracy: 0.9768 - 7s/epoch - 39ms/step\n",
            "\u001b[2m\u001b[36m(launch_and_fit pid=16756)\u001b[0m 188/188 - 8s - loss: 0.0755 - accuracy: 0.9772 - 8s/epoch - 40ms/step\n",
            "\u001b[2m\u001b[36m(launch_and_fit pid=20360)\u001b[0m 188/188 - 8s - loss: 0.0851 - accuracy: 0.9755 - 8s/epoch - 42ms/step\n",
            "\u001b[2m\u001b[36m(launch_and_fit pid=23604)\u001b[0m 188/188 - 8s - loss: 0.0815 - accuracy: 0.9770 - 8s/epoch - 43ms/step\n",
            "\u001b[2m\u001b[36m(launch_and_fit pid=17236)\u001b[0m 188/188 - 9s - loss: 0.0794 - accuracy: 0.9778 - 9s/epoch - 49ms/step\n",
            "\u001b[2m\u001b[36m(launch_and_fit pid=21988)\u001b[0m 188/188 - 9s - loss: 0.0850 - accuracy: 0.9765 - 9s/epoch - 49ms/step\n"
          ]
        },
        {
          "name": "stderr",
          "output_type": "stream",
          "text": [
            "DEBUG flwr 2023-04-11 18:18:57,256 | server.py:229 | fit_round 8 received 9 results and 0 failures\n",
            "DEBUG flwr 2023-04-11 18:18:57,290 | server.py:165 | evaluate_round 8: strategy sampled 10 clients (out of 10)\n",
            "DEBUG flwr 2023-04-11 18:18:58,930 | server.py:179 | evaluate_round 8 received 10 results and 0 failures\n"
          ]
        },
        {
          "name": "stdout",
          "output_type": "stream",
          "text": [
            "\u001b[2m\u001b[36m(launch_and_evaluate pid=16756)\u001b[0m 32/32 - 1s - loss: 0.0683 - accuracy: 0.9780 - 667ms/epoch - 21ms/step\n",
            "\u001b[2m\u001b[36m(launch_and_evaluate pid=20360)\u001b[0m 32/32 - 1s - loss: 0.0645 - accuracy: 0.9800 - 698ms/epoch - 22ms/step\n",
            "\u001b[2m\u001b[36m(launch_and_evaluate pid=14996)\u001b[0m 32/32 - 1s - loss: 0.0688 - accuracy: 0.9770 - 681ms/epoch - 21ms/step\n",
            "\u001b[2m\u001b[36m(launch_and_evaluate pid=21988)\u001b[0m 32/32 - 1s - loss: 0.0626 - accuracy: 0.9800 - 648ms/epoch - 20ms/step\n",
            "\u001b[2m\u001b[36m(launch_and_evaluate pid=17236)\u001b[0m 32/32 - 1s - loss: 0.0527 - accuracy: 0.9870 - 672ms/epoch - 21ms/step\n",
            "\u001b[2m\u001b[36m(launch_and_evaluate pid=23604)\u001b[0m 32/32 - 1s - loss: 0.0482 - accuracy: 0.9880 - 871ms/epoch - 27ms/step\n",
            "\u001b[2m\u001b[36m(launch_and_evaluate pid=21640)\u001b[0m 32/32 - 1s - loss: 0.0733 - accuracy: 0.9790 - 843ms/epoch - 26ms/step\n",
            "\u001b[2m\u001b[36m(launch_and_evaluate pid=25216)\u001b[0m 32/32 - 1s - loss: 0.0605 - accuracy: 0.9790 - 847ms/epoch - 26ms/step\n"
          ]
        },
        {
          "name": "stderr",
          "output_type": "stream",
          "text": [
            "DEBUG flwr 2023-04-11 18:18:58,932 | server.py:215 | fit_round 9: strategy sampled 9 clients (out of 10)\n"
          ]
        },
        {
          "name": "stdout",
          "output_type": "stream",
          "text": [
            "\u001b[2m\u001b[36m(launch_and_evaluate pid=24600)\u001b[0m 32/32 - 1s - loss: 0.0745 - accuracy: 0.9770 - 861ms/epoch - 27ms/step\n",
            "\u001b[2m\u001b[36m(launch_and_evaluate pid=11692)\u001b[0m 32/32 - 1s - loss: 0.0692 - accuracy: 0.9800 - 846ms/epoch - 26ms/step\n",
            "\u001b[2m\u001b[36m(launch_and_fit pid=23604)\u001b[0m 188/188 - 7s - loss: 0.0796 - accuracy: 0.9758 - 7s/epoch - 38ms/step\n",
            "\u001b[2m\u001b[36m(launch_and_fit pid=24600)\u001b[0m 188/188 - 8s - loss: 0.0707 - accuracy: 0.9802 - 8s/epoch - 41ms/step\n",
            "\u001b[2m\u001b[36m(launch_and_fit pid=21640)\u001b[0m 188/188 - 7s - loss: 0.0717 - accuracy: 0.9790 - 7s/epoch - 40ms/step\n",
            "\u001b[2m\u001b[36m(launch_and_fit pid=11692)\u001b[0m 188/188 - 8s - loss: 0.0773 - accuracy: 0.9773 - 8s/epoch - 42ms/step\n",
            "\u001b[2m\u001b[36m(launch_and_fit pid=25216)\u001b[0m 188/188 - 8s - loss: 0.0808 - accuracy: 0.9770 - 8s/epoch - 42ms/step\n",
            "\u001b[2m\u001b[36m(launch_and_fit pid=16756)\u001b[0m 188/188 - 9s - loss: 0.0715 - accuracy: 0.9775 - 9s/epoch - 46ms/step\n",
            "\u001b[2m\u001b[36m(launch_and_fit pid=20360)\u001b[0m 188/188 - 9s - loss: 0.0763 - accuracy: 0.9783 - 9s/epoch - 47ms/step\n",
            "\u001b[2m\u001b[36m(launch_and_fit pid=17236)\u001b[0m 188/188 - 9s - loss: 0.0726 - accuracy: 0.9793 - 9s/epoch - 47ms/step\n"
          ]
        },
        {
          "name": "stderr",
          "output_type": "stream",
          "text": [
            "DEBUG flwr 2023-04-11 18:19:08,710 | server.py:229 | fit_round 9 received 9 results and 0 failures\n",
            "DEBUG flwr 2023-04-11 18:19:08,758 | server.py:165 | evaluate_round 9: strategy sampled 10 clients (out of 10)\n"
          ]
        },
        {
          "name": "stdout",
          "output_type": "stream",
          "text": [
            "\u001b[2m\u001b[36m(launch_and_fit pid=14996)\u001b[0m 188/188 - 9s - loss: 0.0705 - accuracy: 0.9795 - 9s/epoch - 48ms/step\n",
            "\u001b[2m\u001b[36m(launch_and_evaluate pid=14996)\u001b[0m 32/32 - 1s - loss: 0.0581 - accuracy: 0.9840 - 641ms/epoch - 20ms/step\n",
            "\u001b[2m\u001b[36m(launch_and_evaluate pid=20360)\u001b[0m 32/32 - 1s - loss: 0.0557 - accuracy: 0.9860 - 677ms/epoch - 21ms/step\n"
          ]
        },
        {
          "name": "stderr",
          "output_type": "stream",
          "text": [
            "DEBUG flwr 2023-04-11 18:19:10,471 | server.py:179 | evaluate_round 9 received 10 results and 0 failures\n",
            "DEBUG flwr 2023-04-11 18:19:10,472 | server.py:215 | fit_round 10: strategy sampled 9 clients (out of 10)\n"
          ]
        },
        {
          "name": "stdout",
          "output_type": "stream",
          "text": [
            "\u001b[2m\u001b[36m(launch_and_evaluate pid=16756)\u001b[0m 32/32 - 1s - loss: 0.0569 - accuracy: 0.9840 - 850ms/epoch - 27ms/step\n",
            "\u001b[2m\u001b[36m(launch_and_evaluate pid=24600)\u001b[0m 32/32 - 1s - loss: 0.0731 - accuracy: 0.9760 - 786ms/epoch - 25ms/step\n",
            "\u001b[2m\u001b[36m(launch_and_evaluate pid=11692)\u001b[0m 32/32 - 1s - loss: 0.0516 - accuracy: 0.9830 - 891ms/epoch - 28ms/step\n",
            "\u001b[2m\u001b[36m(launch_and_evaluate pid=25216)\u001b[0m 32/32 - 1s - loss: 0.0585 - accuracy: 0.9820 - 785ms/epoch - 25ms/step\n",
            "\u001b[2m\u001b[36m(launch_and_evaluate pid=17236)\u001b[0m 32/32 - 1s - loss: 0.0575 - accuracy: 0.9820 - 897ms/epoch - 28ms/step\n",
            "\u001b[2m\u001b[36m(launch_and_evaluate pid=23604)\u001b[0m 32/32 - 1s - loss: 0.0583 - accuracy: 0.9820 - 949ms/epoch - 30ms/step\n",
            "\u001b[2m\u001b[36m(launch_and_evaluate pid=21988)\u001b[0m 32/32 - 1s - loss: 0.0662 - accuracy: 0.9830 - 976ms/epoch - 30ms/step\n",
            "\u001b[2m\u001b[36m(launch_and_evaluate pid=21640)\u001b[0m 32/32 - 1s - loss: 0.0519 - accuracy: 0.9860 - 885ms/epoch - 28ms/step\n",
            "\u001b[2m\u001b[36m(launch_and_fit pid=21988)\u001b[0m 188/188 - 7s - loss: 0.0720 - accuracy: 0.9782 - 7s/epoch - 36ms/step\n",
            "\u001b[2m\u001b[36m(launch_and_fit pid=11692)\u001b[0m 188/188 - 7s - loss: 0.0694 - accuracy: 0.9805 - 7s/epoch - 36ms/step\n",
            "\u001b[2m\u001b[36m(launch_and_fit pid=25216)\u001b[0m 188/188 - 7s - loss: 0.0660 - accuracy: 0.9793 - 7s/epoch - 37ms/step\n",
            "\u001b[2m\u001b[36m(launch_and_fit pid=17236)\u001b[0m 188/188 - 7s - loss: 0.0677 - accuracy: 0.9795 - 7s/epoch - 39ms/step\n",
            "\u001b[2m\u001b[36m(launch_and_fit pid=24600)\u001b[0m 188/188 - 7s - loss: 0.0718 - accuracy: 0.9765 - 7s/epoch - 39ms/step\n",
            "\u001b[2m\u001b[36m(launch_and_fit pid=21640)\u001b[0m 188/188 - 8s - loss: 0.0738 - accuracy: 0.9782 - 8s/epoch - 42ms/step\n",
            "\u001b[2m\u001b[36m(launch_and_fit pid=16756)\u001b[0m 188/188 - 8s - loss: 0.0762 - accuracy: 0.9773 - 8s/epoch - 43ms/step\n",
            "\u001b[2m\u001b[36m(launch_and_fit pid=23604)\u001b[0m 188/188 - 9s - loss: 0.0700 - accuracy: 0.9780 - 9s/epoch - 47ms/step\n"
          ]
        },
        {
          "name": "stderr",
          "output_type": "stream",
          "text": [
            "DEBUG flwr 2023-04-11 18:19:20,736 | server.py:229 | fit_round 10 received 9 results and 0 failures\n",
            "DEBUG flwr 2023-04-11 18:19:20,772 | server.py:165 | evaluate_round 10: strategy sampled 10 clients (out of 10)\n"
          ]
        },
        {
          "name": "stdout",
          "output_type": "stream",
          "text": [
            "\u001b[2m\u001b[36m(launch_and_fit pid=20360)\u001b[0m 188/188 - 9s - loss: 0.0610 - accuracy: 0.9828 - 9s/epoch - 49ms/step\n",
            "\u001b[2m\u001b[36m(launch_and_evaluate pid=20360)\u001b[0m 32/32 - 1s - loss: 0.0594 - accuracy: 0.9800 - 686ms/epoch - 21ms/step\n",
            "\u001b[2m\u001b[36m(launch_and_evaluate pid=23604)\u001b[0m 32/32 - 1s - loss: 0.0411 - accuracy: 0.9860 - 639ms/epoch - 20ms/step\n",
            "\u001b[2m\u001b[36m(launch_and_evaluate pid=21640)\u001b[0m 32/32 - 1s - loss: 0.0489 - accuracy: 0.9840 - 684ms/epoch - 21ms/step\n",
            "\u001b[2m\u001b[36m(launch_and_evaluate pid=25216)\u001b[0m 32/32 - 1s - loss: 0.0511 - accuracy: 0.9840 - 717ms/epoch - 22ms/step\n",
            "\u001b[2m\u001b[36m(launch_and_evaluate pid=14996)\u001b[0m 32/32 - 1s - loss: 0.0576 - accuracy: 0.9810 - 792ms/epoch - 25ms/step\n",
            "\u001b[2m\u001b[36m(launch_and_evaluate pid=24600)\u001b[0m 32/32 - 1s - loss: 0.0609 - accuracy: 0.9760 - 843ms/epoch - 26ms/step\n",
            "\u001b[2m\u001b[36m(launch_and_evaluate pid=11692)\u001b[0m 32/32 - 1s - loss: 0.0712 - accuracy: 0.9760 - 901ms/epoch - 28ms/step\n",
            "\u001b[2m\u001b[36m(launch_and_evaluate pid=17236)\u001b[0m 32/32 - 1s - loss: 0.0409 - accuracy: 0.9910 - 882ms/epoch - 28ms/step\n",
            "\u001b[2m\u001b[36m(launch_and_evaluate pid=21988)\u001b[0m 32/32 - 1s - loss: 0.0536 - accuracy: 0.9820 - 962ms/epoch - 30ms/step\n"
          ]
        },
        {
          "name": "stderr",
          "output_type": "stream",
          "text": [
            "DEBUG flwr 2023-04-11 18:19:22,951 | server.py:179 | evaluate_round 10 received 10 results and 0 failures\n",
            "DEBUG flwr 2023-04-11 18:19:22,952 | server.py:215 | fit_round 11: strategy sampled 9 clients (out of 10)\n"
          ]
        },
        {
          "name": "stdout",
          "output_type": "stream",
          "text": [
            "\u001b[2m\u001b[36m(launch_and_evaluate pid=16756)\u001b[0m 32/32 - 1s - loss: 0.0525 - accuracy: 0.9810 - 1s/epoch - 43ms/step\n",
            "\u001b[2m\u001b[36m(launch_and_fit pid=11692)\u001b[0m 188/188 - 7s - loss: 0.0581 - accuracy: 0.9848 - 7s/epoch - 36ms/step\n",
            "\u001b[2m\u001b[36m(launch_and_fit pid=14996)\u001b[0m 188/188 - 7s - loss: 0.0680 - accuracy: 0.9797 - 7s/epoch - 38ms/step\n",
            "\u001b[2m\u001b[36m(launch_and_fit pid=21988)\u001b[0m 188/188 - 7s - loss: 0.0590 - accuracy: 0.9802 - 7s/epoch - 38ms/step\n",
            "\u001b[2m\u001b[36m(launch_and_fit pid=24600)\u001b[0m 188/188 - 7s - loss: 0.0700 - accuracy: 0.9817 - 7s/epoch - 39ms/step\n",
            "\u001b[2m\u001b[36m(launch_and_fit pid=17236)\u001b[0m 188/188 - 7s - loss: 0.0615 - accuracy: 0.9820 - 7s/epoch - 40ms/step\n",
            "\u001b[2m\u001b[36m(launch_and_fit pid=20360)\u001b[0m 188/188 - 8s - loss: 0.0580 - accuracy: 0.9820 - 8s/epoch - 42ms/step\n",
            "\u001b[2m\u001b[36m(launch_and_fit pid=21640)\u001b[0m 188/188 - 8s - loss: 0.0638 - accuracy: 0.9815 - 8s/epoch - 42ms/step\n",
            "\u001b[2m\u001b[36m(launch_and_fit pid=25216)\u001b[0m 188/188 - 8s - loss: 0.0545 - accuracy: 0.9847 - 8s/epoch - 44ms/step\n"
          ]
        },
        {
          "name": "stderr",
          "output_type": "stream",
          "text": [
            "DEBUG flwr 2023-04-11 18:19:32,839 | server.py:229 | fit_round 11 received 9 results and 0 failures\n",
            "DEBUG flwr 2023-04-11 18:19:32,885 | server.py:165 | evaluate_round 11: strategy sampled 10 clients (out of 10)\n"
          ]
        },
        {
          "name": "stdout",
          "output_type": "stream",
          "text": [
            "\u001b[2m\u001b[36m(launch_and_fit pid=16756)\u001b[0m 188/188 - 9s - loss: 0.0637 - accuracy: 0.9812 - 9s/epoch - 48ms/step\n",
            "\u001b[2m\u001b[36m(launch_and_evaluate pid=16756)\u001b[0m 32/32 - 1s - loss: 0.0417 - accuracy: 0.9880 - 654ms/epoch - 20ms/step\n",
            "\u001b[2m\u001b[36m(launch_and_evaluate pid=20360)\u001b[0m 32/32 - 1s - loss: 0.0477 - accuracy: 0.9840 - 659ms/epoch - 21ms/step\n",
            "\u001b[2m\u001b[36m(launch_and_evaluate pid=21640)\u001b[0m 32/32 - 1s - loss: 0.0434 - accuracy: 0.9860 - 640ms/epoch - 20ms/step\n",
            "\u001b[2m\u001b[36m(launch_and_evaluate pid=25216)\u001b[0m 32/32 - 1s - loss: 0.0494 - accuracy: 0.9850 - 750ms/epoch - 23ms/step\n",
            "\u001b[2m\u001b[36m(launch_and_evaluate pid=17236)\u001b[0m 32/32 - 1s - loss: 0.0459 - accuracy: 0.9850 - 753ms/epoch - 24ms/step\n",
            "\u001b[2m\u001b[36m(launch_and_evaluate pid=24600)\u001b[0m 32/32 - 1s - loss: 0.0604 - accuracy: 0.9800 - 754ms/epoch - 24ms/step\n",
            "\u001b[2m\u001b[36m(launch_and_evaluate pid=14996)\u001b[0m 32/32 - 1s - loss: 0.0590 - accuracy: 0.9820 - 812ms/epoch - 25ms/step\n",
            "\u001b[2m\u001b[36m(launch_and_evaluate pid=21988)\u001b[0m 32/32 - 1s - loss: 0.0529 - accuracy: 0.9800 - 839ms/epoch - 26ms/step\n",
            "\u001b[2m\u001b[36m(launch_and_evaluate pid=23604)\u001b[0m 32/32 - 1s - loss: 0.0576 - accuracy: 0.9830 - 849ms/epoch - 27ms/step\n"
          ]
        },
        {
          "name": "stderr",
          "output_type": "stream",
          "text": [
            "DEBUG flwr 2023-04-11 18:19:34,822 | server.py:179 | evaluate_round 11 received 10 results and 0 failures\n",
            "DEBUG flwr 2023-04-11 18:19:34,823 | server.py:215 | fit_round 12: strategy sampled 9 clients (out of 10)\n"
          ]
        },
        {
          "name": "stdout",
          "output_type": "stream",
          "text": [
            "\u001b[2m\u001b[36m(launch_and_evaluate pid=11692)\u001b[0m 32/32 - 0s - loss: 0.0644 - accuracy: 0.9800 - 443ms/epoch - 14ms/step\n",
            "\u001b[2m\u001b[36m(launch_and_fit pid=24600)\u001b[0m 188/188 - 6s - loss: 0.0629 - accuracy: 0.9795 - 6s/epoch - 34ms/step\n",
            "\u001b[2m\u001b[36m(launch_and_fit pid=14996)\u001b[0m 188/188 - 7s - loss: 0.0563 - accuracy: 0.9823 - 7s/epoch - 35ms/step\n",
            "\u001b[2m\u001b[36m(launch_and_fit pid=23604)\u001b[0m 188/188 - 7s - loss: 0.0520 - accuracy: 0.9848 - 7s/epoch - 35ms/step\n",
            "\u001b[2m\u001b[36m(launch_and_fit pid=21988)\u001b[0m 188/188 - 7s - loss: 0.0590 - accuracy: 0.9822 - 7s/epoch - 35ms/step\n",
            "\u001b[2m\u001b[36m(launch_and_fit pid=11692)\u001b[0m 188/188 - 7s - loss: 0.0470 - accuracy: 0.9868 - 7s/epoch - 36ms/step\n",
            "\u001b[2m\u001b[36m(launch_and_fit pid=25216)\u001b[0m 188/188 - 7s - loss: 0.0541 - accuracy: 0.9833 - 7s/epoch - 37ms/step\n",
            "\u001b[2m\u001b[36m(launch_and_fit pid=20360)\u001b[0m 188/188 - 7s - loss: 0.0570 - accuracy: 0.9833 - 7s/epoch - 39ms/step\n"
          ]
        },
        {
          "name": "stderr",
          "output_type": "stream",
          "text": [
            "DEBUG flwr 2023-04-11 18:19:45,177 | server.py:229 | fit_round 12 received 9 results and 0 failures\n",
            "DEBUG flwr 2023-04-11 18:19:45,219 | server.py:165 | evaluate_round 12: strategy sampled 10 clients (out of 10)\n"
          ]
        },
        {
          "name": "stdout",
          "output_type": "stream",
          "text": [
            "\u001b[2m\u001b[36m(launch_and_fit pid=21640)\u001b[0m 188/188 - 10s - loss: 0.0568 - accuracy: 0.9825 - 10s/epoch - 51ms/step\n",
            "\u001b[2m\u001b[36m(launch_and_fit pid=17236)\u001b[0m 188/188 - 10s - loss: 0.0562 - accuracy: 0.9817 - 10s/epoch - 51ms/step\n",
            "\u001b[2m\u001b[36m(launch_and_evaluate pid=20360)\u001b[0m 32/32 - 1s - loss: 0.0645 - accuracy: 0.9780 - 650ms/epoch - 20ms/step\n",
            "\u001b[2m\u001b[36m(launch_and_evaluate pid=21640)\u001b[0m 32/32 - 1s - loss: 0.0460 - accuracy: 0.9870 - 658ms/epoch - 21ms/step\n",
            "\u001b[2m\u001b[36m(launch_and_evaluate pid=11692)\u001b[0m 32/32 - 1s - loss: 0.0622 - accuracy: 0.9810 - 689ms/epoch - 22ms/step\n",
            "\u001b[2m\u001b[36m(launch_and_evaluate pid=17236)\u001b[0m 32/32 - 1s - loss: 0.0631 - accuracy: 0.9790 - 628ms/epoch - 20ms/step\n",
            "\u001b[2m\u001b[36m(launch_and_evaluate pid=21988)\u001b[0m 32/32 - 1s - loss: 0.0489 - accuracy: 0.9840 - 750ms/epoch - 23ms/step\n",
            "\u001b[2m\u001b[36m(launch_and_evaluate pid=25216)\u001b[0m 32/32 - 1s - loss: 0.0619 - accuracy: 0.9810 - 765ms/epoch - 24ms/step\n",
            "\u001b[2m\u001b[36m(launch_and_evaluate pid=16756)\u001b[0m 32/32 - 1s - loss: 0.0861 - accuracy: 0.9700 - 730ms/epoch - 23ms/step\n"
          ]
        },
        {
          "name": "stderr",
          "output_type": "stream",
          "text": [
            "DEBUG flwr 2023-04-11 18:19:47,325 | server.py:179 | evaluate_round 12 received 10 results and 0 failures\n",
            "DEBUG flwr 2023-04-11 18:19:47,326 | server.py:215 | fit_round 13: strategy sampled 9 clients (out of 10)\n"
          ]
        },
        {
          "name": "stdout",
          "output_type": "stream",
          "text": [
            "\u001b[2m\u001b[36m(launch_and_evaluate pid=14996)\u001b[0m 32/32 - 1s - loss: 0.0457 - accuracy: 0.9850 - 1s/epoch - 38ms/step\n",
            "\u001b[2m\u001b[36m(launch_and_evaluate pid=23604)\u001b[0m 32/32 - 1s - loss: 0.0659 - accuracy: 0.9780 - 1s/epoch - 39ms/step\n",
            "\u001b[2m\u001b[36m(launch_and_evaluate pid=24600)\u001b[0m 32/32 - 1s - loss: 0.0533 - accuracy: 0.9830 - 1s/epoch - 37ms/step\n",
            "\u001b[2m\u001b[36m(launch_and_fit pid=16756)\u001b[0m 188/188 - 6s - loss: 0.0562 - accuracy: 0.9840 - 6s/epoch - 34ms/step\n",
            "\u001b[2m\u001b[36m(launch_and_fit pid=14996)\u001b[0m 188/188 - 7s - loss: 0.0564 - accuracy: 0.9817 - 7s/epoch - 35ms/step\n",
            "\u001b[2m\u001b[36m(launch_and_fit pid=24600)\u001b[0m 188/188 - 7s - loss: 0.0599 - accuracy: 0.9817 - 7s/epoch - 36ms/step\n",
            "\u001b[2m\u001b[36m(launch_and_fit pid=23604)\u001b[0m 188/188 - 7s - loss: 0.0551 - accuracy: 0.9843 - 7s/epoch - 36ms/step\n",
            "\u001b[2m\u001b[36m(launch_and_fit pid=11692)\u001b[0m 188/188 - 7s - loss: 0.0498 - accuracy: 0.9853 - 7s/epoch - 38ms/step\n",
            "\u001b[2m\u001b[36m(launch_and_fit pid=17236)\u001b[0m 188/188 - 7s - loss: 0.0500 - accuracy: 0.9862 - 7s/epoch - 40ms/step\n",
            "\u001b[2m\u001b[36m(launch_and_fit pid=25216)\u001b[0m 188/188 - 10s - loss: 0.0558 - accuracy: 0.9835 - 10s/epoch - 53ms/step\n",
            "\u001b[2m\u001b[36m(launch_and_fit pid=21988)\u001b[0m 188/188 - 10s - loss: 0.0533 - accuracy: 0.9845 - 10s/epoch - 54ms/step\n"
          ]
        },
        {
          "name": "stderr",
          "output_type": "stream",
          "text": [
            "DEBUG flwr 2023-04-11 18:19:58,262 | server.py:229 | fit_round 13 received 9 results and 0 failures\n",
            "DEBUG flwr 2023-04-11 18:19:58,310 | server.py:165 | evaluate_round 13: strategy sampled 10 clients (out of 10)\n"
          ]
        },
        {
          "name": "stdout",
          "output_type": "stream",
          "text": [
            "\u001b[2m\u001b[36m(launch_and_fit pid=20360)\u001b[0m 188/188 - 10s - loss: 0.0544 - accuracy: 0.9845 - 10s/epoch - 54ms/step\n"
          ]
        },
        {
          "name": "stderr",
          "output_type": "stream",
          "text": [
            "DEBUG flwr 2023-04-11 18:20:00,130 | server.py:179 | evaluate_round 13 received 10 results and 0 failures\n"
          ]
        },
        {
          "name": "stdout",
          "output_type": "stream",
          "text": [
            "\u001b[2m\u001b[36m(launch_and_evaluate pid=20360)\u001b[0m 32/32 - 1s - loss: 0.0493 - accuracy: 0.9840 - 863ms/epoch - 27ms/step\n",
            "\u001b[2m\u001b[36m(launch_and_evaluate pid=21988)\u001b[0m 32/32 - 1s - loss: 0.0557 - accuracy: 0.9840 - 842ms/epoch - 26ms/step\n",
            "\u001b[2m\u001b[36m(launch_and_evaluate pid=24600)\u001b[0m 32/32 - 1s - loss: 0.0417 - accuracy: 0.9840 - 740ms/epoch - 23ms/step\n",
            "\u001b[2m\u001b[36m(launch_and_evaluate pid=11692)\u001b[0m 32/32 - 1s - loss: 0.0473 - accuracy: 0.9860 - 809ms/epoch - 25ms/step\n",
            "\u001b[2m\u001b[36m(launch_and_evaluate pid=17236)\u001b[0m 32/32 - 1s - loss: 0.0574 - accuracy: 0.9790 - 831ms/epoch - 26ms/step\n",
            "\u001b[2m\u001b[36m(launch_and_evaluate pid=23604)\u001b[0m 32/32 - 1s - loss: 0.0385 - accuracy: 0.9890 - 933ms/epoch - 29ms/step\n",
            "\u001b[2m\u001b[36m(launch_and_evaluate pid=25216)\u001b[0m 32/32 - 1s - loss: 0.0658 - accuracy: 0.9760 - 956ms/epoch - 30ms/step\n",
            "\u001b[2m\u001b[36m(launch_and_evaluate pid=21640)\u001b[0m 32/32 - 1s - loss: 0.0404 - accuracy: 0.9880 - 919ms/epoch - 29ms/step\n"
          ]
        },
        {
          "name": "stderr",
          "output_type": "stream",
          "text": [
            "DEBUG flwr 2023-04-11 18:20:00,131 | server.py:215 | fit_round 14: strategy sampled 9 clients (out of 10)\n"
          ]
        },
        {
          "name": "stdout",
          "output_type": "stream",
          "text": [
            "\u001b[2m\u001b[36m(launch_and_evaluate pid=16756)\u001b[0m 32/32 - 1s - loss: 0.0621 - accuracy: 0.9810 - 1s/epoch - 31ms/step\n",
            "\u001b[2m\u001b[36m(launch_and_evaluate pid=14996)\u001b[0m 32/32 - 1s - loss: 0.0661 - accuracy: 0.9780 - 1s/epoch - 32ms/step\n",
            "\u001b[2m\u001b[36m(launch_and_fit pid=21640)\u001b[0m 188/188 - 8s - loss: 0.0545 - accuracy: 0.9817 - 8s/epoch - 40ms/step\n",
            "\u001b[2m\u001b[36m(launch_and_fit pid=16756)\u001b[0m 188/188 - 8s - loss: 0.0436 - accuracy: 0.9857 - 8s/epoch - 42ms/step\n",
            "\u001b[2m\u001b[36m(launch_and_fit pid=20360)\u001b[0m 188/188 - 8s - loss: 0.0481 - accuracy: 0.9853 - 8s/epoch - 44ms/step\n",
            "\u001b[2m\u001b[36m(launch_and_fit pid=14996)\u001b[0m 188/188 - 8s - loss: 0.0596 - accuracy: 0.9830 - 8s/epoch - 43ms/step\n",
            "\u001b[2m\u001b[36m(launch_and_fit pid=23604)\u001b[0m 188/188 - 9s - loss: 0.0451 - accuracy: 0.9867 - 9s/epoch - 46ms/step\n",
            "\u001b[2m\u001b[36m(launch_and_fit pid=11692)\u001b[0m 188/188 - 9s - loss: 0.0476 - accuracy: 0.9867 - 9s/epoch - 46ms/step\n",
            "\u001b[2m\u001b[36m(launch_and_fit pid=25216)\u001b[0m 188/188 - 9s - loss: 0.0477 - accuracy: 0.9872 - 9s/epoch - 48ms/step\n"
          ]
        },
        {
          "name": "stderr",
          "output_type": "stream",
          "text": [
            "DEBUG flwr 2023-04-11 18:20:10,711 | server.py:229 | fit_round 14 received 9 results and 0 failures\n",
            "DEBUG flwr 2023-04-11 18:20:10,763 | server.py:165 | evaluate_round 14: strategy sampled 10 clients (out of 10)\n"
          ]
        },
        {
          "name": "stdout",
          "output_type": "stream",
          "text": [
            "\u001b[2m\u001b[36m(launch_and_fit pid=17236)\u001b[0m 188/188 - 10s - loss: 0.0521 - accuracy: 0.9842 - 10s/epoch - 51ms/step\n",
            "\u001b[2m\u001b[36m(launch_and_fit pid=21988)\u001b[0m 188/188 - 10s - loss: 0.0612 - accuracy: 0.9825 - 10s/epoch - 52ms/step\n",
            "\u001b[2m\u001b[36m(launch_and_evaluate pid=20360)\u001b[0m 32/32 - 1s - loss: 0.0556 - accuracy: 0.9800 - 724ms/epoch - 23ms/step\n",
            "\u001b[2m\u001b[36m(launch_and_evaluate pid=17236)\u001b[0m 32/32 - 1s - loss: 0.0488 - accuracy: 0.9800 - 642ms/epoch - 20ms/step\n",
            "\u001b[2m\u001b[36m(launch_and_evaluate pid=14996)\u001b[0m 32/32 - 1s - loss: 0.0500 - accuracy: 0.9810 - 725ms/epoch - 23ms/step\n",
            "\u001b[2m\u001b[36m(launch_and_evaluate pid=23604)\u001b[0m 32/32 - 1s - loss: 0.0470 - accuracy: 0.9840 - 826ms/epoch - 26ms/step\n",
            "\u001b[2m\u001b[36m(launch_and_evaluate pid=21640)\u001b[0m 32/32 - 1s - loss: 0.0529 - accuracy: 0.9810 - 821ms/epoch - 26ms/step\n"
          ]
        },
        {
          "name": "stderr",
          "output_type": "stream",
          "text": [
            "DEBUG flwr 2023-04-11 18:20:12,757 | server.py:179 | evaluate_round 14 received 10 results and 0 failures\n",
            "DEBUG flwr 2023-04-11 18:20:12,758 | server.py:215 | fit_round 15: strategy sampled 9 clients (out of 10)\n"
          ]
        },
        {
          "name": "stdout",
          "output_type": "stream",
          "text": [
            "\u001b[2m\u001b[36m(launch_and_evaluate pid=16756)\u001b[0m 32/32 - 1s - loss: 0.0505 - accuracy: 0.9830 - 959ms/epoch - 30ms/step\n",
            "\u001b[2m\u001b[36m(launch_and_evaluate pid=11692)\u001b[0m 32/32 - 1s - loss: 0.0550 - accuracy: 0.9810 - 876ms/epoch - 27ms/step\n",
            "\u001b[2m\u001b[36m(launch_and_evaluate pid=25216)\u001b[0m 32/32 - 1s - loss: 0.0394 - accuracy: 0.9880 - 984ms/epoch - 31ms/step\n",
            "\u001b[2m\u001b[36m(launch_and_evaluate pid=21988)\u001b[0m 32/32 - 1s - loss: 0.0636 - accuracy: 0.9830 - 1s/epoch - 34ms/step\n",
            "\u001b[2m\u001b[36m(launch_and_evaluate pid=24600)\u001b[0m 32/32 - 1s - loss: 0.0654 - accuracy: 0.9800 - 982ms/epoch - 31ms/step\n",
            "\u001b[2m\u001b[36m(launch_and_fit pid=16756)\u001b[0m 188/188 - 8s - loss: 0.0564 - accuracy: 0.9840 - 8s/epoch - 41ms/step\n",
            "\u001b[2m\u001b[36m(launch_and_fit pid=24600)\u001b[0m 188/188 - 8s - loss: 0.0505 - accuracy: 0.9858 - 8s/epoch - 42ms/step\n",
            "\u001b[2m\u001b[36m(launch_and_fit pid=11692)\u001b[0m 188/188 - 8s - loss: 0.0532 - accuracy: 0.9845 - 8s/epoch - 44ms/step\n",
            "\u001b[2m\u001b[36m(launch_and_fit pid=14996)\u001b[0m 188/188 - 8s - loss: 0.0530 - accuracy: 0.9837 - 8s/epoch - 45ms/step\n",
            "\u001b[2m\u001b[36m(launch_and_fit pid=21988)\u001b[0m 188/188 - 9s - loss: 0.0478 - accuracy: 0.9867 - 9s/epoch - 45ms/step\n",
            "\u001b[2m\u001b[36m(launch_and_fit pid=23604)\u001b[0m 188/188 - 9s - loss: 0.0517 - accuracy: 0.9843 - 9s/epoch - 48ms/step\n",
            "\u001b[2m\u001b[36m(launch_and_fit pid=25216)\u001b[0m 188/188 - 9s - loss: 0.0468 - accuracy: 0.9862 - 9s/epoch - 48ms/step\n",
            "\u001b[2m\u001b[36m(launch_and_fit pid=20360)\u001b[0m 188/188 - 9s - loss: 0.0515 - accuracy: 0.9833 - 9s/epoch - 49ms/step\n",
            "\u001b[2m\u001b[36m(launch_and_fit pid=21640)\u001b[0m 188/188 - 9s - loss: 0.0501 - accuracy: 0.9872 - 9s/epoch - 49ms/step\n"
          ]
        },
        {
          "name": "stderr",
          "output_type": "stream",
          "text": [
            "DEBUG flwr 2023-04-11 18:20:25,670 | server.py:229 | fit_round 15 received 9 results and 0 failures\n",
            "DEBUG flwr 2023-04-11 18:20:25,712 | server.py:165 | evaluate_round 15: strategy sampled 10 clients (out of 10)\n"
          ]
        },
        {
          "name": "stdout",
          "output_type": "stream",
          "text": [
            "\u001b[2m\u001b[36m(launch_and_evaluate pid=20360)\u001b[0m 32/32 - 1s - loss: 0.0362 - accuracy: 0.9890 - 778ms/epoch - 24ms/step\n",
            "\u001b[2m\u001b[36m(launch_and_evaluate pid=21988)\u001b[0m 32/32 - 1s - loss: 0.0526 - accuracy: 0.9780 - 798ms/epoch - 25ms/step\n",
            "\u001b[2m\u001b[36m(launch_and_evaluate pid=25216)\u001b[0m 32/32 - 1s - loss: 0.0414 - accuracy: 0.9880 - 865ms/epoch - 27ms/step\n",
            "\u001b[2m\u001b[36m(launch_and_evaluate pid=16756)\u001b[0m 32/32 - 1s - loss: 0.0480 - accuracy: 0.9870 - 940ms/epoch - 29ms/step\n",
            "\u001b[2m\u001b[36m(launch_and_evaluate pid=14996)\u001b[0m 32/32 - 1s - loss: 0.0439 - accuracy: 0.9870 - 866ms/epoch - 27ms/step\n",
            "\u001b[2m\u001b[36m(launch_and_evaluate pid=21640)\u001b[0m 32/32 - 1s - loss: 0.0485 - accuracy: 0.9840 - 968ms/epoch - 30ms/step\n",
            "\u001b[2m\u001b[36m(launch_and_evaluate pid=11692)\u001b[0m 32/32 - 1s - loss: 0.0551 - accuracy: 0.9810 - 875ms/epoch - 27ms/step\n"
          ]
        },
        {
          "name": "stderr",
          "output_type": "stream",
          "text": [
            "DEBUG flwr 2023-04-11 18:20:27,562 | server.py:179 | evaluate_round 15 received 10 results and 0 failures\n",
            "DEBUG flwr 2023-04-11 18:20:27,564 | server.py:215 | fit_round 16: strategy sampled 9 clients (out of 10)\n"
          ]
        },
        {
          "name": "stdout",
          "output_type": "stream",
          "text": [
            "\u001b[2m\u001b[36m(launch_and_evaluate pid=23604)\u001b[0m 32/32 - 1s - loss: 0.0195 - accuracy: 0.9950 - 1s/epoch - 32ms/step\n",
            "\u001b[2m\u001b[36m(launch_and_evaluate pid=24600)\u001b[0m 32/32 - 1s - loss: 0.0496 - accuracy: 0.9830 - 1s/epoch - 32ms/step\n",
            "\u001b[2m\u001b[36m(launch_and_evaluate pid=17236)\u001b[0m 32/32 - 1s - loss: 0.0399 - accuracy: 0.9870 - 974ms/epoch - 30ms/step\n",
            "\u001b[2m\u001b[36m(launch_and_fit pid=11692)\u001b[0m 188/188 - 8s - loss: 0.0468 - accuracy: 0.9865 - 8s/epoch - 41ms/step\n",
            "\u001b[2m\u001b[36m(launch_and_fit pid=17236)\u001b[0m 188/188 - 8s - loss: 0.0456 - accuracy: 0.9830 - 8s/epoch - 43ms/step\n",
            "\u001b[2m\u001b[36m(launch_and_fit pid=16756)\u001b[0m 188/188 - 9s - loss: 0.0514 - accuracy: 0.9843 - 9s/epoch - 45ms/step\n",
            "\u001b[2m\u001b[36m(launch_and_fit pid=14996)\u001b[0m 188/188 - 8s - loss: 0.0472 - accuracy: 0.9847 - 8s/epoch - 45ms/step\n",
            "\u001b[2m\u001b[36m(launch_and_fit pid=23604)\u001b[0m 188/188 - 9s - loss: 0.0417 - accuracy: 0.9883 - 9s/epoch - 46ms/step\n",
            "\u001b[2m\u001b[36m(launch_and_fit pid=24600)\u001b[0m 188/188 - 9s - loss: 0.0439 - accuracy: 0.9880 - 9s/epoch - 46ms/step\n",
            "\u001b[2m\u001b[36m(launch_and_fit pid=21640)\u001b[0m 188/188 - 9s - loss: 0.0492 - accuracy: 0.9858 - 9s/epoch - 46ms/step\n",
            "\u001b[2m\u001b[36m(launch_and_fit pid=25216)\u001b[0m 188/188 - 9s - loss: 0.0427 - accuracy: 0.9873 - 9s/epoch - 47ms/step\n"
          ]
        },
        {
          "name": "stderr",
          "output_type": "stream",
          "text": [
            "DEBUG flwr 2023-04-11 18:20:37,751 | server.py:229 | fit_round 16 received 9 results and 0 failures\n",
            "DEBUG flwr 2023-04-11 18:20:37,800 | server.py:165 | evaluate_round 16: strategy sampled 10 clients (out of 10)\n"
          ]
        },
        {
          "name": "stdout",
          "output_type": "stream",
          "text": [
            "\u001b[2m\u001b[36m(launch_and_fit pid=20360)\u001b[0m 188/188 - 9s - loss: 0.0491 - accuracy: 0.9855 - 9s/epoch - 50ms/step\n",
            "\u001b[2m\u001b[36m(launch_and_evaluate pid=20360)\u001b[0m 32/32 - 1s - loss: 0.0487 - accuracy: 0.9830 - 771ms/epoch - 24ms/step\n",
            "\u001b[2m\u001b[36m(launch_and_evaluate pid=23604)\u001b[0m 32/32 - 1s - loss: 0.0353 - accuracy: 0.9890 - 739ms/epoch - 23ms/step\n",
            "\u001b[2m\u001b[36m(launch_and_evaluate pid=21640)\u001b[0m 32/32 - 1s - loss: 0.0376 - accuracy: 0.9870 - 710ms/epoch - 22ms/step\n",
            "\u001b[2m\u001b[36m(launch_and_evaluate pid=25216)\u001b[0m 32/32 - 1s - loss: 0.0512 - accuracy: 0.9850 - 725ms/epoch - 23ms/step\n",
            "\u001b[2m\u001b[36m(launch_and_evaluate pid=16756)\u001b[0m 32/32 - 1s - loss: 0.0528 - accuracy: 0.9780 - 866ms/epoch - 27ms/step\n",
            "\u001b[2m\u001b[36m(launch_and_evaluate pid=24600)\u001b[0m 32/32 - 1s - loss: 0.0282 - accuracy: 0.9910 - 910ms/epoch - 28ms/step\n",
            "\u001b[2m\u001b[36m(launch_and_evaluate pid=11692)\u001b[0m 32/32 - 1s - loss: 0.0493 - accuracy: 0.9870 - 804ms/epoch - 25ms/step\n",
            "\u001b[2m\u001b[36m(launch_and_evaluate pid=17236)\u001b[0m 32/32 - 1s - loss: 0.0635 - accuracy: 0.9770 - 897ms/epoch - 28ms/step\n"
          ]
        },
        {
          "name": "stderr",
          "output_type": "stream",
          "text": [
            "DEBUG flwr 2023-04-11 18:20:39,571 | server.py:179 | evaluate_round 16 received 10 results and 0 failures\n",
            "DEBUG flwr 2023-04-11 18:20:39,573 | server.py:215 | fit_round 17: strategy sampled 9 clients (out of 10)\n"
          ]
        },
        {
          "name": "stdout",
          "output_type": "stream",
          "text": [
            "\u001b[2m\u001b[36m(launch_and_evaluate pid=14996)\u001b[0m 32/32 - 1s - loss: 0.0611 - accuracy: 0.9810 - 961ms/epoch - 30ms/step\n",
            "\u001b[2m\u001b[36m(launch_and_evaluate pid=21988)\u001b[0m 32/32 - 1s - loss: 0.0507 - accuracy: 0.9850 - 904ms/epoch - 28ms/step\n",
            "\u001b[2m\u001b[36m(launch_and_fit pid=14996)\u001b[0m 188/188 - 9s - loss: 0.0391 - accuracy: 0.9890 - 9s/epoch - 46ms/step\n",
            "\u001b[2m\u001b[36m(launch_and_fit pid=17236)\u001b[0m 188/188 - 9s - loss: 0.0429 - accuracy: 0.9885 - 9s/epoch - 46ms/step\n",
            "\u001b[2m\u001b[36m(launch_and_fit pid=20360)\u001b[0m 188/188 - 9s - loss: 0.0444 - accuracy: 0.9858 - 9s/epoch - 48ms/step\n",
            "\u001b[2m\u001b[36m(launch_and_fit pid=11692)\u001b[0m 188/188 - 9s - loss: 0.0461 - accuracy: 0.9870 - 9s/epoch - 49ms/step\n",
            "\u001b[2m\u001b[36m(launch_and_fit pid=21988)\u001b[0m 188/188 - 9s - loss: 0.0421 - accuracy: 0.9880 - 9s/epoch - 49ms/step\n",
            "\u001b[2m\u001b[36m(launch_and_fit pid=24600)\u001b[0m 188/188 - 9s - loss: 0.0462 - accuracy: 0.9863 - 9s/epoch - 50ms/step\n",
            "\u001b[2m\u001b[36m(launch_and_fit pid=25216)\u001b[0m 188/188 - 9s - loss: 0.0358 - accuracy: 0.9895 - 9s/epoch - 50ms/step\n",
            "\u001b[2m\u001b[36m(launch_and_fit pid=16756)\u001b[0m 188/188 - 10s - loss: 0.0480 - accuracy: 0.9855 - 10s/epoch - 52ms/step\n",
            "\u001b[2m\u001b[36m(launch_and_fit pid=23604)\u001b[0m 188/188 - 10s - loss: 0.0495 - accuracy: 0.9878 - 10s/epoch - 52ms/step\n"
          ]
        },
        {
          "name": "stderr",
          "output_type": "stream",
          "text": [
            "DEBUG flwr 2023-04-11 18:20:52,676 | server.py:229 | fit_round 17 received 9 results and 0 failures\n",
            "DEBUG flwr 2023-04-11 18:20:52,720 | server.py:165 | evaluate_round 17: strategy sampled 10 clients (out of 10)\n"
          ]
        },
        {
          "name": "stdout",
          "output_type": "stream",
          "text": [
            "\u001b[2m\u001b[36m(launch_and_evaluate pid=16756)\u001b[0m 32/32 - 1s - loss: 0.0305 - accuracy: 0.9900 - 698ms/epoch - 22ms/step\n",
            "\u001b[2m\u001b[36m(launch_and_evaluate pid=20360)\u001b[0m 32/32 - 1s - loss: 0.0406 - accuracy: 0.9870 - 702ms/epoch - 22ms/step\n",
            "\u001b[2m\u001b[36m(launch_and_evaluate pid=23604)\u001b[0m 32/32 - 1s - loss: 0.0492 - accuracy: 0.9850 - 775ms/epoch - 24ms/step\n",
            "\u001b[2m\u001b[36m(launch_and_evaluate pid=11692)\u001b[0m 32/32 - 1s - loss: 0.0487 - accuracy: 0.9880 - 719ms/epoch - 22ms/step\n",
            "\u001b[2m\u001b[36m(launch_and_evaluate pid=25216)\u001b[0m 32/32 - 1s - loss: 0.0439 - accuracy: 0.9850 - 780ms/epoch - 24ms/step\n",
            "\u001b[2m\u001b[36m(launch_and_evaluate pid=17236)\u001b[0m 32/32 - 1s - loss: 0.0541 - accuracy: 0.9790 - 738ms/epoch - 23ms/step\n"
          ]
        },
        {
          "name": "stderr",
          "output_type": "stream",
          "text": [
            "DEBUG flwr 2023-04-11 18:20:54,522 | server.py:179 | evaluate_round 17 received 10 results and 0 failures\n",
            "DEBUG flwr 2023-04-11 18:20:54,524 | server.py:215 | fit_round 18: strategy sampled 9 clients (out of 10)\n"
          ]
        },
        {
          "name": "stdout",
          "output_type": "stream",
          "text": [
            "\u001b[2m\u001b[36m(launch_and_evaluate pid=21988)\u001b[0m 32/32 - 1s - loss: 0.0364 - accuracy: 0.9850 - 886ms/epoch - 28ms/step\n",
            "\u001b[2m\u001b[36m(launch_and_evaluate pid=24600)\u001b[0m 32/32 - 1s - loss: 0.0471 - accuracy: 0.9820 - 876ms/epoch - 27ms/step\n",
            "\u001b[2m\u001b[36m(launch_and_evaluate pid=21640)\u001b[0m 32/32 - 1s - loss: 0.0388 - accuracy: 0.9890 - 832ms/epoch - 26ms/step\n",
            "\u001b[2m\u001b[36m(launch_and_evaluate pid=14996)\u001b[0m 32/32 - 1s - loss: 0.0491 - accuracy: 0.9840 - 869ms/epoch - 27ms/step\n",
            "\u001b[2m\u001b[36m(launch_and_fit pid=24600)\u001b[0m 188/188 - 8s - loss: 0.0423 - accuracy: 0.9865 - 8s/epoch - 42ms/step\n",
            "\u001b[2m\u001b[36m(launch_and_fit pid=25216)\u001b[0m 188/188 - 8s - loss: 0.0416 - accuracy: 0.9870 - 8s/epoch - 40ms/step\n",
            "\u001b[2m\u001b[36m(launch_and_fit pid=17236)\u001b[0m 188/188 - 8s - loss: 0.0426 - accuracy: 0.9867 - 8s/epoch - 44ms/step\n",
            "\u001b[2m\u001b[36m(launch_and_fit pid=14996)\u001b[0m 188/188 - 9s - loss: 0.0345 - accuracy: 0.9890 - 9s/epoch - 46ms/step\n",
            "\u001b[2m\u001b[36m(launch_and_fit pid=21988)\u001b[0m 188/188 - 9s - loss: 0.0367 - accuracy: 0.9893 - 9s/epoch - 46ms/step\n"
          ]
        },
        {
          "name": "stderr",
          "output_type": "stream",
          "text": [
            "DEBUG flwr 2023-04-11 18:21:04,631 | server.py:229 | fit_round 18 received 9 results and 0 failures\n",
            "DEBUG flwr 2023-04-11 18:21:04,682 | server.py:165 | evaluate_round 18: strategy sampled 10 clients (out of 10)\n"
          ]
        },
        {
          "name": "stdout",
          "output_type": "stream",
          "text": [
            "\u001b[2m\u001b[36m(launch_and_fit pid=20360)\u001b[0m 188/188 - 9s - loss: 0.0358 - accuracy: 0.9883 - 9s/epoch - 48ms/step\n",
            "\u001b[2m\u001b[36m(launch_and_fit pid=21640)\u001b[0m 188/188 - 9s - loss: 0.0388 - accuracy: 0.9893 - 9s/epoch - 48ms/step\n",
            "\u001b[2m\u001b[36m(launch_and_fit pid=11692)\u001b[0m 188/188 - 9s - loss: 0.0399 - accuracy: 0.9888 - 9s/epoch - 49ms/step\n",
            "\u001b[2m\u001b[36m(launch_and_fit pid=23604)\u001b[0m 188/188 - 9s - loss: 0.0352 - accuracy: 0.9888 - 9s/epoch - 50ms/step\n",
            "\u001b[2m\u001b[36m(launch_and_evaluate pid=20360)\u001b[0m 32/32 - 1s - loss: 0.0513 - accuracy: 0.9820 - 674ms/epoch - 21ms/step\n",
            "\u001b[2m\u001b[36m(launch_and_evaluate pid=23604)\u001b[0m 32/32 - 1s - loss: 0.0523 - accuracy: 0.9860 - 644ms/epoch - 20ms/step\n",
            "\u001b[2m\u001b[36m(launch_and_evaluate pid=21988)\u001b[0m 32/32 - 1s - loss: 0.0702 - accuracy: 0.9780 - 779ms/epoch - 24ms/step\n",
            "\u001b[2m\u001b[36m(launch_and_evaluate pid=11692)\u001b[0m 32/32 - 1s - loss: 0.0495 - accuracy: 0.9840 - 774ms/epoch - 24ms/step\n"
          ]
        },
        {
          "name": "stderr",
          "output_type": "stream",
          "text": [
            "DEBUG flwr 2023-04-11 18:21:06,505 | server.py:179 | evaluate_round 18 received 10 results and 0 failures\n",
            "DEBUG flwr 2023-04-11 18:21:06,508 | server.py:215 | fit_round 19: strategy sampled 9 clients (out of 10)\n"
          ]
        },
        {
          "name": "stdout",
          "output_type": "stream",
          "text": [
            "\u001b[2m\u001b[36m(launch_and_evaluate pid=14996)\u001b[0m 32/32 - 1s - loss: 0.0419 - accuracy: 0.9850 - 913ms/epoch - 29ms/step\n",
            "\u001b[2m\u001b[36m(launch_and_evaluate pid=21640)\u001b[0m 32/32 - 1s - loss: 0.0499 - accuracy: 0.9840 - 882ms/epoch - 28ms/step\n",
            "\u001b[2m\u001b[36m(launch_and_evaluate pid=17236)\u001b[0m 32/32 - 1s - loss: 0.0525 - accuracy: 0.9810 - 891ms/epoch - 28ms/step\n",
            "\u001b[2m\u001b[36m(launch_and_evaluate pid=16756)\u001b[0m 32/32 - 1s - loss: 0.0402 - accuracy: 0.9860 - 938ms/epoch - 29ms/step\n",
            "\u001b[2m\u001b[36m(launch_and_evaluate pid=24600)\u001b[0m 32/32 - 1s - loss: 0.0462 - accuracy: 0.9840 - 1s/epoch - 32ms/step\n",
            "\u001b[2m\u001b[36m(launch_and_evaluate pid=25216)\u001b[0m 32/32 - 1s - loss: 0.0367 - accuracy: 0.9890 - 974ms/epoch - 30ms/step\n",
            "\u001b[2m\u001b[36m(launch_and_fit pid=16756)\u001b[0m 188/188 - 8s - loss: 0.0401 - accuracy: 0.9873 - 8s/epoch - 41ms/step\n",
            "\u001b[2m\u001b[36m(launch_and_fit pid=24600)\u001b[0m 188/188 - 8s - loss: 0.0333 - accuracy: 0.9893 - 8s/epoch - 42ms/step\n",
            "\u001b[2m\u001b[36m(launch_and_fit pid=25216)\u001b[0m 188/188 - 8s - loss: 0.0355 - accuracy: 0.9898 - 8s/epoch - 43ms/step\n",
            "\u001b[2m\u001b[36m(launch_and_fit pid=17236)\u001b[0m 188/188 - 8s - loss: 0.0375 - accuracy: 0.9898 - 8s/epoch - 44ms/step\n",
            "\u001b[2m\u001b[36m(launch_and_fit pid=14996)\u001b[0m 188/188 - 9s - loss: 0.0352 - accuracy: 0.9890 - 9s/epoch - 47ms/step\n",
            "\u001b[2m\u001b[36m(launch_and_fit pid=21988)\u001b[0m 188/188 - 9s - loss: 0.0330 - accuracy: 0.9893 - 9s/epoch - 47ms/step\n",
            "\u001b[2m\u001b[36m(launch_and_fit pid=20360)\u001b[0m 188/188 - 9s - loss: 0.0404 - accuracy: 0.9877 - 9s/epoch - 48ms/step\n"
          ]
        },
        {
          "name": "stderr",
          "output_type": "stream",
          "text": [
            "DEBUG flwr 2023-04-11 18:21:16,581 | server.py:229 | fit_round 19 received 9 results and 0 failures\n",
            "DEBUG flwr 2023-04-11 18:21:16,637 | server.py:165 | evaluate_round 19: strategy sampled 10 clients (out of 10)\n"
          ]
        },
        {
          "name": "stdout",
          "output_type": "stream",
          "text": [
            "\u001b[2m\u001b[36m(launch_and_fit pid=21640)\u001b[0m 188/188 - 9s - loss: 0.0372 - accuracy: 0.9882 - 9s/epoch - 49ms/step\n",
            "\u001b[2m\u001b[36m(launch_and_fit pid=11692)\u001b[0m 188/188 - 9s - loss: 0.0356 - accuracy: 0.9897 - 9s/epoch - 49ms/step\n",
            "\u001b[2m\u001b[36m(launch_and_evaluate pid=11692)\u001b[0m 32/32 - 1s - loss: 0.0342 - accuracy: 0.9880 - 637ms/epoch - 20ms/step\n",
            "\u001b[2m\u001b[36m(launch_and_evaluate pid=20360)\u001b[0m 32/32 - 1s - loss: 0.0460 - accuracy: 0.9840 - 677ms/epoch - 21ms/step\n",
            "\u001b[2m\u001b[36m(launch_and_evaluate pid=14996)\u001b[0m 32/32 - 1s - loss: 0.0387 - accuracy: 0.9890 - 748ms/epoch - 23ms/step\n",
            "\u001b[2m\u001b[36m(launch_and_evaluate pid=21988)\u001b[0m 32/32 - 1s - loss: 0.0434 - accuracy: 0.9870 - 724ms/epoch - 23ms/step\n",
            "\u001b[2m\u001b[36m(launch_and_evaluate pid=21640)\u001b[0m 32/32 - 1s - loss: 0.0270 - accuracy: 0.9880 - 670ms/epoch - 21ms/step\n"
          ]
        },
        {
          "name": "stderr",
          "output_type": "stream",
          "text": [
            "DEBUG flwr 2023-04-11 18:21:18,330 | server.py:179 | evaluate_round 19 received 10 results and 0 failures\n",
            "DEBUG flwr 2023-04-11 18:21:18,331 | server.py:215 | fit_round 20: strategy sampled 9 clients (out of 10)\n"
          ]
        },
        {
          "name": "stdout",
          "output_type": "stream",
          "text": [
            "\u001b[2m\u001b[36m(launch_and_evaluate pid=16756)\u001b[0m 32/32 - 1s - loss: 0.0363 - accuracy: 0.9880 - 784ms/epoch - 24ms/step\n",
            "\u001b[2m\u001b[36m(launch_and_evaluate pid=24600)\u001b[0m 32/32 - 1s - loss: 0.0335 - accuracy: 0.9890 - 803ms/epoch - 25ms/step\n",
            "\u001b[2m\u001b[36m(launch_and_evaluate pid=25216)\u001b[0m 32/32 - 1s - loss: 0.0596 - accuracy: 0.9810 - 842ms/epoch - 26ms/step\n",
            "\u001b[2m\u001b[36m(launch_and_evaluate pid=17236)\u001b[0m 32/32 - 1s - loss: 0.0361 - accuracy: 0.9860 - 831ms/epoch - 26ms/step\n",
            "\u001b[2m\u001b[36m(launch_and_evaluate pid=23604)\u001b[0m 32/32 - 1s - loss: 0.0403 - accuracy: 0.9840 - 887ms/epoch - 28ms/step\n",
            "\u001b[2m\u001b[36m(launch_and_fit pid=24600)\u001b[0m 188/188 - 7s - loss: 0.0362 - accuracy: 0.9868 - 7s/epoch - 38ms/step\n",
            "\u001b[2m\u001b[36m(launch_and_fit pid=23604)\u001b[0m 188/188 - 7s - loss: 0.0379 - accuracy: 0.9878 - 7s/epoch - 39ms/step\n",
            "\u001b[2m\u001b[36m(launch_and_fit pid=16756)\u001b[0m 188/188 - 8s - loss: 0.0375 - accuracy: 0.9897 - 8s/epoch - 40ms/step\n",
            "\u001b[2m\u001b[36m(launch_and_fit pid=14996)\u001b[0m 188/188 - 8s - loss: 0.0390 - accuracy: 0.9882 - 8s/epoch - 43ms/step\n",
            "\u001b[2m\u001b[36m(launch_and_fit pid=25216)\u001b[0m 188/188 - 8s - loss: 0.0378 - accuracy: 0.9892 - 8s/epoch - 43ms/step\n",
            "\u001b[2m\u001b[36m(launch_and_fit pid=17236)\u001b[0m 188/188 - 8s - loss: 0.0310 - accuracy: 0.9907 - 8s/epoch - 43ms/step\n",
            "\u001b[2m\u001b[36m(launch_and_fit pid=20360)\u001b[0m 188/188 - 9s - loss: 0.0449 - accuracy: 0.9848 - 9s/epoch - 46ms/step\n",
            "\u001b[2m\u001b[36m(launch_and_fit pid=21988)\u001b[0m 188/188 - 9s - loss: 0.0382 - accuracy: 0.9892 - 9s/epoch - 46ms/step\n",
            "\u001b[2m\u001b[36m(launch_and_fit pid=21640)\u001b[0m 188/188 - 9s - loss: 0.0352 - accuracy: 0.9892 - 9s/epoch - 47ms/step\n"
          ]
        },
        {
          "name": "stderr",
          "output_type": "stream",
          "text": [
            "DEBUG flwr 2023-04-11 18:21:31,738 | server.py:229 | fit_round 20 received 9 results and 0 failures\n",
            "DEBUG flwr 2023-04-11 18:21:31,774 | server.py:165 | evaluate_round 20: strategy sampled 10 clients (out of 10)\n"
          ]
        },
        {
          "name": "stdout",
          "output_type": "stream",
          "text": [
            "\u001b[2m\u001b[36m(launch_and_evaluate pid=20360)\u001b[0m 32/32 - 1s - loss: 0.0394 - accuracy: 0.9830 - 560ms/epoch - 17ms/step\n"
          ]
        },
        {
          "name": "stderr",
          "output_type": "stream",
          "text": [
            "DEBUG flwr 2023-04-11 18:21:33,397 | server.py:179 | evaluate_round 20 received 10 results and 0 failures\n",
            "INFO flwr 2023-04-11 18:21:33,397 | server.py:144 | FL finished in 272.02330080000684\n",
            "INFO flwr 2023-04-11 18:21:33,399 | app.py:202 | app_fit: losses_distributed [(1, 0.24661775529384614), (2, 0.15468904227018357), (3, 0.11489611938595772), (4, 0.101633470505476), (5, 0.08430569991469383), (6, 0.07787227593362331), (7, 0.06422176621854306), (8, 0.0642566081136465), (9, 0.05878411307930946), (10, 0.05373043082654476), (11, 0.05224463418126106), (12, 0.05976810045540333), (13, 0.05243588127195835), (14, 0.05283938981592655), (15, 0.04346142318099737), (16, 0.04782375209033489), (17, 0.04382774271070957), (18, 0.04906621128320694), (19, 0.03951576296240091), (20, 0.04554538875818252)]\n",
            "INFO flwr 2023-04-11 18:21:33,399 | app.py:203 | app_fit: metrics_distributed {'accuracy': [(1, 0.9301999986171723), (2, 0.9537000000476837), (3, 0.9675999939441681), (4, 0.9693999946117401), (5, 0.9741999983787537), (6, 0.9761000037193298), (7, 0.9794000029563904), (8, 0.9804999947547912), (9, 0.9828000009059906), (10, 0.9821000099182129), (11, 0.9833000063896179), (12, 0.9805999994277954), (13, 0.9829000055789947), (14, 0.9821000039577484), (15, 0.9858999967575073), (16, 0.9842999994754791), (17, 0.9854000031948089), (18, 0.9839000105857849), (19, 0.9864000022411347), (20, 0.9825999915599823)]}\n",
            "INFO flwr 2023-04-11 18:21:33,401 | app.py:204 | app_fit: losses_centralized []\n",
            "INFO flwr 2023-04-11 18:21:33,402 | app.py:205 | app_fit: metrics_centralized {}\n"
          ]
        },
        {
          "name": "stdout",
          "output_type": "stream",
          "text": [
            "\u001b[2m\u001b[36m(launch_and_evaluate pid=16756)\u001b[0m 32/32 - 1s - loss: 0.0552 - accuracy: 0.9790 - 685ms/epoch - 21ms/step\n",
            "\u001b[2m\u001b[36m(launch_and_evaluate pid=14996)\u001b[0m 32/32 - 1s - loss: 0.0542 - accuracy: 0.9800 - 718ms/epoch - 22ms/step\n",
            "\u001b[2m\u001b[36m(launch_and_evaluate pid=21988)\u001b[0m 32/32 - 1s - loss: 0.0430 - accuracy: 0.9820 - 748ms/epoch - 23ms/step\n",
            "\u001b[2m\u001b[36m(launch_and_evaluate pid=24600)\u001b[0m 32/32 - 1s - loss: 0.0349 - accuracy: 0.9880 - 643ms/epoch - 20ms/step\n",
            "\u001b[2m\u001b[36m(launch_and_evaluate pid=21640)\u001b[0m 32/32 - 1s - loss: 0.0368 - accuracy: 0.9850 - 701ms/epoch - 22ms/step\n",
            "\u001b[2m\u001b[36m(launch_and_evaluate pid=17236)\u001b[0m 32/32 - 1s - loss: 0.0497 - accuracy: 0.9830 - 711ms/epoch - 22ms/step\n",
            "\u001b[2m\u001b[36m(launch_and_evaluate pid=23604)\u001b[0m 32/32 - 1s - loss: 0.0421 - accuracy: 0.9830 - 851ms/epoch - 27ms/step\n",
            "\u001b[2m\u001b[36m(launch_and_evaluate pid=11692)\u001b[0m 32/32 - 1s - loss: 0.0397 - accuracy: 0.9840 - 834ms/epoch - 26ms/step\n",
            "\u001b[2m\u001b[36m(launch_and_evaluate pid=25216)\u001b[0m 32/32 - 1s - loss: 0.0603 - accuracy: 0.9790 - 817ms/epoch - 26ms/step\n"
          ]
        },
        {
          "data": {
            "image/png": "[encoded data removed]",
            "text/plain": [
              "<Figure size 640x480 with 1 Axes>"
            ]
          },
          "metadata": {},
          "output_type": "display_data"
        }
      ],
      "source": [
        "num_clients = 10\n",
        "num_rounds = [10, 15, 20]\n",
        "\n",
        "# Create FedAvg strategy\n",
        "print(\"creating strategy\")\n",
        "\n",
        "strategy = fl.server.strategy.FedAvg(\n",
        "    fraction_fit=0.9,  \n",
        "    fraction_evaluate=1,  \n",
        "    min_fit_clients=9,  \n",
        "    min_evaluate_clients=9,  \n",
        "    min_available_clients=int(\n",
        "        num_clients * 0.9\n",
        "    ),  \n",
        "    evaluate_metrics_aggregation_fn=weighted_average,\n",
        ")\n",
        "\n",
        "print(\"starting simulation\")\n",
        "# Start simulation\n",
        "histories = []\n",
        "for r in num_rounds:\n",
        "    history = fl.simulation.start_simulation(\n",
        "        client_fn=client_fn_random,\n",
        "        num_clients=num_clients,\n",
        "        config=fl.server.ServerConfig(num_rounds=r),\n",
        "        strategy=strategy,\n",
        "    )\n",
        "    \n",
        "    # plota grafico\n",
        "    plt.plot(*zip(*history.metrics_distributed['accuracy']))\n",
        "    plt.xlabel(\"Rounds\")\n",
        "    plt.ylabel(\"Accuracy\")\n",
        "    plt.show()"
      ]
    },
    {
      "cell_type": "markdown",
      "metadata": {
        "id": "NjhS4hFxPoBt"
      },
      "source": [
        "**Atividade 2** \n",
        "\n",
        "Fizemos o aprendizado federado mediado por uma simulação, mas em um cenário real teríamos processos clientes, representando os treinadores, sendo executados em várias máquinas independentes, conectadas a um processo servidor (agregador) pela rede ou pela Internet, por exemplo. \n",
        "\n",
        "Como tarefa para casa deve-se  realizar o aprendizado federado de uma maneira mais próxima da realidade, usando processos diferentes para rodar os clientes e o servidor. \n",
        "\n",
        "Para isso será necessário criar 2 programas python, o *client.py* e o *server.py*: \n",
        "\n",
        "\n",
        "*   O *client.py* deve implementar uma classe que herda a classe  *NumpyClient*, fornecida pela biblioteca flower, instanciar um objeto dessa classe e se conectar ao servidor;\n",
        "*   O *server.py* deve configurar um servidor de aprendizado federado usando um objeto *strategy* e um objeto *serverConfigserverConfig*. Em seguida deve-se iniciar o servidor para realizar o aprendizado com (no mínimo) 5 clientes.\n",
        "\n",
        "O *server.py* e o *client.py* devem ser executados em terminais próprios. Isto é, deve se usar um minimo de  6 terminais na solução dessa tarefa: um para o  servidor e um para cada cliente (5 no mínimo). \n",
        "\n",
        "Ao final, plotar a acurácia para 2,5, 10, 20 e 40 *rounds* como a quantidade de clientes definida por você (mínimo  5).\n",
        "\n"
      ]
    },
    {
      "cell_type": "markdown",
      "metadata": {
        "id": "06-xKYJVd_t-"
      },
      "source": [
        "Dicas:\n",
        "\n",
        "\n",
        "\n",
        "*   Não é necessário utilizar várias máquinas para isso;\n",
        "\n",
        "*    Nesta atividade podemos emular uma rede por meio da interface de rede *localhost* (IP: 127.0.0.1) onde os processos treinadores e servidores podem ser executados em terminais Linux separados conectando-se pelo endereço IP 127.0.0.1;\n",
        "*   Como referência, usem a [documentação da biblioteca *flower*](https://flower.dev/docs/) na Seção QuickStart tutorials: tensorflow\n",
        "\n"
      ]
    }
  ],
  "metadata": {
    "colab": {
      "provenance": []
    },
    "kernelspec": {
      "display_name": "Python 3",
      "name": "python3"
    },
    "language_info": {
      "codemirror_mode": {
        "name": "ipython",
        "version": 3
      },
      "file_extension": ".py",
      "mimetype": "text/x-python",
      "name": "python",
      "nbconvert_exporter": "python",
      "pygments_lexer": "ipython3",
      "version": "3.10.10"
    }
  },
  "nbformat": 4,
  "nbformat_minor": 0
}
